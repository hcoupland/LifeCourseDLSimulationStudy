{
 "cells": [
  {
   "cell_type": "code",
   "execution_count": 1,
   "metadata": {},
   "outputs": [
    {
     "name": "stderr",
     "output_type": "stream",
     "text": [
      "/home/DIDE/smishra/miniconda3/envs/henvpy/lib/python3.9/site-packages/tqdm/auto.py:21: TqdmWarning: IProgress not found. Please update jupyter and ipywidgets. See https://ipywidgets.readthedocs.io/en/stable/user_install.html\n",
      "  from .autonotebook import tqdm as notebook_tqdm\n"
     ]
    }
   ],
   "source": [
    "import Data_load_neat as Data_load\n",
    "import Run_cv_learner_neat as Run_cv_learner\n",
    "\n",
    "import importlib\n",
    "import fastai\n",
    "import tsai\n",
    "importlib.reload(fastai)\n",
    "importlib.reload(tsai)\n",
    "from collections import Counter\n",
    "import numpy as np\n",
    "import torch.nn.functional as F\n",
    "from fastai.callback.tracker import EarlyStoppingCallback, ReduceLROnPlateau\n",
    "from fastai.data.transforms import Categorize\n",
    "from fastai.losses import BCEWithLogitsLossFlat, FocalLoss, FocalLossFlat\n",
    "from fastai.metrics import accuracy, BrierScore, F1Score, RocAucBinary\n",
    "from sklearn.model_selection import StratifiedKFold\n",
    "from sklearn.preprocessing import OneHotEncoder, StandardScaler\n",
    "from tsai.data.validation import combine_split_data, get_splits\n",
    "from tsai.models.InceptionTimePlus import InceptionTimePlus\n",
    "from tsai.tslearner import TSClassifier\n",
    "\n",
    "## script to control overal running of model\n",
    "\n",
    "\n",
    "\n",
    "# load in arguments from command line\n",
    "name = \"data_2real3newerbigdet\" #sys.argv[1]#\n",
    "model_name=\"InceptionTime\"#sys.argv[2]#\n",
    "randnum_split=3#int(sys.argv[3])\n",
    "epochs=1#int(sys.argv[4])\n",
    "num_optuna_trials =10# int(sys.argv[5])\n",
    "hype= \"False\"# sys.argv[6]\n",
    "imp = \"False\"\n",
    "# filepath=\"C:/Users/hlc17/Documents/DANLIFE/Simulations/Simulations/Data_simulation/\"\n",
    "filepath=\"/home/DIDE/smishra/Simulations/\"\n",
    "device=1"
   ]
  },
  {
   "cell_type": "code",
   "execution_count": 2,
   "metadata": {},
   "outputs": [
    {
     "name": "stdout",
     "output_type": "stream",
     "text": [
      "data_2real1bigdet\n",
      "(100000, 9, 40) (100000, 40) (100000, 1)\n",
      "(100000,)\n",
      "Random state set:3, cuda used: False\n",
      "Counter({0.0: 93975, 1.0: 6025}) Counter({0.0: 75180, 1.0: 4820}) Counter({0.0: 18795, 1.0: 1205})\n",
      "0.21811529\n",
      "0.21867806\n",
      "0.41296625\n",
      "0.41334954\n",
      "0.47058823738098143\n",
      "0.47098676679274615\n",
      "0.5549400592237937\n",
      "0.5546016272811708\n",
      "0.06025\n",
      "0.06025\n",
      "0.23794944315967625\n",
      "0.23794944315967625\n",
      "Data generated\n",
      "InceptionTime\n",
      "Random state set:3, cuda used: False\n",
      "Counter({0.0: 75180, 1.0: 4820})\n",
      "Counter({0.0: 67662, 1.0: 4338})\n",
      "Counter({0.0: 7518, 1.0: 482})\n",
      "  Random seed:  0\n",
      "0\n"
     ]
    },
    {
     "ename": "KeyboardInterrupt",
     "evalue": "",
     "output_type": "error",
     "traceback": [
      "\u001b[0;31m---------------------------------------------------------------------------\u001b[0m",
      "\u001b[0;31mKeyboardInterrupt\u001b[0m                         Traceback (most recent call last)",
      "Cell \u001b[0;32mIn[2], line 1\u001b[0m\n\u001b[0;32m----> 1\u001b[0m \u001b[39mfrom\u001b[39;00m \u001b[39mMain_cv_learner_neat\u001b[39;00m \u001b[39mimport\u001b[39;00m run\n",
      "File \u001b[0;32m~/Simulations/Simulations/Main_cv_learner_neat.py:95\u001b[0m\n\u001b[1;32m     92\u001b[0m     \u001b[39m# FIXME: I'm confused what I am meant to return here\u001b[39;00m\n\u001b[1;32m     93\u001b[0m     \u001b[39mreturn\u001b[39;00m output\n\u001b[0;32m---> 95\u001b[0m run(name\u001b[39m=\u001b[39;49mname, model_name\u001b[39m=\u001b[39;49mmodel_name, randnum_split\u001b[39m=\u001b[39;49mrandnum_split,epochs\u001b[39m=\u001b[39;49mepochs,num_optuna_trials\u001b[39m=\u001b[39;49mnum_optuna_trials,hype\u001b[39m=\u001b[39;49mhype, imp\u001b[39m=\u001b[39;49mimp,filepath\u001b[39m=\u001b[39;49mfilepath)\n",
      "File \u001b[0;32m~/Simulations/Simulations/Main_cv_learner_neat.py:77\u001b[0m, in \u001b[0;36mrun\u001b[0;34m(name, model_name, randnum_split, epochs, num_optuna_trials, hype, imp, filepath)\u001b[0m\n\u001b[1;32m     70\u001b[0m \u001b[39mprint\u001b[39m(\u001b[39m'\u001b[39m\u001b[39mData generated\u001b[39m\u001b[39m'\u001b[39m)\n\u001b[1;32m     72\u001b[0m \u001b[39m#pycaret_analysis.pycaret_func(Xtrainvalid, Ytrainvalid, Xtest, Ytest, splits, X, Y)\u001b[39;00m\n\u001b[1;32m     73\u001b[0m \n\u001b[1;32m     74\u001b[0m \n\u001b[1;32m     75\u001b[0m \u001b[39m## Runs hyperparameter and fits those models required\u001b[39;00m\n\u001b[1;32m     76\u001b[0m \u001b[39m#output=Run_cv_learner.All_run(name=name,model_name=model_name,X_trainvalid=X_trainvalid_s, Y_trainvalid=Y_trainvalid, X_test=X_test_s, Y_test=Y_test, randnum=randnum2,  epochs=epochs,num_optuna_trials = num_optuna_trials, hype=hype)\u001b[39;00m\n\u001b[0;32m---> 77\u001b[0m output\u001b[39m=\u001b[39mRun_cv_learner\u001b[39m.\u001b[39;49mAll_run(\n\u001b[1;32m     78\u001b[0m     name\u001b[39m=\u001b[39;49mname,\n\u001b[1;32m     79\u001b[0m     model_name\u001b[39m=\u001b[39;49mmodel_name,\n\u001b[1;32m     80\u001b[0m     X_trainvalid\u001b[39m=\u001b[39;49mX_trainvalid, \n\u001b[1;32m     81\u001b[0m     Y_trainvalid\u001b[39m=\u001b[39;49mY_trainvalid, \n\u001b[1;32m     82\u001b[0m     X_test\u001b[39m=\u001b[39;49mX_test, \n\u001b[1;32m     83\u001b[0m     Y_test\u001b[39m=\u001b[39;49mY_test, \n\u001b[1;32m     84\u001b[0m     randnum_split\u001b[39m=\u001b[39;49mrandnum_split,  \n\u001b[1;32m     85\u001b[0m     epochs\u001b[39m=\u001b[39;49mepochs,\n\u001b[1;32m     86\u001b[0m     num_optuna_trials \u001b[39m=\u001b[39;49m num_optuna_trials, \n\u001b[1;32m     87\u001b[0m     hype\u001b[39m=\u001b[39;49mhype,\n\u001b[1;32m     88\u001b[0m     imp\u001b[39m=\u001b[39;49mimp,\n\u001b[1;32m     89\u001b[0m     filepath\u001b[39m=\u001b[39;49mfilepath\n\u001b[1;32m     90\u001b[0m     )\n\u001b[1;32m     92\u001b[0m \u001b[39m# FIXME: I'm confused what I am meant to return here\u001b[39;00m\n\u001b[1;32m     93\u001b[0m \u001b[39mreturn\u001b[39;00m output\n",
      "File \u001b[0;32m~/Simulations/Simulations/Run_cv_learner_neat.py:164\u001b[0m, in \u001b[0;36mAll_run\u001b[0;34m(name, model_name, X_trainvalid, Y_trainvalid, X_test, Y_test, filepath, randnum_split, epochs, num_optuna_trials, hype, imp)\u001b[0m\n\u001b[1;32m    161\u001b[0m \u001b[39mprint\u001b[39m(\u001b[39m\"\u001b[39m\u001b[39m  Random seed: \u001b[39m\u001b[39m\"\u001b[39m,randnum)\n\u001b[1;32m    163\u001b[0m \u001b[39m# Fitting the model on train/test with pre-selected hyperparameters\u001b[39;00m\n\u001b[0;32m--> 164\u001b[0m runtime, learner \u001b[39m=\u001b[39m MLmodel_opt_learner\u001b[39m.\u001b[39;49mmodel_block_nohype(arch\u001b[39m=\u001b[39;49march,X\u001b[39m=\u001b[39;49mX_trainvalid,Y\u001b[39m=\u001b[39;49mY_trainvalid,splits\u001b[39m=\u001b[39;49msplits_9010,randnum\u001b[39m=\u001b[39;49mrandnum,epochs\u001b[39m=\u001b[39;49mepochs,lr_max\u001b[39m=\u001b[39;49mlr_max,alpha\u001b[39m=\u001b[39;49malpha,gamma\u001b[39m=\u001b[39;49mgamma,batch_size\u001b[39m=\u001b[39;49mbatch_size)\n\u001b[1;32m    165\u001b[0m \u001b[39mprint\u001b[39m(np\u001b[39m.\u001b[39mmean(X_trainvalid))\n\u001b[1;32m    166\u001b[0m \u001b[39mprint\u001b[39m(np\u001b[39m.\u001b[39mmean(X_test))\n",
      "File \u001b[0;32m~/Simulations/Simulations/MLmodel_opt_learner_neat.py:430\u001b[0m, in \u001b[0;36mmodel_block_nohype\u001b[0;34m(arch, X, Y, splits, epochs, randnum, lr_max, alpha, gamma, batch_size)\u001b[0m\n\u001b[1;32m    426\u001b[0m \u001b[39m#print('line 426')\u001b[39;00m\n\u001b[1;32m    427\u001b[0m \n\u001b[1;32m    428\u001b[0m \u001b[39m# prep the data for the model\u001b[39;00m\n\u001b[1;32m    429\u001b[0m tfms\u001b[39m=\u001b[39m[\u001b[39mNone\u001b[39;00m,[Categorize()]]\n\u001b[0;32m--> 430\u001b[0m dsets \u001b[39m=\u001b[39m TSDatasets(X, Y, tfms\u001b[39m=\u001b[39;49mtfms, splits\u001b[39m=\u001b[39;49msplits,inplace\u001b[39m=\u001b[39;49m\u001b[39mTrue\u001b[39;49;00m)\n\u001b[1;32m    432\u001b[0m \u001b[39m#print('line 430')\u001b[39;00m\n\u001b[1;32m    433\u001b[0m \n\u001b[1;32m    434\u001b[0m \u001b[39m# set up the weighted random sampler\u001b[39;00m\n\u001b[1;32m    435\u001b[0m class_weights\u001b[39m=\u001b[39mcompute_class_weight(class_weight\u001b[39m=\u001b[39m\u001b[39m'\u001b[39m\u001b[39mbalanced\u001b[39m\u001b[39m'\u001b[39m,classes\u001b[39m=\u001b[39mnp\u001b[39m.\u001b[39marray( [\u001b[39m0\u001b[39m,\u001b[39m1\u001b[39m]),y\u001b[39m=\u001b[39mY[splits[\u001b[39m0\u001b[39m]])\n",
      "File \u001b[0;32m~/miniconda3/envs/henvpy/lib/python3.9/site-packages/tsai/data/core.py:475\u001b[0m, in \u001b[0;36mTSDatasets.__init__\u001b[0;34m(self, X, y, items, sel_vars, sel_steps, tfms, tls, n_inp, dl_type, inplace, **kwargs)\u001b[0m\n\u001b[1;32m    473\u001b[0m         \u001b[39mself\u001b[39m\u001b[39m.\u001b[39mno_tfm \u001b[39m=\u001b[39m \u001b[39mTrue\u001b[39;00m\n\u001b[1;32m    474\u001b[0m     \u001b[39melse\u001b[39;00m:\n\u001b[0;32m--> 475\u001b[0m         \u001b[39mself\u001b[39m\u001b[39m.\u001b[39mptls \u001b[39m=\u001b[39m L([typ(stack(tl[:]))[\u001b[39m.\u001b[39m\u001b[39m.\u001b[39m\u001b[39m.\u001b[39m,\u001b[39mself\u001b[39m\u001b[39m.\u001b[39msel_vars, \u001b[39mself\u001b[39m\u001b[39m.\u001b[39msel_steps] \u001b[39mif\u001b[39;00m (i\u001b[39m==\u001b[39m\u001b[39m0\u001b[39m \u001b[39mand\u001b[39;00m \u001b[39mself\u001b[39m\u001b[39m.\u001b[39mmulti_index) \u001b[39melse\u001b[39;00m typ(stack(tl[:])) \\\n\u001b[1;32m    476\u001b[0m             \u001b[39mfor\u001b[39;00m i,(tl,typ) \u001b[39min\u001b[39;00m \u001b[39menumerate\u001b[39m(\u001b[39mzip\u001b[39m(\u001b[39mself\u001b[39m\u001b[39m.\u001b[39mtls,\u001b[39mself\u001b[39m\u001b[39m.\u001b[39mtyps))]) \u001b[39mif\u001b[39;00m inplace \u001b[39melse\u001b[39;00m \u001b[39mself\u001b[39m\u001b[39m.\u001b[39mtls\n\u001b[1;32m    477\u001b[0m         \u001b[39mself\u001b[39m\u001b[39m.\u001b[39mno_tfm \u001b[39m=\u001b[39m \u001b[39mFalse\u001b[39;00m\n\u001b[1;32m    478\u001b[0m \u001b[39melse\u001b[39;00m:\n",
      "File \u001b[0;32m~/miniconda3/envs/henvpy/lib/python3.9/site-packages/tsai/data/core.py:475\u001b[0m, in \u001b[0;36m<listcomp>\u001b[0;34m(.0)\u001b[0m\n\u001b[1;32m    473\u001b[0m         \u001b[39mself\u001b[39m\u001b[39m.\u001b[39mno_tfm \u001b[39m=\u001b[39m \u001b[39mTrue\u001b[39;00m\n\u001b[1;32m    474\u001b[0m     \u001b[39melse\u001b[39;00m:\n\u001b[0;32m--> 475\u001b[0m         \u001b[39mself\u001b[39m\u001b[39m.\u001b[39mptls \u001b[39m=\u001b[39m L([typ(stack(tl[:]))[\u001b[39m.\u001b[39m\u001b[39m.\u001b[39m\u001b[39m.\u001b[39m,\u001b[39mself\u001b[39m\u001b[39m.\u001b[39msel_vars, \u001b[39mself\u001b[39m\u001b[39m.\u001b[39msel_steps] \u001b[39mif\u001b[39;00m (i\u001b[39m==\u001b[39m\u001b[39m0\u001b[39m \u001b[39mand\u001b[39;00m \u001b[39mself\u001b[39m\u001b[39m.\u001b[39mmulti_index) \u001b[39melse\u001b[39;00m typ(stack(tl[:])) \\\n\u001b[1;32m    476\u001b[0m             \u001b[39mfor\u001b[39;00m i,(tl,typ) \u001b[39min\u001b[39;00m \u001b[39menumerate\u001b[39m(\u001b[39mzip\u001b[39m(\u001b[39mself\u001b[39m\u001b[39m.\u001b[39mtls,\u001b[39mself\u001b[39m\u001b[39m.\u001b[39mtyps))]) \u001b[39mif\u001b[39;00m inplace \u001b[39melse\u001b[39;00m \u001b[39mself\u001b[39m\u001b[39m.\u001b[39mtls\n\u001b[1;32m    477\u001b[0m         \u001b[39mself\u001b[39m\u001b[39m.\u001b[39mno_tfm \u001b[39m=\u001b[39m \u001b[39mFalse\u001b[39;00m\n\u001b[1;32m    478\u001b[0m \u001b[39melse\u001b[39;00m:\n",
      "File \u001b[0;32m~/miniconda3/envs/henvpy/lib/python3.9/site-packages/fastai/data/core.py:417\u001b[0m, in \u001b[0;36mTfmdLists.__getitem__\u001b[0;34m(self, idx)\u001b[0m\n\u001b[1;32m    415\u001b[0m res \u001b[39m=\u001b[39m \u001b[39msuper\u001b[39m()\u001b[39m.\u001b[39m\u001b[39m__getitem__\u001b[39m(idx)\n\u001b[1;32m    416\u001b[0m \u001b[39mif\u001b[39;00m \u001b[39mself\u001b[39m\u001b[39m.\u001b[39m_after_item \u001b[39mis\u001b[39;00m \u001b[39mNone\u001b[39;00m: \u001b[39mreturn\u001b[39;00m res\n\u001b[0;32m--> 417\u001b[0m \u001b[39mreturn\u001b[39;00m \u001b[39mself\u001b[39m\u001b[39m.\u001b[39m_after_item(res) \u001b[39mif\u001b[39;00m is_indexer(idx) \u001b[39melse\u001b[39;00m res\u001b[39m.\u001b[39;49mmap(\u001b[39mself\u001b[39;49m\u001b[39m.\u001b[39;49m_after_item)\n",
      "File \u001b[0;32m~/miniconda3/envs/henvpy/lib/python3.9/site-packages/fastcore/foundation.py:156\u001b[0m, in \u001b[0;36mL.map\u001b[0;34m(self, f, *args, **kwargs)\u001b[0m\n\u001b[0;32m--> 156\u001b[0m \u001b[39mdef\u001b[39;00m \u001b[39mmap\u001b[39m(\u001b[39mself\u001b[39m, f, \u001b[39m*\u001b[39margs, \u001b[39m*\u001b[39m\u001b[39m*\u001b[39mkwargs): \u001b[39mreturn\u001b[39;00m \u001b[39mself\u001b[39m\u001b[39m.\u001b[39m_new(map_ex(\u001b[39mself\u001b[39;49m, f, \u001b[39m*\u001b[39;49margs, gen\u001b[39m=\u001b[39;49m\u001b[39mFalse\u001b[39;49;00m, \u001b[39m*\u001b[39;49m\u001b[39m*\u001b[39;49mkwargs))\n",
      "File \u001b[0;32m~/miniconda3/envs/henvpy/lib/python3.9/site-packages/fastcore/basics.py:840\u001b[0m, in \u001b[0;36mmap_ex\u001b[0;34m(iterable, f, gen, *args, **kwargs)\u001b[0m\n\u001b[1;32m    838\u001b[0m res \u001b[39m=\u001b[39m \u001b[39mmap\u001b[39m(g, iterable)\n\u001b[1;32m    839\u001b[0m \u001b[39mif\u001b[39;00m gen: \u001b[39mreturn\u001b[39;00m res\n\u001b[0;32m--> 840\u001b[0m \u001b[39mreturn\u001b[39;00m \u001b[39mlist\u001b[39;49m(res)\n",
      "File \u001b[0;32m~/miniconda3/envs/henvpy/lib/python3.9/site-packages/fastcore/basics.py:825\u001b[0m, in \u001b[0;36mbind.__call__\u001b[0;34m(self, *args, **kwargs)\u001b[0m\n\u001b[1;32m    823\u001b[0m     \u001b[39mif\u001b[39;00m \u001b[39misinstance\u001b[39m(v,_Arg): kwargs[k] \u001b[39m=\u001b[39m args\u001b[39m.\u001b[39mpop(v\u001b[39m.\u001b[39mi)\n\u001b[1;32m    824\u001b[0m fargs \u001b[39m=\u001b[39m [args[x\u001b[39m.\u001b[39mi] \u001b[39mif\u001b[39;00m \u001b[39misinstance\u001b[39m(x, _Arg) \u001b[39melse\u001b[39;00m x \u001b[39mfor\u001b[39;00m x \u001b[39min\u001b[39;00m \u001b[39mself\u001b[39m\u001b[39m.\u001b[39mpargs] \u001b[39m+\u001b[39m args[\u001b[39mself\u001b[39m\u001b[39m.\u001b[39mmaxi\u001b[39m+\u001b[39m\u001b[39m1\u001b[39m:]\n\u001b[0;32m--> 825\u001b[0m \u001b[39mreturn\u001b[39;00m \u001b[39mself\u001b[39;49m\u001b[39m.\u001b[39;49mfunc(\u001b[39m*\u001b[39;49mfargs, \u001b[39m*\u001b[39;49m\u001b[39m*\u001b[39;49mkwargs)\n",
      "File \u001b[0;32m~/miniconda3/envs/henvpy/lib/python3.9/site-packages/fastai/data/core.py:377\u001b[0m, in \u001b[0;36mTfmdLists._after_item\u001b[0;34m(self, o)\u001b[0m\n\u001b[0;32m--> 377\u001b[0m \u001b[39mdef\u001b[39;00m \u001b[39m_after_item\u001b[39m(\u001b[39mself\u001b[39m, o): \u001b[39mreturn\u001b[39;00m \u001b[39mself\u001b[39;49m\u001b[39m.\u001b[39;49mtfms(o)\n",
      "File \u001b[0;32m~/miniconda3/envs/henvpy/lib/python3.9/site-packages/fastcore/transform.py:208\u001b[0m, in \u001b[0;36mPipeline.__call__\u001b[0;34m(self, o)\u001b[0m\n\u001b[0;32m--> 208\u001b[0m \u001b[39mdef\u001b[39;00m \u001b[39m__call__\u001b[39m(\u001b[39mself\u001b[39m, o): \u001b[39mreturn\u001b[39;00m compose_tfms(o, tfms\u001b[39m=\u001b[39;49m\u001b[39mself\u001b[39;49m\u001b[39m.\u001b[39;49mfs, split_idx\u001b[39m=\u001b[39;49m\u001b[39mself\u001b[39;49m\u001b[39m.\u001b[39;49msplit_idx)\n",
      "File \u001b[0;32m~/miniconda3/envs/henvpy/lib/python3.9/site-packages/fastcore/transform.py:158\u001b[0m, in \u001b[0;36mcompose_tfms\u001b[0;34m(x, tfms, is_enc, reverse, **kwargs)\u001b[0m\n\u001b[1;32m    156\u001b[0m \u001b[39mfor\u001b[39;00m f \u001b[39min\u001b[39;00m tfms:\n\u001b[1;32m    157\u001b[0m     \u001b[39mif\u001b[39;00m \u001b[39mnot\u001b[39;00m is_enc: f \u001b[39m=\u001b[39m f\u001b[39m.\u001b[39mdecode\n\u001b[0;32m--> 158\u001b[0m     x \u001b[39m=\u001b[39m f(x, \u001b[39m*\u001b[39;49m\u001b[39m*\u001b[39;49mkwargs)\n\u001b[1;32m    159\u001b[0m \u001b[39mreturn\u001b[39;00m x\n",
      "File \u001b[0;32m~/miniconda3/envs/henvpy/lib/python3.9/site-packages/fastcore/transform.py:81\u001b[0m, in \u001b[0;36mTransform.__call__\u001b[0;34m(self, x, **kwargs)\u001b[0m\n\u001b[0;32m---> 81\u001b[0m \u001b[39mdef\u001b[39;00m \u001b[39m__call__\u001b[39m(\u001b[39mself\u001b[39m, x, \u001b[39m*\u001b[39m\u001b[39m*\u001b[39mkwargs): \u001b[39mreturn\u001b[39;00m \u001b[39mself\u001b[39;49m\u001b[39m.\u001b[39;49m_call(\u001b[39m'\u001b[39;49m\u001b[39mencodes\u001b[39;49m\u001b[39m'\u001b[39;49m, x, \u001b[39m*\u001b[39;49m\u001b[39m*\u001b[39;49mkwargs)\n",
      "File \u001b[0;32m~/miniconda3/envs/henvpy/lib/python3.9/site-packages/fastcore/transform.py:91\u001b[0m, in \u001b[0;36mTransform._call\u001b[0;34m(self, fn, x, split_idx, **kwargs)\u001b[0m\n\u001b[1;32m     89\u001b[0m \u001b[39mdef\u001b[39;00m \u001b[39m_call\u001b[39m(\u001b[39mself\u001b[39m, fn, x, split_idx\u001b[39m=\u001b[39m\u001b[39mNone\u001b[39;00m, \u001b[39m*\u001b[39m\u001b[39m*\u001b[39mkwargs):\n\u001b[1;32m     90\u001b[0m     \u001b[39mif\u001b[39;00m split_idx\u001b[39m!=\u001b[39m\u001b[39mself\u001b[39m\u001b[39m.\u001b[39msplit_idx \u001b[39mand\u001b[39;00m \u001b[39mself\u001b[39m\u001b[39m.\u001b[39msplit_idx \u001b[39mis\u001b[39;00m \u001b[39mnot\u001b[39;00m \u001b[39mNone\u001b[39;00m: \u001b[39mreturn\u001b[39;00m x\n\u001b[0;32m---> 91\u001b[0m     \u001b[39mreturn\u001b[39;00m \u001b[39mself\u001b[39;49m\u001b[39m.\u001b[39;49m_do_call(\u001b[39mgetattr\u001b[39;49m(\u001b[39mself\u001b[39;49m, fn), x, \u001b[39m*\u001b[39;49m\u001b[39m*\u001b[39;49mkwargs)\n",
      "File \u001b[0;32m~/miniconda3/envs/henvpy/lib/python3.9/site-packages/fastcore/transform.py:97\u001b[0m, in \u001b[0;36mTransform._do_call\u001b[0;34m(self, f, x, **kwargs)\u001b[0m\n\u001b[1;32m     95\u001b[0m     \u001b[39mif\u001b[39;00m f \u001b[39mis\u001b[39;00m \u001b[39mNone\u001b[39;00m: \u001b[39mreturn\u001b[39;00m x\n\u001b[1;32m     96\u001b[0m     ret \u001b[39m=\u001b[39m f\u001b[39m.\u001b[39mreturns(x) \u001b[39mif\u001b[39;00m \u001b[39mhasattr\u001b[39m(f,\u001b[39m'\u001b[39m\u001b[39mreturns\u001b[39m\u001b[39m'\u001b[39m) \u001b[39melse\u001b[39;00m \u001b[39mNone\u001b[39;00m\n\u001b[0;32m---> 97\u001b[0m     \u001b[39mreturn\u001b[39;00m retain_type(f(x, \u001b[39m*\u001b[39;49m\u001b[39m*\u001b[39;49mkwargs), x, ret)\n\u001b[1;32m     98\u001b[0m res \u001b[39m=\u001b[39m \u001b[39mtuple\u001b[39m(\u001b[39mself\u001b[39m\u001b[39m.\u001b[39m_do_call(f, x_, \u001b[39m*\u001b[39m\u001b[39m*\u001b[39mkwargs) \u001b[39mfor\u001b[39;00m x_ \u001b[39min\u001b[39;00m x)\n\u001b[1;32m     99\u001b[0m \u001b[39mreturn\u001b[39;00m retain_type(res, x)\n",
      "File \u001b[0;32m~/miniconda3/envs/henvpy/lib/python3.9/site-packages/fastcore/dispatch.py:114\u001b[0m, in \u001b[0;36mTypeDispatch.__call__\u001b[0;34m(self, *args, **kwargs)\u001b[0m\n\u001b[1;32m    113\u001b[0m \u001b[39mdef\u001b[39;00m \u001b[39m__call__\u001b[39m(\u001b[39mself\u001b[39m, \u001b[39m*\u001b[39margs, \u001b[39m*\u001b[39m\u001b[39m*\u001b[39mkwargs):\n\u001b[0;32m--> 114\u001b[0m     ts \u001b[39m=\u001b[39m L(args)\u001b[39m.\u001b[39mmap(\u001b[39mtype\u001b[39m)[:\u001b[39m2\u001b[39m]\n\u001b[1;32m    115\u001b[0m     f \u001b[39m=\u001b[39m \u001b[39mself\u001b[39m[\u001b[39mtuple\u001b[39m(ts)]\n\u001b[1;32m    116\u001b[0m     \u001b[39mif\u001b[39;00m \u001b[39mnot\u001b[39;00m f: \u001b[39mreturn\u001b[39;00m args[\u001b[39m0\u001b[39m]\n",
      "\u001b[0;31mKeyboardInterrupt\u001b[0m: "
     ]
    }
   ],
   "source": [
    "from Main_cv_learner_neat import run"
   ]
  },
  {
   "cell_type": "code",
   "execution_count": null,
   "metadata": {},
   "outputs": [],
   "source": [
    "run(name=name, model_name=model_name, randnum_split=randnum_split,epochs=epochs,num_optuna_trials=num_optuna_trials,hype=hype, imp=imp,filepath=filepath, device=device)"
   ]
  }
 ],
 "metadata": {
  "kernelspec": {
   "display_name": "Python 3.9.7 ('henvpy')",
   "language": "python",
   "name": "python3"
  },
  "language_info": {
   "codemirror_mode": {
    "name": "ipython",
    "version": 3
   },
   "file_extension": ".py",
   "mimetype": "text/x-python",
   "name": "python",
   "nbconvert_exporter": "python",
   "pygments_lexer": "ipython3",
   "version": "3.9.7"
  },
  "orig_nbformat": 4,
  "vscode": {
   "interpreter": {
    "hash": "c889fcc8b902de8c6599faee6b7739911e38206bd1b8284575039e10fd435a37"
   }
  }
 },
 "nbformat": 4,
 "nbformat_minor": 2
}
