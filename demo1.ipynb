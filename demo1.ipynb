{
 "cells": [
  {
   "cell_type": "code",
   "execution_count": 1,
   "metadata": {},
   "outputs": [
    {
     "name": "stderr",
     "output_type": "stream",
     "text": [
      "/home/DIDE/smishra/miniconda3/envs/henvpy/lib/python3.9/site-packages/tqdm/auto.py:21: TqdmWarning: IProgress not found. Please update jupyter and ipywidgets. See https://ipywidgets.readthedocs.io/en/stable/user_install.html\n",
      "  from .autonotebook import tqdm as notebook_tqdm\n"
     ]
    }
   ],
   "source": [
    "import Data_load_neat as Data_load\n",
    "import Run_cv_learner_neat as Run_cv_learner\n",
    "\n",
    "import importlib\n",
    "import fastai\n",
    "import tsai\n",
    "import torch\n",
    "importlib.reload(fastai)\n",
    "importlib.reload(tsai)\n",
    "from collections import Counter\n",
    "import numpy as np\n",
    "import torch.nn.functional as F\n",
    "from fastai.callback.tracker import EarlyStoppingCallback, ReduceLROnPlateau\n",
    "from fastai.data.transforms import Categorize\n",
    "from fastai.losses import BCEWithLogitsLossFlat, FocalLoss, FocalLossFlat\n",
    "from fastai.metrics import accuracy, BrierScore, F1Score, RocAucBinary\n",
    "from sklearn.model_selection import StratifiedKFold\n",
    "from sklearn.preprocessing import OneHotEncoder, StandardScaler\n",
    "from tsai.data.validation import combine_split_data, get_splits\n",
    "from tsai.models.InceptionTimePlus import InceptionTimePlus\n",
    "from tsai.tslearner import TSClassifier\n",
    "\n",
    "## script to control overal running of model\n",
    "\n",
    "\n",
    "\n",
    "# load in arguments from command line\n",
    "name = \"data_2real3newerbigdet\" #sys.argv[1]#\n",
    "model_name=\"InceptionTime\"#sys.argv[2]#\n",
    "randnum_split=3#int(sys.argv[3])\n",
    "epochs=1#int(sys.argv[4])\n",
    "num_optuna_trials =10# int(sys.argv[5])\n",
    "hype= \"False\"# sys.argv[6]\n",
    "imp = \"False\"\n",
    "# filepath=\"C:/Users/hlc17/Documents/DANLIFE/Simulations/Simulations/Data_simulation/\"\n",
    "filepath=\"/home/DIDE/smishra/Simulations/\"\n",
    "device=1\n"
   ]
  },
  {
   "cell_type": "code",
   "execution_count": 2,
   "metadata": {},
   "outputs": [],
   "source": [
    "from Main_cv_learner_neat import run"
   ]
  },
  {
   "cell_type": "code",
   "execution_count": 3,
   "metadata": {},
   "outputs": [
    {
     "name": "stdout",
     "output_type": "stream",
     "text": [
      "data_2real3newerbigdet\n",
      "(100000, 9, 40) (100000, 40) (100000, 1)\n",
      "(100000,)\n",
      "Random state set:3, cuda used: True\n",
      "Counter({0.0: 95064, 1.0: 4936}) Counter({0.0: 76051, 1.0: 3949}) Counter({0.0: 19013, 1.0: 987})\n",
      "0.21845458\n",
      "0.21732083\n",
      "0.41319725\n",
      "0.41242296\n",
      "0.47058823342744044\n",
      "0.46978822565499473\n",
      "0.5549400719286119\n",
      "0.5556238224698389\n",
      "0.0493625\n",
      "0.04935\n",
      "0.21662373737370058\n",
      "0.2165977319825856\n",
      "Data generated\n",
      "InceptionTime\n",
      "Random state set:3, cuda used: True\n",
      "Counter({0.0: 76051, 1.0: 3949})\n",
      "Counter({0.0: 68446, 1.0: 3554})\n",
      "Counter({0.0: 7605, 1.0: 395})\n",
      "  Random seed:  0\n",
      "[ 0.52596207 10.12943163]\n",
      "Counter({0.0: 68446, 1.0: 3554})\n",
      "[1.46100575636268e-05, 0.0002813731007315701]\n",
      "2\n",
      "80000\n",
      "TensorCategory(0.0469, device='cuda:1')\n",
      "TensorCategory(0.0156, device='cuda:1')\n",
      "TensorCategory(0.0625, device='cuda:1')\n",
      "TensorCategory(0.0781, device='cuda:1')\n",
      "TensorCategory(0.0938, device='cuda:1')\n",
      "TensorCategory(0.0469, device='cuda:1')\n",
      "TensorCategory(0.1562, device='cuda:1')\n",
      "TensorCategory(0.0156, device='cuda:1')\n",
      "TensorCategory(0.0938, device='cuda:1')\n",
      "TensorCategory(0.0938, device='cuda:1')\n",
      "2\n",
      "40\n",
      "9\n",
      "Random state set:0, cuda used: True\n"
     ]
    },
    {
     "data": {
      "text/html": [
       "\n",
       "<style>\n",
       "    /* Turns off some styling */\n",
       "    progress {\n",
       "        /* gets rid of default border in Firefox and Opera. */\n",
       "        border: none;\n",
       "        /* Needs to be in here for Safari polyfill so background images work as expected. */\n",
       "        background-size: auto;\n",
       "    }\n",
       "    progress:not([value]), progress:not([value])::-webkit-progress-bar {\n",
       "        background: repeating-linear-gradient(45deg, #7e7e7e, #7e7e7e 10px, #5c5c5c 10px, #5c5c5c 20px);\n",
       "    }\n",
       "    .progress-bar-interrupted, .progress-bar-interrupted::-webkit-progress-bar {\n",
       "        background: #F44336;\n",
       "    }\n",
       "</style>\n"
      ],
      "text/plain": [
       "<IPython.core.display.HTML object>"
      ]
     },
     "metadata": {},
     "output_type": "display_data"
    },
    {
     "data": {
      "text/html": [
       "<table border=\"1\" class=\"dataframe\">\n",
       "  <thead>\n",
       "    <tr style=\"text-align: left;\">\n",
       "      <th>epoch</th>\n",
       "      <th>train_loss</th>\n",
       "      <th>valid_loss</th>\n",
       "      <th>accuracy</th>\n",
       "      <th>f1_score</th>\n",
       "      <th>roc_auc_score</th>\n",
       "      <th>brier_score_loss</th>\n",
       "      <th>time</th>\n",
       "    </tr>\n",
       "  </thead>\n",
       "  <tbody>\n",
       "    <tr>\n",
       "      <td>0</td>\n",
       "      <td>0.000216</td>\n",
       "      <td>0.000191</td>\n",
       "      <td>0.996500</td>\n",
       "      <td>0.964824</td>\n",
       "      <td>0.999575</td>\n",
       "      <td>0.003500</td>\n",
       "      <td>00:54</td>\n",
       "    </tr>\n",
       "  </tbody>\n",
       "</table>"
      ],
      "text/plain": [
       "<IPython.core.display.HTML object>"
      ]
     },
     "metadata": {},
     "output_type": "display_data"
    },
    {
     "name": "stdout",
     "output_type": "stream",
     "text": [
      "0.21845458\n",
      "0.21732083\n",
      "0.41319725\n",
      "0.41242296\n",
      "0.0493625\n",
      "0.04935\n",
      "0.21662373737370058\n",
      "0.2165977319825856\n"
     ]
    },
    {
     "data": {
      "text/html": [
       "\n",
       "<style>\n",
       "    /* Turns off some styling */\n",
       "    progress {\n",
       "        /* gets rid of default border in Firefox and Opera. */\n",
       "        border: none;\n",
       "        /* Needs to be in here for Safari polyfill so background images work as expected. */\n",
       "        background-size: auto;\n",
       "    }\n",
       "    progress:not([value]), progress:not([value])::-webkit-progress-bar {\n",
       "        background: repeating-linear-gradient(45deg, #7e7e7e, #7e7e7e 10px, #5c5c5c 10px, #5c5c5c 20px);\n",
       "    }\n",
       "    .progress-bar-interrupted, .progress-bar-interrupted::-webkit-progress-bar {\n",
       "        background: #F44336;\n",
       "    }\n",
       "</style>\n"
      ],
      "text/plain": [
       "<IPython.core.display.HTML object>"
      ]
     },
     "metadata": {},
     "output_type": "display_data"
    },
    {
     "data": {
      "text/html": [],
      "text/plain": [
       "<IPython.core.display.HTML object>"
      ]
     },
     "metadata": {},
     "output_type": "display_data"
    },
    {
     "name": "stdout",
     "output_type": "stream",
     "text": [
      "Y equal 0:\n",
      "[0.013781662, 0.076460004, 0.745302]\n",
      "Y equal 1:\n",
      "[0.34211707, 0.69293916, 0.96213305]\n",
      "accuracy: 0.9965\n",
      "precision: 0.9664\n",
      "recall: 0.9625\n",
      "f1: 0.9645\n",
      "auc: 0.9804\n",
      "prc: 0.9321\n",
      "Y 0, predicted 0 (true negatives)        18980.000000\n",
      "Y 0, predicted 1 (false positives)       33.000000\n",
      "Y 1, predicted 0 (false negatives)       37.000000\n",
      "Y 1, predicted 1 (true positives)        950.000000\n",
      "  Random seed:  1\n",
      "[ 0.52596207 10.12943163]\n",
      "Counter({0.0: 68446, 1.0: 3554})\n",
      "[1.46100575636268e-05, 0.0002813731007315701]\n",
      "2\n",
      "80000\n",
      "TensorCategory(0.1094, device='cuda:1')\n",
      "TensorCategory(0.0312, device='cuda:1')\n",
      "TensorCategory(0.0312, device='cuda:1')\n",
      "TensorCategory(0.0625, device='cuda:1')\n",
      "TensorCategory(0.0938, device='cuda:1')\n",
      "TensorCategory(0.0469, device='cuda:1')\n",
      "TensorCategory(0.0625, device='cuda:1')\n",
      "TensorCategory(0.0625, device='cuda:1')\n",
      "TensorCategory(0., device='cuda:1')\n",
      "TensorCategory(0.0469, device='cuda:1')\n",
      "2\n",
      "40\n",
      "9\n",
      "Random state set:1, cuda used: True\n"
     ]
    },
    {
     "data": {
      "text/html": [
       "\n",
       "<style>\n",
       "    /* Turns off some styling */\n",
       "    progress {\n",
       "        /* gets rid of default border in Firefox and Opera. */\n",
       "        border: none;\n",
       "        /* Needs to be in here for Safari polyfill so background images work as expected. */\n",
       "        background-size: auto;\n",
       "    }\n",
       "    progress:not([value]), progress:not([value])::-webkit-progress-bar {\n",
       "        background: repeating-linear-gradient(45deg, #7e7e7e, #7e7e7e 10px, #5c5c5c 10px, #5c5c5c 20px);\n",
       "    }\n",
       "    .progress-bar-interrupted, .progress-bar-interrupted::-webkit-progress-bar {\n",
       "        background: #F44336;\n",
       "    }\n",
       "</style>\n"
      ],
      "text/plain": [
       "<IPython.core.display.HTML object>"
      ]
     },
     "metadata": {},
     "output_type": "display_data"
    },
    {
     "data": {
      "text/html": [
       "<table border=\"1\" class=\"dataframe\">\n",
       "  <thead>\n",
       "    <tr style=\"text-align: left;\">\n",
       "      <th>epoch</th>\n",
       "      <th>train_loss</th>\n",
       "      <th>valid_loss</th>\n",
       "      <th>accuracy</th>\n",
       "      <th>f1_score</th>\n",
       "      <th>roc_auc_score</th>\n",
       "      <th>brier_score_loss</th>\n",
       "      <th>time</th>\n",
       "    </tr>\n",
       "  </thead>\n",
       "  <tbody>\n",
       "    <tr>\n",
       "      <td>0</td>\n",
       "      <td>0.000210</td>\n",
       "      <td>0.000194</td>\n",
       "      <td>0.997125</td>\n",
       "      <td>0.970996</td>\n",
       "      <td>0.999597</td>\n",
       "      <td>0.002875</td>\n",
       "      <td>00:55</td>\n",
       "    </tr>\n",
       "  </tbody>\n",
       "</table>"
      ],
      "text/plain": [
       "<IPython.core.display.HTML object>"
      ]
     },
     "metadata": {},
     "output_type": "display_data"
    },
    {
     "name": "stdout",
     "output_type": "stream",
     "text": [
      "0.21845458\n",
      "0.21732083\n",
      "0.41319725\n",
      "0.41242296\n",
      "0.0493625\n",
      "0.04935\n",
      "0.21662373737370058\n",
      "0.2165977319825856\n"
     ]
    },
    {
     "data": {
      "text/html": [
       "\n",
       "<style>\n",
       "    /* Turns off some styling */\n",
       "    progress {\n",
       "        /* gets rid of default border in Firefox and Opera. */\n",
       "        border: none;\n",
       "        /* Needs to be in here for Safari polyfill so background images work as expected. */\n",
       "        background-size: auto;\n",
       "    }\n",
       "    progress:not([value]), progress:not([value])::-webkit-progress-bar {\n",
       "        background: repeating-linear-gradient(45deg, #7e7e7e, #7e7e7e 10px, #5c5c5c 10px, #5c5c5c 20px);\n",
       "    }\n",
       "    .progress-bar-interrupted, .progress-bar-interrupted::-webkit-progress-bar {\n",
       "        background: #F44336;\n",
       "    }\n",
       "</style>\n"
      ],
      "text/plain": [
       "<IPython.core.display.HTML object>"
      ]
     },
     "metadata": {},
     "output_type": "display_data"
    },
    {
     "data": {
      "text/html": [],
      "text/plain": [
       "<IPython.core.display.HTML object>"
      ]
     },
     "metadata": {},
     "output_type": "display_data"
    },
    {
     "name": "stdout",
     "output_type": "stream",
     "text": [
      "Y equal 0:\n",
      "[0.014081463, 0.07723344, 0.7536305]\n",
      "Y equal 1:\n",
      "[0.344608, 0.6964447, 0.94393706]\n",
      "accuracy: 0.9968\n",
      "precision: 0.9695\n",
      "recall: 0.9645\n",
      "f1: 0.9670\n",
      "auc: 0.9815\n",
      "prc: 0.9368\n",
      "Y 0, predicted 0 (true negatives)        18983.000000\n",
      "Y 0, predicted 1 (false positives)       30.000000\n",
      "Y 1, predicted 0 (false negatives)       35.000000\n",
      "Y 1, predicted 1 (true positives)        952.000000\n",
      "  Random seed:  2\n",
      "[ 0.52596207 10.12943163]\n",
      "Counter({0.0: 68446, 1.0: 3554})\n",
      "[1.46100575636268e-05, 0.0002813731007315701]\n",
      "2\n",
      "80000\n",
      "TensorCategory(0.0469, device='cuda:1')\n",
      "TensorCategory(0.0938, device='cuda:1')\n",
      "TensorCategory(0.0938, device='cuda:1')\n",
      "TensorCategory(0.0625, device='cuda:1')\n",
      "TensorCategory(0.0625, device='cuda:1')\n",
      "TensorCategory(0.0625, device='cuda:1')\n",
      "TensorCategory(0.0625, device='cuda:1')\n",
      "TensorCategory(0.0469, device='cuda:1')\n",
      "TensorCategory(0.0781, device='cuda:1')\n",
      "TensorCategory(0.0469, device='cuda:1')\n",
      "2\n",
      "40\n",
      "9\n",
      "Random state set:2, cuda used: True\n"
     ]
    },
    {
     "data": {
      "text/html": [
       "\n",
       "<style>\n",
       "    /* Turns off some styling */\n",
       "    progress {\n",
       "        /* gets rid of default border in Firefox and Opera. */\n",
       "        border: none;\n",
       "        /* Needs to be in here for Safari polyfill so background images work as expected. */\n",
       "        background-size: auto;\n",
       "    }\n",
       "    progress:not([value]), progress:not([value])::-webkit-progress-bar {\n",
       "        background: repeating-linear-gradient(45deg, #7e7e7e, #7e7e7e 10px, #5c5c5c 10px, #5c5c5c 20px);\n",
       "    }\n",
       "    .progress-bar-interrupted, .progress-bar-interrupted::-webkit-progress-bar {\n",
       "        background: #F44336;\n",
       "    }\n",
       "</style>\n"
      ],
      "text/plain": [
       "<IPython.core.display.HTML object>"
      ]
     },
     "metadata": {},
     "output_type": "display_data"
    },
    {
     "data": {
      "text/html": [
       "<table border=\"1\" class=\"dataframe\">\n",
       "  <thead>\n",
       "    <tr style=\"text-align: left;\">\n",
       "      <th>epoch</th>\n",
       "      <th>train_loss</th>\n",
       "      <th>valid_loss</th>\n",
       "      <th>accuracy</th>\n",
       "      <th>f1_score</th>\n",
       "      <th>roc_auc_score</th>\n",
       "      <th>brier_score_loss</th>\n",
       "      <th>time</th>\n",
       "    </tr>\n",
       "  </thead>\n",
       "  <tbody>\n",
       "    <tr>\n",
       "      <td>0</td>\n",
       "      <td>0.000138</td>\n",
       "      <td>0.000112</td>\n",
       "      <td>0.998375</td>\n",
       "      <td>0.983730</td>\n",
       "      <td>0.999882</td>\n",
       "      <td>0.001625</td>\n",
       "      <td>00:56</td>\n",
       "    </tr>\n",
       "  </tbody>\n",
       "</table>"
      ],
      "text/plain": [
       "<IPython.core.display.HTML object>"
      ]
     },
     "metadata": {},
     "output_type": "display_data"
    },
    {
     "name": "stdout",
     "output_type": "stream",
     "text": [
      "0.21845458\n",
      "0.21732083\n",
      "0.41319725\n",
      "0.41242296\n",
      "0.0493625\n",
      "0.04935\n",
      "0.21662373737370058\n",
      "0.2165977319825856\n"
     ]
    },
    {
     "data": {
      "text/html": [
       "\n",
       "<style>\n",
       "    /* Turns off some styling */\n",
       "    progress {\n",
       "        /* gets rid of default border in Firefox and Opera. */\n",
       "        border: none;\n",
       "        /* Needs to be in here for Safari polyfill so background images work as expected. */\n",
       "        background-size: auto;\n",
       "    }\n",
       "    progress:not([value]), progress:not([value])::-webkit-progress-bar {\n",
       "        background: repeating-linear-gradient(45deg, #7e7e7e, #7e7e7e 10px, #5c5c5c 10px, #5c5c5c 20px);\n",
       "    }\n",
       "    .progress-bar-interrupted, .progress-bar-interrupted::-webkit-progress-bar {\n",
       "        background: #F44336;\n",
       "    }\n",
       "</style>\n"
      ],
      "text/plain": [
       "<IPython.core.display.HTML object>"
      ]
     },
     "metadata": {},
     "output_type": "display_data"
    },
    {
     "data": {
      "text/html": [],
      "text/plain": [
       "<IPython.core.display.HTML object>"
      ]
     },
     "metadata": {},
     "output_type": "display_data"
    },
    {
     "name": "stdout",
     "output_type": "stream",
     "text": [
      "Y equal 0:\n",
      "[0.0061186855, 0.066135146, 0.6360985]\n",
      "Y equal 1:\n",
      "[0.37053993, 0.7383633, 0.95598733]\n",
      "accuracy: 0.9977\n",
      "precision: 0.9709\n",
      "recall: 0.9818\n",
      "f1: 0.9763\n",
      "auc: 0.9901\n",
      "prc: 0.9541\n",
      "Y 0, predicted 0 (true negatives)        18984.000000\n",
      "Y 0, predicted 1 (false positives)       29.000000\n",
      "Y 1, predicted 0 (false negatives)       18.000000\n",
      "Y 1, predicted 1 (true positives)        969.000000\n"
     ]
    },
    {
     "ename": "OSError",
     "evalue": "Cannot save file into a non-existent directory: '/home/DIDE/smishra/Simulations/model_results'",
     "output_type": "error",
     "traceback": [
      "\u001b[0;31m---------------------------------------------------------------------------\u001b[0m",
      "\u001b[0;31mOSError\u001b[0m                                   Traceback (most recent call last)",
      "Cell \u001b[0;32mIn[3], line 1\u001b[0m\n\u001b[0;32m----> 1\u001b[0m run(name\u001b[39m=\u001b[39;49mname, model_name\u001b[39m=\u001b[39;49mmodel_name, randnum_split\u001b[39m=\u001b[39;49mrandnum_split,epochs\u001b[39m=\u001b[39;49mepochs,num_optuna_trials\u001b[39m=\u001b[39;49mnum_optuna_trials,hype\u001b[39m=\u001b[39;49mhype, imp\u001b[39m=\u001b[39;49mimp,filepath\u001b[39m=\u001b[39;49mfilepath, device\u001b[39m=\u001b[39;49mdevice)\n",
      "File \u001b[0;32m~/Simulations/Simulations/Main_cv_learner_neat.py:79\u001b[0m, in \u001b[0;36mrun\u001b[0;34m(name, model_name, randnum_split, epochs, num_optuna_trials, hype, imp, filepath, device)\u001b[0m\n\u001b[1;32m     72\u001b[0m \u001b[39mprint\u001b[39m(\u001b[39m'\u001b[39m\u001b[39mData generated\u001b[39m\u001b[39m'\u001b[39m)\n\u001b[1;32m     74\u001b[0m \u001b[39m#pycaret_analysis.pycaret_func(Xtrainvalid, Ytrainvalid, Xtest, Ytest, splits, X, Y)\u001b[39;00m\n\u001b[1;32m     75\u001b[0m \n\u001b[1;32m     76\u001b[0m \n\u001b[1;32m     77\u001b[0m \u001b[39m## Runs hyperparameter and fits those models required\u001b[39;00m\n\u001b[1;32m     78\u001b[0m \u001b[39m#output=Run_cv_learner.All_run(name=name,model_name=model_name,X_trainvalid=X_trainvalid_s, Y_trainvalid=Y_trainvalid, X_test=X_test_s, Y_test=Y_test, randnum=randnum2,  epochs=epochs,num_optuna_trials = num_optuna_trials, hype=hype)\u001b[39;00m\n\u001b[0;32m---> 79\u001b[0m output\u001b[39m=\u001b[39mRun_cv_learner\u001b[39m.\u001b[39;49mAll_run(\n\u001b[1;32m     80\u001b[0m     name\u001b[39m=\u001b[39;49mname,\n\u001b[1;32m     81\u001b[0m     model_name\u001b[39m=\u001b[39;49mmodel_name,\n\u001b[1;32m     82\u001b[0m     X_trainvalid\u001b[39m=\u001b[39;49mX_trainvalid, \n\u001b[1;32m     83\u001b[0m     Y_trainvalid\u001b[39m=\u001b[39;49mY_trainvalid, \n\u001b[1;32m     84\u001b[0m     X_test\u001b[39m=\u001b[39;49mX_test, \n\u001b[1;32m     85\u001b[0m     Y_test\u001b[39m=\u001b[39;49mY_test, \n\u001b[1;32m     86\u001b[0m     randnum_split\u001b[39m=\u001b[39;49mrandnum_split,  \n\u001b[1;32m     87\u001b[0m     epochs\u001b[39m=\u001b[39;49mepochs,\n\u001b[1;32m     88\u001b[0m     num_optuna_trials \u001b[39m=\u001b[39;49m num_optuna_trials, \n\u001b[1;32m     89\u001b[0m     hype\u001b[39m=\u001b[39;49mhype,\n\u001b[1;32m     90\u001b[0m     imp\u001b[39m=\u001b[39;49mimp,\n\u001b[1;32m     91\u001b[0m     filepath\u001b[39m=\u001b[39;49mfilepath,\n\u001b[1;32m     92\u001b[0m     device\u001b[39m=\u001b[39;49mdevice\n\u001b[1;32m     93\u001b[0m     )\n\u001b[1;32m     95\u001b[0m \u001b[39m# FIXME: I'm confused what I am meant to return here\u001b[39;00m\n\u001b[1;32m     96\u001b[0m \u001b[39mreturn\u001b[39;00m output\n",
      "File \u001b[0;32m~/Simulations/Simulations/Run_cv_learner_neat.py:205\u001b[0m, in \u001b[0;36mAll_run\u001b[0;34m(name, model_name, X_trainvalid, Y_trainvalid, X_test, Y_test, filepath, device, randnum_split, epochs, num_optuna_trials, hype, imp)\u001b[0m\n\u001b[1;32m    203\u001b[0m             \u001b[39mif\u001b[39;00m imp\u001b[39m==\u001b[39m\u001b[39m\"\u001b[39m\u001b[39mTrue\u001b[39m\u001b[39m\"\u001b[39m:\n\u001b[1;32m    204\u001b[0m                 learner\u001b[39m.\u001b[39mfeature_importance(show_chart\u001b[39m=\u001b[39m\u001b[39mFalse\u001b[39;00m, key_metric_idx\u001b[39m=\u001b[39m\u001b[39m4\u001b[39m)\n\u001b[0;32m--> 205\u001b[0m         output\u001b[39m.\u001b[39;49mto_csv(filepathout, index\u001b[39m=\u001b[39;49m\u001b[39mFalse\u001b[39;49;00m)\n\u001b[1;32m    206\u001b[0m         \u001b[39mprint\u001b[39m(output)\n\u001b[1;32m    207\u001b[0m \u001b[39m#sys.stdout.close()\u001b[39;00m\n",
      "File \u001b[0;32m~/miniconda3/envs/henvpy/lib/python3.9/site-packages/pandas/util/_decorators.py:211\u001b[0m, in \u001b[0;36mdeprecate_kwarg.<locals>._deprecate_kwarg.<locals>.wrapper\u001b[0;34m(*args, **kwargs)\u001b[0m\n\u001b[1;32m    209\u001b[0m     \u001b[39melse\u001b[39;00m:\n\u001b[1;32m    210\u001b[0m         kwargs[new_arg_name] \u001b[39m=\u001b[39m new_arg_value\n\u001b[0;32m--> 211\u001b[0m \u001b[39mreturn\u001b[39;00m func(\u001b[39m*\u001b[39;49margs, \u001b[39m*\u001b[39;49m\u001b[39m*\u001b[39;49mkwargs)\n",
      "File \u001b[0;32m~/miniconda3/envs/henvpy/lib/python3.9/site-packages/pandas/core/generic.py:3720\u001b[0m, in \u001b[0;36mNDFrame.to_csv\u001b[0;34m(self, path_or_buf, sep, na_rep, float_format, columns, header, index, index_label, mode, encoding, compression, quoting, quotechar, lineterminator, chunksize, date_format, doublequote, escapechar, decimal, errors, storage_options)\u001b[0m\n\u001b[1;32m   3709\u001b[0m df \u001b[39m=\u001b[39m \u001b[39mself\u001b[39m \u001b[39mif\u001b[39;00m \u001b[39misinstance\u001b[39m(\u001b[39mself\u001b[39m, ABCDataFrame) \u001b[39melse\u001b[39;00m \u001b[39mself\u001b[39m\u001b[39m.\u001b[39mto_frame()\n\u001b[1;32m   3711\u001b[0m formatter \u001b[39m=\u001b[39m DataFrameFormatter(\n\u001b[1;32m   3712\u001b[0m     frame\u001b[39m=\u001b[39mdf,\n\u001b[1;32m   3713\u001b[0m     header\u001b[39m=\u001b[39mheader,\n\u001b[0;32m   (...)\u001b[0m\n\u001b[1;32m   3717\u001b[0m     decimal\u001b[39m=\u001b[39mdecimal,\n\u001b[1;32m   3718\u001b[0m )\n\u001b[0;32m-> 3720\u001b[0m \u001b[39mreturn\u001b[39;00m DataFrameRenderer(formatter)\u001b[39m.\u001b[39;49mto_csv(\n\u001b[1;32m   3721\u001b[0m     path_or_buf,\n\u001b[1;32m   3722\u001b[0m     lineterminator\u001b[39m=\u001b[39;49mlineterminator,\n\u001b[1;32m   3723\u001b[0m     sep\u001b[39m=\u001b[39;49msep,\n\u001b[1;32m   3724\u001b[0m     encoding\u001b[39m=\u001b[39;49mencoding,\n\u001b[1;32m   3725\u001b[0m     errors\u001b[39m=\u001b[39;49merrors,\n\u001b[1;32m   3726\u001b[0m     compression\u001b[39m=\u001b[39;49mcompression,\n\u001b[1;32m   3727\u001b[0m     quoting\u001b[39m=\u001b[39;49mquoting,\n\u001b[1;32m   3728\u001b[0m     columns\u001b[39m=\u001b[39;49mcolumns,\n\u001b[1;32m   3729\u001b[0m     index_label\u001b[39m=\u001b[39;49mindex_label,\n\u001b[1;32m   3730\u001b[0m     mode\u001b[39m=\u001b[39;49mmode,\n\u001b[1;32m   3731\u001b[0m     chunksize\u001b[39m=\u001b[39;49mchunksize,\n\u001b[1;32m   3732\u001b[0m     quotechar\u001b[39m=\u001b[39;49mquotechar,\n\u001b[1;32m   3733\u001b[0m     date_format\u001b[39m=\u001b[39;49mdate_format,\n\u001b[1;32m   3734\u001b[0m     doublequote\u001b[39m=\u001b[39;49mdoublequote,\n\u001b[1;32m   3735\u001b[0m     escapechar\u001b[39m=\u001b[39;49mescapechar,\n\u001b[1;32m   3736\u001b[0m     storage_options\u001b[39m=\u001b[39;49mstorage_options,\n\u001b[1;32m   3737\u001b[0m )\n",
      "File \u001b[0;32m~/miniconda3/envs/henvpy/lib/python3.9/site-packages/pandas/util/_decorators.py:211\u001b[0m, in \u001b[0;36mdeprecate_kwarg.<locals>._deprecate_kwarg.<locals>.wrapper\u001b[0;34m(*args, **kwargs)\u001b[0m\n\u001b[1;32m    209\u001b[0m     \u001b[39melse\u001b[39;00m:\n\u001b[1;32m    210\u001b[0m         kwargs[new_arg_name] \u001b[39m=\u001b[39m new_arg_value\n\u001b[0;32m--> 211\u001b[0m \u001b[39mreturn\u001b[39;00m func(\u001b[39m*\u001b[39;49margs, \u001b[39m*\u001b[39;49m\u001b[39m*\u001b[39;49mkwargs)\n",
      "File \u001b[0;32m~/miniconda3/envs/henvpy/lib/python3.9/site-packages/pandas/io/formats/format.py:1189\u001b[0m, in \u001b[0;36mDataFrameRenderer.to_csv\u001b[0;34m(self, path_or_buf, encoding, sep, columns, index_label, mode, compression, quoting, quotechar, lineterminator, chunksize, date_format, doublequote, escapechar, errors, storage_options)\u001b[0m\n\u001b[1;32m   1168\u001b[0m     created_buffer \u001b[39m=\u001b[39m \u001b[39mFalse\u001b[39;00m\n\u001b[1;32m   1170\u001b[0m csv_formatter \u001b[39m=\u001b[39m CSVFormatter(\n\u001b[1;32m   1171\u001b[0m     path_or_buf\u001b[39m=\u001b[39mpath_or_buf,\n\u001b[1;32m   1172\u001b[0m     lineterminator\u001b[39m=\u001b[39mlineterminator,\n\u001b[0;32m   (...)\u001b[0m\n\u001b[1;32m   1187\u001b[0m     formatter\u001b[39m=\u001b[39m\u001b[39mself\u001b[39m\u001b[39m.\u001b[39mfmt,\n\u001b[1;32m   1188\u001b[0m )\n\u001b[0;32m-> 1189\u001b[0m csv_formatter\u001b[39m.\u001b[39;49msave()\n\u001b[1;32m   1191\u001b[0m \u001b[39mif\u001b[39;00m created_buffer:\n\u001b[1;32m   1192\u001b[0m     \u001b[39massert\u001b[39;00m \u001b[39misinstance\u001b[39m(path_or_buf, StringIO)\n",
      "File \u001b[0;32m~/miniconda3/envs/henvpy/lib/python3.9/site-packages/pandas/io/formats/csvs.py:241\u001b[0m, in \u001b[0;36mCSVFormatter.save\u001b[0;34m(self)\u001b[0m\n\u001b[1;32m    237\u001b[0m \u001b[39m\"\"\"\u001b[39;00m\n\u001b[1;32m    238\u001b[0m \u001b[39mCreate the writer & save.\u001b[39;00m\n\u001b[1;32m    239\u001b[0m \u001b[39m\"\"\"\u001b[39;00m\n\u001b[1;32m    240\u001b[0m \u001b[39m# apply compression and byte/text conversion\u001b[39;00m\n\u001b[0;32m--> 241\u001b[0m \u001b[39mwith\u001b[39;00m get_handle(\n\u001b[1;32m    242\u001b[0m     \u001b[39mself\u001b[39;49m\u001b[39m.\u001b[39;49mfilepath_or_buffer,\n\u001b[1;32m    243\u001b[0m     \u001b[39mself\u001b[39;49m\u001b[39m.\u001b[39;49mmode,\n\u001b[1;32m    244\u001b[0m     encoding\u001b[39m=\u001b[39;49m\u001b[39mself\u001b[39;49m\u001b[39m.\u001b[39;49mencoding,\n\u001b[1;32m    245\u001b[0m     errors\u001b[39m=\u001b[39;49m\u001b[39mself\u001b[39;49m\u001b[39m.\u001b[39;49merrors,\n\u001b[1;32m    246\u001b[0m     compression\u001b[39m=\u001b[39;49m\u001b[39mself\u001b[39;49m\u001b[39m.\u001b[39;49mcompression,\n\u001b[1;32m    247\u001b[0m     storage_options\u001b[39m=\u001b[39;49m\u001b[39mself\u001b[39;49m\u001b[39m.\u001b[39;49mstorage_options,\n\u001b[1;32m    248\u001b[0m ) \u001b[39mas\u001b[39;00m handles:\n\u001b[1;32m    249\u001b[0m \n\u001b[1;32m    250\u001b[0m     \u001b[39m# Note: self.encoding is irrelevant here\u001b[39;00m\n\u001b[1;32m    251\u001b[0m     \u001b[39mself\u001b[39m\u001b[39m.\u001b[39mwriter \u001b[39m=\u001b[39m csvlib\u001b[39m.\u001b[39mwriter(\n\u001b[1;32m    252\u001b[0m         handles\u001b[39m.\u001b[39mhandle,\n\u001b[1;32m    253\u001b[0m         lineterminator\u001b[39m=\u001b[39m\u001b[39mself\u001b[39m\u001b[39m.\u001b[39mlineterminator,\n\u001b[0;32m   (...)\u001b[0m\n\u001b[1;32m    258\u001b[0m         quotechar\u001b[39m=\u001b[39m\u001b[39mself\u001b[39m\u001b[39m.\u001b[39mquotechar,\n\u001b[1;32m    259\u001b[0m     )\n\u001b[1;32m    261\u001b[0m     \u001b[39mself\u001b[39m\u001b[39m.\u001b[39m_save()\n",
      "File \u001b[0;32m~/miniconda3/envs/henvpy/lib/python3.9/site-packages/pandas/io/common.py:734\u001b[0m, in \u001b[0;36mget_handle\u001b[0;34m(path_or_buf, mode, encoding, compression, memory_map, is_text, errors, storage_options)\u001b[0m\n\u001b[1;32m    732\u001b[0m \u001b[39m# Only for write methods\u001b[39;00m\n\u001b[1;32m    733\u001b[0m \u001b[39mif\u001b[39;00m \u001b[39m\"\u001b[39m\u001b[39mr\u001b[39m\u001b[39m\"\u001b[39m \u001b[39mnot\u001b[39;00m \u001b[39min\u001b[39;00m mode \u001b[39mand\u001b[39;00m is_path:\n\u001b[0;32m--> 734\u001b[0m     check_parent_directory(\u001b[39mstr\u001b[39;49m(handle))\n\u001b[1;32m    736\u001b[0m \u001b[39mif\u001b[39;00m compression:\n\u001b[1;32m    737\u001b[0m     \u001b[39mif\u001b[39;00m compression \u001b[39m!=\u001b[39m \u001b[39m\"\u001b[39m\u001b[39mzstd\u001b[39m\u001b[39m\"\u001b[39m:\n\u001b[1;32m    738\u001b[0m         \u001b[39m# compression libraries do not like an explicit text-mode\u001b[39;00m\n",
      "File \u001b[0;32m~/miniconda3/envs/henvpy/lib/python3.9/site-packages/pandas/io/common.py:597\u001b[0m, in \u001b[0;36mcheck_parent_directory\u001b[0;34m(path)\u001b[0m\n\u001b[1;32m    595\u001b[0m parent \u001b[39m=\u001b[39m Path(path)\u001b[39m.\u001b[39mparent\n\u001b[1;32m    596\u001b[0m \u001b[39mif\u001b[39;00m \u001b[39mnot\u001b[39;00m parent\u001b[39m.\u001b[39mis_dir():\n\u001b[0;32m--> 597\u001b[0m     \u001b[39mraise\u001b[39;00m \u001b[39mOSError\u001b[39;00m(\u001b[39mrf\u001b[39m\u001b[39m\"\u001b[39m\u001b[39mCannot save file into a non-existent directory: \u001b[39m\u001b[39m'\u001b[39m\u001b[39m{\u001b[39;00mparent\u001b[39m}\u001b[39;00m\u001b[39m'\u001b[39m\u001b[39m\"\u001b[39m)\n",
      "\u001b[0;31mOSError\u001b[0m: Cannot save file into a non-existent directory: '/home/DIDE/smishra/Simulations/model_results'"
     ]
    }
   ],
   "source": [
    "run(name=name, model_name=model_name, randnum_split=randnum_split,epochs=epochs,num_optuna_trials=num_optuna_trials,hype=hype, imp=imp,filepath=filepath, device=device)"
   ]
  },
  {
   "cell_type": "code",
   "execution_count": null,
   "metadata": {},
   "outputs": [],
   "source": []
  }
 ],
 "metadata": {
  "kernelspec": {
   "display_name": "Python 3.9.7 ('henvpy')",
   "language": "python",
   "name": "python3"
  },
  "language_info": {
   "codemirror_mode": {
    "name": "ipython",
    "version": 3
   },
   "file_extension": ".py",
   "mimetype": "text/x-python",
   "name": "python",
   "nbconvert_exporter": "python",
   "pygments_lexer": "ipython3",
   "version": "3.9.7"
  },
  "orig_nbformat": 4,
  "vscode": {
   "interpreter": {
    "hash": "c889fcc8b902de8c6599faee6b7739911e38206bd1b8284575039e10fd435a37"
   }
  }
 },
 "nbformat": 4,
 "nbformat_minor": 2
}
