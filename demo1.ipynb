{
 "cells": [
  {
   "cell_type": "code",
   "execution_count": 1,
   "metadata": {},
   "outputs": [
    {
     "name": "stderr",
     "output_type": "stream",
     "text": [
      "/home/DIDE/smishra/miniconda3/envs/henvpy/lib/python3.9/site-packages/tqdm/auto.py:21: TqdmWarning: IProgress not found. Please update jupyter and ipywidgets. See https://ipywidgets.readthedocs.io/en/stable/user_install.html\n",
      "  from .autonotebook import tqdm as notebook_tqdm\n"
     ]
    }
   ],
   "source": [
    "import Data_load_neat as Data_load\n",
    "import Run_cv_learner_neat as Run_cv_learner\n",
    "\n",
    "import importlib\n",
    "import fastai\n",
    "import tsai\n",
    "import torch\n",
    "importlib.reload(fastai)\n",
    "importlib.reload(tsai)\n",
    "from collections import Counter\n",
    "import numpy as np\n",
    "import torch.nn.functional as F\n",
    "from fastai.callback.tracker import EarlyStoppingCallback, ReduceLROnPlateau\n",
    "from fastai.data.transforms import Categorize\n",
    "from fastai.losses import BCEWithLogitsLossFlat, FocalLoss, FocalLossFlat\n",
    "from fastai.metrics import accuracy, BrierScore, F1Score, RocAucBinary\n",
    "from sklearn.model_selection import StratifiedKFold\n",
    "from sklearn.preprocessing import OneHotEncoder, StandardScaler\n",
    "from tsai.data.validation import combine_split_data, get_splits\n",
    "from tsai.models.InceptionTimePlus import InceptionTimePlus\n",
    "from tsai.tslearner import TSClassifier\n",
    "\n",
    "## script to control overal running of model\n",
    "\n",
    "\n",
    "\n",
    "# load in arguments from command line\n",
    "name = \"data_2real3newerbigdet\" #sys.argv[1]#\n",
    "model_name=\"InceptionTime\"#sys.argv[2]#\n",
    "randnum_split=3#int(sys.argv[3])\n",
    "epochs=1#int(sys.argv[4])\n",
    "num_optuna_trials =10# int(sys.argv[5])\n",
    "hype= \"True\"# sys.argv[6]\n",
    "imp = \"False\"\n",
    "# filepath=\"C:/Users/hlc17/Documents/DANLIFE/Simulations/Simulations/Data_simulation/\"\n",
    "filepath=\"/home/DIDE/smishra/Simulations/\"\n",
    "device=1\n"
   ]
  },
  {
   "cell_type": "code",
   "execution_count": 2,
   "metadata": {},
   "outputs": [],
   "source": [
    "from Main_cv_learner_neat import run"
   ]
  },
  {
   "cell_type": "code",
   "execution_count": 3,
   "metadata": {},
   "outputs": [
    {
     "name": "stdout",
     "output_type": "stream",
     "text": [
      "data_2real3newerbigdet\n",
      "(100000, 9, 40) (100000, 40) (100000, 1)\n",
      "(100000,)\n",
      "Random state set:3, cuda used: True\n",
      "Counter({0.0: 95064, 1.0: 4936}) Counter({0.0: 76051, 1.0: 3949}) Counter({0.0: 19013, 1.0: 987})\n",
      "0.21845458\n",
      "0.21732083\n",
      "0.41319725\n",
      "0.41242296\n",
      "0.47058823342744044\n",
      "0.46978822565499473\n",
      "0.5549400719286119\n",
      "0.5556238224698389\n",
      "0.0493625\n",
      "0.04935\n",
      "0.21662373737370058\n",
      "0.2165977319825856\n",
      "Data generated\n",
      "InceptionTime\n",
      "Random state set:3, cuda used: True\n",
      "Counter({0.0: 76051, 1.0: 3949})\n",
      "Counter({0.0: 68446, 1.0: 3554})\n",
      "Counter({0.0: 7605, 1.0: 395})\n",
      "  Random seed:  0\n",
      "[ 0.52596207 10.12943163]\n",
      "Counter({0.0: 68446, 1.0: 3554})\n",
      "[1.46100575636268e-05, 0.0002813731007315701]\n",
      "2\n",
      "80000\n",
      "TensorCategory(0.0469, device='cuda:1')\n",
      "TensorCategory(0.0156, device='cuda:1')\n",
      "TensorCategory(0.0625, device='cuda:1')\n",
      "TensorCategory(0.0781, device='cuda:1')\n",
      "TensorCategory(0.0938, device='cuda:1')\n",
      "TensorCategory(0.0469, device='cuda:1')\n",
      "TensorCategory(0.1562, device='cuda:1')\n",
      "TensorCategory(0.0156, device='cuda:1')\n",
      "TensorCategory(0.0938, device='cuda:1')\n",
      "TensorCategory(0.0938, device='cuda:1')\n",
      "2\n",
      "40\n",
      "9\n",
      "Random state set:0, cuda used: True\n"
     ]
    },
    {
     "data": {
      "text/html": [
       "\n",
       "<style>\n",
       "    /* Turns off some styling */\n",
       "    progress {\n",
       "        /* gets rid of default border in Firefox and Opera. */\n",
       "        border: none;\n",
       "        /* Needs to be in here for Safari polyfill so background images work as expected. */\n",
       "        background-size: auto;\n",
       "    }\n",
       "    progress:not([value]), progress:not([value])::-webkit-progress-bar {\n",
       "        background: repeating-linear-gradient(45deg, #7e7e7e, #7e7e7e 10px, #5c5c5c 10px, #5c5c5c 20px);\n",
       "    }\n",
       "    .progress-bar-interrupted, .progress-bar-interrupted::-webkit-progress-bar {\n",
       "        background: #F44336;\n",
       "    }\n",
       "</style>\n"
      ],
      "text/plain": [
       "<IPython.core.display.HTML object>"
      ]
     },
     "metadata": {},
     "output_type": "display_data"
    },
    {
     "data": {
      "text/html": [
       "<table border=\"1\" class=\"dataframe\">\n",
       "  <thead>\n",
       "    <tr style=\"text-align: left;\">\n",
       "      <th>epoch</th>\n",
       "      <th>train_loss</th>\n",
       "      <th>valid_loss</th>\n",
       "      <th>accuracy</th>\n",
       "      <th>f1_score</th>\n",
       "      <th>roc_auc_score</th>\n",
       "      <th>brier_score_loss</th>\n",
       "      <th>time</th>\n",
       "    </tr>\n",
       "  </thead>\n",
       "  <tbody>\n",
       "    <tr>\n",
       "      <td>0</td>\n",
       "      <td>0.000216</td>\n",
       "      <td>0.000191</td>\n",
       "      <td>0.996500</td>\n",
       "      <td>0.964824</td>\n",
       "      <td>0.999575</td>\n",
       "      <td>0.003500</td>\n",
       "      <td>00:57</td>\n",
       "    </tr>\n",
       "  </tbody>\n",
       "</table>"
      ],
      "text/plain": [
       "<IPython.core.display.HTML object>"
      ]
     },
     "metadata": {},
     "output_type": "display_data"
    },
    {
     "name": "stdout",
     "output_type": "stream",
     "text": [
      "0.21845458\n",
      "0.21732083\n",
      "0.41319725\n",
      "0.41242296\n",
      "0.0493625\n",
      "0.04935\n",
      "0.21662373737370058\n",
      "0.2165977319825856\n"
     ]
    },
    {
     "data": {
      "text/html": [
       "\n",
       "<style>\n",
       "    /* Turns off some styling */\n",
       "    progress {\n",
       "        /* gets rid of default border in Firefox and Opera. */\n",
       "        border: none;\n",
       "        /* Needs to be in here for Safari polyfill so background images work as expected. */\n",
       "        background-size: auto;\n",
       "    }\n",
       "    progress:not([value]), progress:not([value])::-webkit-progress-bar {\n",
       "        background: repeating-linear-gradient(45deg, #7e7e7e, #7e7e7e 10px, #5c5c5c 10px, #5c5c5c 20px);\n",
       "    }\n",
       "    .progress-bar-interrupted, .progress-bar-interrupted::-webkit-progress-bar {\n",
       "        background: #F44336;\n",
       "    }\n",
       "</style>\n"
      ],
      "text/plain": [
       "<IPython.core.display.HTML object>"
      ]
     },
     "metadata": {},
     "output_type": "display_data"
    },
    {
     "data": {
      "text/html": [],
      "text/plain": [
       "<IPython.core.display.HTML object>"
      ]
     },
     "metadata": {},
     "output_type": "display_data"
    },
    {
     "name": "stdout",
     "output_type": "stream",
     "text": [
      "Y equal 0:\n",
      "[0.013781662, 0.076460004, 0.745302]\n",
      "Y equal 1:\n",
      "[0.34211707, 0.69293916, 0.96213305]\n",
      "accuracy: 0.9965\n",
      "precision: 0.9664\n",
      "recall: 0.9625\n",
      "f1: 0.9645\n",
      "auc: 0.9804\n",
      "prc: 0.9321\n",
      "Y 0, predicted 0 (true negatives)        18980.000000\n",
      "Y 0, predicted 1 (false positives)       33.000000\n",
      "Y 1, predicted 0 (false negatives)       37.000000\n",
      "Y 1, predicted 1 (true positives)        950.000000\n",
      "  Random seed:  1\n",
      "[ 0.52596207 10.12943163]\n",
      "Counter({0.0: 68446, 1.0: 3554})\n",
      "[1.46100575636268e-05, 0.0002813731007315701]\n",
      "2\n",
      "80000\n",
      "TensorCategory(0.1094, device='cuda:1')\n",
      "TensorCategory(0.0312, device='cuda:1')\n",
      "TensorCategory(0.0312, device='cuda:1')\n",
      "TensorCategory(0.0625, device='cuda:1')\n",
      "TensorCategory(0.0938, device='cuda:1')\n",
      "TensorCategory(0.0469, device='cuda:1')\n",
      "TensorCategory(0.0625, device='cuda:1')\n",
      "TensorCategory(0.0625, device='cuda:1')\n",
      "TensorCategory(0., device='cuda:1')\n",
      "TensorCategory(0.0469, device='cuda:1')\n",
      "2\n",
      "40\n",
      "9\n",
      "Random state set:1, cuda used: True\n"
     ]
    },
    {
     "data": {
      "text/html": [
       "\n",
       "<style>\n",
       "    /* Turns off some styling */\n",
       "    progress {\n",
       "        /* gets rid of default border in Firefox and Opera. */\n",
       "        border: none;\n",
       "        /* Needs to be in here for Safari polyfill so background images work as expected. */\n",
       "        background-size: auto;\n",
       "    }\n",
       "    progress:not([value]), progress:not([value])::-webkit-progress-bar {\n",
       "        background: repeating-linear-gradient(45deg, #7e7e7e, #7e7e7e 10px, #5c5c5c 10px, #5c5c5c 20px);\n",
       "    }\n",
       "    .progress-bar-interrupted, .progress-bar-interrupted::-webkit-progress-bar {\n",
       "        background: #F44336;\n",
       "    }\n",
       "</style>\n"
      ],
      "text/plain": [
       "<IPython.core.display.HTML object>"
      ]
     },
     "metadata": {},
     "output_type": "display_data"
    },
    {
     "data": {
      "text/html": [
       "<table border=\"1\" class=\"dataframe\">\n",
       "  <thead>\n",
       "    <tr style=\"text-align: left;\">\n",
       "      <th>epoch</th>\n",
       "      <th>train_loss</th>\n",
       "      <th>valid_loss</th>\n",
       "      <th>accuracy</th>\n",
       "      <th>f1_score</th>\n",
       "      <th>roc_auc_score</th>\n",
       "      <th>brier_score_loss</th>\n",
       "      <th>time</th>\n",
       "    </tr>\n",
       "  </thead>\n",
       "  <tbody>\n",
       "    <tr>\n",
       "      <td>0</td>\n",
       "      <td>0.000210</td>\n",
       "      <td>0.000194</td>\n",
       "      <td>0.997125</td>\n",
       "      <td>0.970996</td>\n",
       "      <td>0.999597</td>\n",
       "      <td>0.002875</td>\n",
       "      <td>00:59</td>\n",
       "    </tr>\n",
       "  </tbody>\n",
       "</table>"
      ],
      "text/plain": [
       "<IPython.core.display.HTML object>"
      ]
     },
     "metadata": {},
     "output_type": "display_data"
    },
    {
     "name": "stdout",
     "output_type": "stream",
     "text": [
      "0.21845458\n",
      "0.21732083\n",
      "0.41319725\n",
      "0.41242296\n",
      "0.0493625\n",
      "0.04935\n",
      "0.21662373737370058\n",
      "0.2165977319825856\n"
     ]
    },
    {
     "data": {
      "text/html": [
       "\n",
       "<style>\n",
       "    /* Turns off some styling */\n",
       "    progress {\n",
       "        /* gets rid of default border in Firefox and Opera. */\n",
       "        border: none;\n",
       "        /* Needs to be in here for Safari polyfill so background images work as expected. */\n",
       "        background-size: auto;\n",
       "    }\n",
       "    progress:not([value]), progress:not([value])::-webkit-progress-bar {\n",
       "        background: repeating-linear-gradient(45deg, #7e7e7e, #7e7e7e 10px, #5c5c5c 10px, #5c5c5c 20px);\n",
       "    }\n",
       "    .progress-bar-interrupted, .progress-bar-interrupted::-webkit-progress-bar {\n",
       "        background: #F44336;\n",
       "    }\n",
       "</style>\n"
      ],
      "text/plain": [
       "<IPython.core.display.HTML object>"
      ]
     },
     "metadata": {},
     "output_type": "display_data"
    },
    {
     "data": {
      "text/html": [],
      "text/plain": [
       "<IPython.core.display.HTML object>"
      ]
     },
     "metadata": {},
     "output_type": "display_data"
    },
    {
     "name": "stdout",
     "output_type": "stream",
     "text": [
      "Y equal 0:\n",
      "[0.014081463, 0.07723344, 0.7536305]\n",
      "Y equal 1:\n",
      "[0.344608, 0.6964447, 0.94393706]\n",
      "accuracy: 0.9968\n",
      "precision: 0.9695\n",
      "recall: 0.9645\n",
      "f1: 0.9670\n",
      "auc: 0.9815\n",
      "prc: 0.9368\n",
      "Y 0, predicted 0 (true negatives)        18983.000000\n",
      "Y 0, predicted 1 (false positives)       30.000000\n",
      "Y 1, predicted 0 (false negatives)       35.000000\n",
      "Y 1, predicted 1 (true positives)        952.000000\n",
      "  Random seed:  2\n",
      "[ 0.52596207 10.12943163]\n",
      "Counter({0.0: 68446, 1.0: 3554})\n",
      "[1.46100575636268e-05, 0.0002813731007315701]\n",
      "2\n",
      "80000\n",
      "TensorCategory(0.0469, device='cuda:1')\n",
      "TensorCategory(0.0938, device='cuda:1')\n",
      "TensorCategory(0.0938, device='cuda:1')\n",
      "TensorCategory(0.0625, device='cuda:1')\n",
      "TensorCategory(0.0625, device='cuda:1')\n",
      "TensorCategory(0.0625, device='cuda:1')\n",
      "TensorCategory(0.0625, device='cuda:1')\n",
      "TensorCategory(0.0469, device='cuda:1')\n",
      "TensorCategory(0.0781, device='cuda:1')\n",
      "TensorCategory(0.0469, device='cuda:1')\n",
      "2\n",
      "40\n",
      "9\n",
      "Random state set:2, cuda used: True\n"
     ]
    },
    {
     "data": {
      "text/html": [
       "\n",
       "<style>\n",
       "    /* Turns off some styling */\n",
       "    progress {\n",
       "        /* gets rid of default border in Firefox and Opera. */\n",
       "        border: none;\n",
       "        /* Needs to be in here for Safari polyfill so background images work as expected. */\n",
       "        background-size: auto;\n",
       "    }\n",
       "    progress:not([value]), progress:not([value])::-webkit-progress-bar {\n",
       "        background: repeating-linear-gradient(45deg, #7e7e7e, #7e7e7e 10px, #5c5c5c 10px, #5c5c5c 20px);\n",
       "    }\n",
       "    .progress-bar-interrupted, .progress-bar-interrupted::-webkit-progress-bar {\n",
       "        background: #F44336;\n",
       "    }\n",
       "</style>\n"
      ],
      "text/plain": [
       "<IPython.core.display.HTML object>"
      ]
     },
     "metadata": {},
     "output_type": "display_data"
    },
    {
     "data": {
      "text/html": [
       "<table border=\"1\" class=\"dataframe\">\n",
       "  <thead>\n",
       "    <tr style=\"text-align: left;\">\n",
       "      <th>epoch</th>\n",
       "      <th>train_loss</th>\n",
       "      <th>valid_loss</th>\n",
       "      <th>accuracy</th>\n",
       "      <th>f1_score</th>\n",
       "      <th>roc_auc_score</th>\n",
       "      <th>brier_score_loss</th>\n",
       "      <th>time</th>\n",
       "    </tr>\n",
       "  </thead>\n",
       "  <tbody>\n",
       "    <tr>\n",
       "      <td>0</td>\n",
       "      <td>0.000138</td>\n",
       "      <td>0.000112</td>\n",
       "      <td>0.998375</td>\n",
       "      <td>0.983730</td>\n",
       "      <td>0.999882</td>\n",
       "      <td>0.001625</td>\n",
       "      <td>00:55</td>\n",
       "    </tr>\n",
       "  </tbody>\n",
       "</table>"
      ],
      "text/plain": [
       "<IPython.core.display.HTML object>"
      ]
     },
     "metadata": {},
     "output_type": "display_data"
    },
    {
     "name": "stdout",
     "output_type": "stream",
     "text": [
      "0.21845458\n",
      "0.21732083\n",
      "0.41319725\n",
      "0.41242296\n",
      "0.0493625\n",
      "0.04935\n",
      "0.21662373737370058\n",
      "0.2165977319825856\n"
     ]
    },
    {
     "data": {
      "text/html": [
       "\n",
       "<style>\n",
       "    /* Turns off some styling */\n",
       "    progress {\n",
       "        /* gets rid of default border in Firefox and Opera. */\n",
       "        border: none;\n",
       "        /* Needs to be in here for Safari polyfill so background images work as expected. */\n",
       "        background-size: auto;\n",
       "    }\n",
       "    progress:not([value]), progress:not([value])::-webkit-progress-bar {\n",
       "        background: repeating-linear-gradient(45deg, #7e7e7e, #7e7e7e 10px, #5c5c5c 10px, #5c5c5c 20px);\n",
       "    }\n",
       "    .progress-bar-interrupted, .progress-bar-interrupted::-webkit-progress-bar {\n",
       "        background: #F44336;\n",
       "    }\n",
       "</style>\n"
      ],
      "text/plain": [
       "<IPython.core.display.HTML object>"
      ]
     },
     "metadata": {},
     "output_type": "display_data"
    },
    {
     "data": {
      "text/html": [],
      "text/plain": [
       "<IPython.core.display.HTML object>"
      ]
     },
     "metadata": {},
     "output_type": "display_data"
    },
    {
     "name": "stdout",
     "output_type": "stream",
     "text": [
      "Y equal 0:\n",
      "[0.0061186855, 0.066135146, 0.6360985]\n",
      "Y equal 1:\n",
      "[0.37053993, 0.7383633, 0.95598733]\n",
      "accuracy: 0.9977\n",
      "precision: 0.9709\n",
      "recall: 0.9818\n",
      "f1: 0.9763\n",
      "auc: 0.9901\n",
      "prc: 0.9541\n",
      "Y 0, predicted 0 (true negatives)        18984.000000\n",
      "Y 0, predicted 1 (false positives)       29.000000\n",
      "Y 1, predicted 0 (false negatives)       18.000000\n",
      "Y 1, predicted 1 (true positives)        969.000000\n",
      "                     data          model seed epochs trials  accuracy  \\\n",
      "0  data_2real3newerbigdet  InceptionTime    0      1     10   0.99650   \n",
      "1  data_2real3newerbigdet  InceptionTime    1      1     10   0.99675   \n",
      "2  data_2real3newerbigdet  InceptionTime    2      1     10   0.99765   \n",
      "\n",
      "   precision    recall        f1       auc       prc   LR00 LR01 LR10 LR11  \\\n",
      "0   0.966429  0.962513  0.964467  0.980389  0.932050  18980   33   37  950   \n",
      "1   0.969450  0.964539  0.966988  0.981481  0.936822  18983   30   35  952   \n",
      "2   0.970942  0.981763  0.976322  0.990119  0.954135  18984   29   18  969   \n",
      "\n",
      "        time  lr_max batch_size  alpha gamma  \n",
      "0  57.562809   0.001         64    0.5     3  \n",
      "1  59.355837   0.001         64    0.5     3  \n",
      "2  55.702529   0.001         64    0.5     3  \n",
      "/home/DIDE/smishra/Simulations/Simulations/model_results/outputCVL_data_2real3newerbigdet_InceptionTime_rand3_epochs1_trials10_hypeFalse.csv\n"
     ]
    },
    {
     "data": {
      "text/html": [
       "<div>\n",
       "<style scoped>\n",
       "    .dataframe tbody tr th:only-of-type {\n",
       "        vertical-align: middle;\n",
       "    }\n",
       "\n",
       "    .dataframe tbody tr th {\n",
       "        vertical-align: top;\n",
       "    }\n",
       "\n",
       "    .dataframe thead th {\n",
       "        text-align: right;\n",
       "    }\n",
       "</style>\n",
       "<table border=\"1\" class=\"dataframe\">\n",
       "  <thead>\n",
       "    <tr style=\"text-align: right;\">\n",
       "      <th></th>\n",
       "      <th>data</th>\n",
       "      <th>model</th>\n",
       "      <th>seed</th>\n",
       "      <th>epochs</th>\n",
       "      <th>trials</th>\n",
       "      <th>accuracy</th>\n",
       "      <th>precision</th>\n",
       "      <th>recall</th>\n",
       "      <th>f1</th>\n",
       "      <th>auc</th>\n",
       "      <th>prc</th>\n",
       "      <th>LR00</th>\n",
       "      <th>LR01</th>\n",
       "      <th>LR10</th>\n",
       "      <th>LR11</th>\n",
       "      <th>time</th>\n",
       "      <th>lr_max</th>\n",
       "      <th>batch_size</th>\n",
       "      <th>alpha</th>\n",
       "      <th>gamma</th>\n",
       "    </tr>\n",
       "  </thead>\n",
       "  <tbody>\n",
       "    <tr>\n",
       "      <th>0</th>\n",
       "      <td>data_2real3newerbigdet</td>\n",
       "      <td>InceptionTime</td>\n",
       "      <td>0</td>\n",
       "      <td>1</td>\n",
       "      <td>10</td>\n",
       "      <td>0.99650</td>\n",
       "      <td>0.966429</td>\n",
       "      <td>0.962513</td>\n",
       "      <td>0.964467</td>\n",
       "      <td>0.980389</td>\n",
       "      <td>0.932050</td>\n",
       "      <td>18980</td>\n",
       "      <td>33</td>\n",
       "      <td>37</td>\n",
       "      <td>950</td>\n",
       "      <td>57.562809</td>\n",
       "      <td>0.001</td>\n",
       "      <td>64</td>\n",
       "      <td>0.5</td>\n",
       "      <td>3</td>\n",
       "    </tr>\n",
       "    <tr>\n",
       "      <th>1</th>\n",
       "      <td>data_2real3newerbigdet</td>\n",
       "      <td>InceptionTime</td>\n",
       "      <td>1</td>\n",
       "      <td>1</td>\n",
       "      <td>10</td>\n",
       "      <td>0.99675</td>\n",
       "      <td>0.969450</td>\n",
       "      <td>0.964539</td>\n",
       "      <td>0.966988</td>\n",
       "      <td>0.981481</td>\n",
       "      <td>0.936822</td>\n",
       "      <td>18983</td>\n",
       "      <td>30</td>\n",
       "      <td>35</td>\n",
       "      <td>952</td>\n",
       "      <td>59.355837</td>\n",
       "      <td>0.001</td>\n",
       "      <td>64</td>\n",
       "      <td>0.5</td>\n",
       "      <td>3</td>\n",
       "    </tr>\n",
       "    <tr>\n",
       "      <th>2</th>\n",
       "      <td>data_2real3newerbigdet</td>\n",
       "      <td>InceptionTime</td>\n",
       "      <td>2</td>\n",
       "      <td>1</td>\n",
       "      <td>10</td>\n",
       "      <td>0.99765</td>\n",
       "      <td>0.970942</td>\n",
       "      <td>0.981763</td>\n",
       "      <td>0.976322</td>\n",
       "      <td>0.990119</td>\n",
       "      <td>0.954135</td>\n",
       "      <td>18984</td>\n",
       "      <td>29</td>\n",
       "      <td>18</td>\n",
       "      <td>969</td>\n",
       "      <td>55.702529</td>\n",
       "      <td>0.001</td>\n",
       "      <td>64</td>\n",
       "      <td>0.5</td>\n",
       "      <td>3</td>\n",
       "    </tr>\n",
       "  </tbody>\n",
       "</table>\n",
       "</div>"
      ],
      "text/plain": [
       "                     data          model seed epochs trials  accuracy  \\\n",
       "0  data_2real3newerbigdet  InceptionTime    0      1     10   0.99650   \n",
       "1  data_2real3newerbigdet  InceptionTime    1      1     10   0.99675   \n",
       "2  data_2real3newerbigdet  InceptionTime    2      1     10   0.99765   \n",
       "\n",
       "   precision    recall        f1       auc       prc   LR00 LR01 LR10 LR11  \\\n",
       "0   0.966429  0.962513  0.964467  0.980389  0.932050  18980   33   37  950   \n",
       "1   0.969450  0.964539  0.966988  0.981481  0.936822  18983   30   35  952   \n",
       "2   0.970942  0.981763  0.976322  0.990119  0.954135  18984   29   18  969   \n",
       "\n",
       "        time  lr_max batch_size  alpha gamma  \n",
       "0  57.562809   0.001         64    0.5     3  \n",
       "1  59.355837   0.001         64    0.5     3  \n",
       "2  55.702529   0.001         64    0.5     3  "
      ]
     },
     "execution_count": 3,
     "metadata": {},
     "output_type": "execute_result"
    }
   ],
   "source": [
    "run(name=name, model_name=model_name, randnum_split=randnum_split,epochs=epochs,num_optuna_trials=num_optuna_trials,hype=hype, imp=imp,filepath=filepath, device=device)"
   ]
  },
  {
   "cell_type": "code",
   "execution_count": null,
   "metadata": {},
   "outputs": [],
   "source": []
  }
 ],
 "metadata": {
  "kernelspec": {
   "display_name": "Python 3.9.7 ('henvpy')",
   "language": "python",
   "name": "python3"
  },
  "language_info": {
   "codemirror_mode": {
    "name": "ipython",
    "version": 3
   },
   "file_extension": ".py",
   "mimetype": "text/x-python",
   "name": "python",
   "nbconvert_exporter": "python",
   "pygments_lexer": "ipython3",
   "version": "3.9.7"
  },
  "orig_nbformat": 4,
  "vscode": {
   "interpreter": {
    "hash": "c889fcc8b902de8c6599faee6b7739911e38206bd1b8284575039e10fd435a37"
   }
  }
 },
 "nbformat": 4,
 "nbformat_minor": 2
}
