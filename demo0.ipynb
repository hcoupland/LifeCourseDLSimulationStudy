{
 "cells": [
  {
   "cell_type": "code",
   "execution_count": 1,
   "metadata": {},
   "outputs": [
    {
     "name": "stderr",
     "output_type": "stream",
     "text": [
      "/home/DIDE/smishra/miniconda3/envs/henvpy/lib/python3.9/site-packages/tqdm/auto.py:21: TqdmWarning: IProgress not found. Please update jupyter and ipywidgets. See https://ipywidgets.readthedocs.io/en/stable/user_install.html\n",
      "  from .autonotebook import tqdm as notebook_tqdm\n"
     ]
    }
   ],
   "source": [
    "import Data_load_neat as Data_load\n",
    "import Run_cv_learner_neat as Run_cv_learner\n",
    "\n",
    "import importlib\n",
    "import fastai\n",
    "import tsai\n",
    "import torch\n",
    "importlib.reload(fastai)\n",
    "importlib.reload(tsai)\n",
    "from collections import Counter\n",
    "import numpy as np\n",
    "import torch.nn.functional as F\n",
    "from fastai.callback.tracker import EarlyStoppingCallback, ReduceLROnPlateau\n",
    "from fastai.data.transforms import Categorize\n",
    "from fastai.losses import BCEWithLogitsLossFlat, FocalLoss, FocalLossFlat\n",
    "from fastai.metrics import accuracy, BrierScore, F1Score, RocAucBinary\n",
    "from sklearn.model_selection import StratifiedKFold\n",
    "from sklearn.preprocessing import OneHotEncoder, StandardScaler\n",
    "from tsai.data.validation import combine_split_data, get_splits\n",
    "from tsai.models.InceptionTimePlus import InceptionTimePlus\n",
    "from tsai.tslearner import TSClassifier\n",
    "\n",
    "## script to control overal running of model\n",
    "\n",
    "\n",
    "\n",
    "# load in arguments from command line\n",
    "name = \"data_2real1bigdet\" #sys.argv[1]#\n",
    "model_name=\"InceptionTime\"#sys.argv[2]#\n",
    "randnum_split=3#int(sys.argv[3])\n",
    "epochs=1#int(sys.argv[4])\n",
    "num_optuna_trials =10# int(sys.argv[5])\n",
    "hype= \"False\"# sys.argv[6]\n",
    "imp = \"False\"\n",
    "# filepath=\"C:/Users/hlc17/Documents/DANLIFE/Simulations/Simulations/Data_simulation/\"\n",
    "filepath=\"/home/DIDE/smishra/Simulations/\"\n",
    "device=0"
   ]
  },
  {
   "cell_type": "code",
   "execution_count": 2,
   "metadata": {},
   "outputs": [],
   "source": [
    "from Main_cv_learner_neat import run"
   ]
  },
  {
   "cell_type": "code",
   "execution_count": 3,
   "metadata": {},
   "outputs": [
    {
     "name": "stdout",
     "output_type": "stream",
     "text": [
      "data_2real1bigdet\n"
     ]
    },
    {
     "ename": "FileNotFoundError",
     "evalue": "[Errno 2] No such file or directory: '/home/DIDE/smishra/Simulations/Simulations/input_data/data_2real1bigdet_X.npy'",
     "output_type": "error",
     "traceback": [
      "\u001b[0;31m---------------------------------------------------------------------------\u001b[0m",
      "\u001b[0;31mFileNotFoundError\u001b[0m                         Traceback (most recent call last)",
      "Cell \u001b[0;32mIn[3], line 1\u001b[0m\n\u001b[0;32m----> 1\u001b[0m run(name\u001b[39m=\u001b[39;49mname, model_name\u001b[39m=\u001b[39;49mmodel_name, randnum_split\u001b[39m=\u001b[39;49mrandnum_split,epochs\u001b[39m=\u001b[39;49mepochs,num_optuna_trials\u001b[39m=\u001b[39;49mnum_optuna_trials,hype\u001b[39m=\u001b[39;49mhype, imp\u001b[39m=\u001b[39;49mimp,filepath\u001b[39m=\u001b[39;49mfilepath, device\u001b[39m=\u001b[39;49mdevice)\n",
      "File \u001b[0;32m~/Simulations/Simulations/Main_cv_learner_neat.py:42\u001b[0m, in \u001b[0;36mrun\u001b[0;34m(name, model_name, randnum_split, epochs, num_optuna_trials, hype, imp, filepath, device)\u001b[0m\n\u001b[1;32m     40\u001b[0m \u001b[39mprint\u001b[39m(name)\n\u001b[1;32m     41\u001b[0m \u001b[39m## Function to load in data\u001b[39;00m\n\u001b[0;32m---> 42\u001b[0m X_raw, y_raw \u001b[39m=\u001b[39m Data_load\u001b[39m.\u001b[39;49mload_data(name\u001b[39m=\u001b[39;49mname,filepath\u001b[39m=\u001b[39;49mfilepath)\n\u001b[1;32m     44\u001b[0m \u001b[39m## Function to obtain the train/test split\u001b[39;00m\n\u001b[1;32m     45\u001b[0m X_trainvalid, Y_trainvalid, X_test, Y_test, splits \u001b[39m=\u001b[39m Data_load\u001b[39m.\u001b[39msplit_data(X\u001b[39m=\u001b[39mX_raw,Y\u001b[39m=\u001b[39my_raw,randnum\u001b[39m=\u001b[39mrandnum_split)\n",
      "File \u001b[0;32m~/Simulations/Simulations/Data_load_neat.py:144\u001b[0m, in \u001b[0;36mload_data\u001b[0;34m(name, filepath)\u001b[0m\n\u001b[1;32m    141\u001b[0m \u001b[39mdef\u001b[39;00m \u001b[39mload_data\u001b[39m(name,filepath):\n\u001b[1;32m    142\u001b[0m     \u001b[39m## function to load all the data from the filepath\u001b[39;00m\n\u001b[0;32m--> 144\u001b[0m     X_raw \u001b[39m=\u001b[39m np\u001b[39m.\u001b[39;49mload(\u001b[39m\"\u001b[39;49m\u001b[39m\"\u001b[39;49m\u001b[39m.\u001b[39;49mjoin([filepath,\u001b[39m\"\u001b[39;49m\u001b[39minput_data/\u001b[39;49m\u001b[39m\"\u001b[39;49m,name, \u001b[39m\"\u001b[39;49m\u001b[39m_X.npy\u001b[39;49m\u001b[39m\"\u001b[39;49m]))\u001b[39m.\u001b[39mastype(np\u001b[39m.\u001b[39mfloat32)\n\u001b[1;32m    146\u001b[0m     y_raw \u001b[39m=\u001b[39m np\u001b[39m.\u001b[39mload(\u001b[39m\"\u001b[39m\u001b[39m\"\u001b[39m\u001b[39m.\u001b[39mjoin([filepath,\u001b[39m\"\u001b[39m\u001b[39minput_data/\u001b[39m\u001b[39m\"\u001b[39m,name, \u001b[39m\"\u001b[39m\u001b[39m_YH.npy\u001b[39m\u001b[39m\"\u001b[39m]))\n\u001b[1;32m    148\u001b[0m     y_test \u001b[39m=\u001b[39m np\u001b[39m.\u001b[39mexpand_dims(y_raw[:, \u001b[39m-\u001b[39m\u001b[39m1\u001b[39m]\u001b[39m.\u001b[39mastype(np\u001b[39m.\u001b[39mint64), \u001b[39m-\u001b[39m\u001b[39m1\u001b[39m)\n",
      "File \u001b[0;32m~/miniconda3/envs/henvpy/lib/python3.9/site-packages/numpy/lib/npyio.py:405\u001b[0m, in \u001b[0;36mload\u001b[0;34m(file, mmap_mode, allow_pickle, fix_imports, encoding, max_header_size)\u001b[0m\n\u001b[1;32m    403\u001b[0m     own_fid \u001b[39m=\u001b[39m \u001b[39mFalse\u001b[39;00m\n\u001b[1;32m    404\u001b[0m \u001b[39melse\u001b[39;00m:\n\u001b[0;32m--> 405\u001b[0m     fid \u001b[39m=\u001b[39m stack\u001b[39m.\u001b[39menter_context(\u001b[39mopen\u001b[39;49m(os_fspath(file), \u001b[39m\"\u001b[39;49m\u001b[39mrb\u001b[39;49m\u001b[39m\"\u001b[39;49m))\n\u001b[1;32m    406\u001b[0m     own_fid \u001b[39m=\u001b[39m \u001b[39mTrue\u001b[39;00m\n\u001b[1;32m    408\u001b[0m \u001b[39m# Code to distinguish from NumPy binary files and pickles.\u001b[39;00m\n",
      "\u001b[0;31mFileNotFoundError\u001b[0m: [Errno 2] No such file or directory: '/home/DIDE/smishra/Simulations/Simulations/input_data/data_2real1bigdet_X.npy'"
     ]
    }
   ],
   "source": [
    "run(name=name, model_name=model_name, randnum_split=randnum_split,epochs=epochs,num_optuna_trials=num_optuna_trials,hype=hype, imp=imp,filepath=filepath, device=device)"
   ]
  },
  {
   "cell_type": "code",
   "execution_count": null,
   "metadata": {},
   "outputs": [],
   "source": []
  }
 ],
 "metadata": {
  "kernelspec": {
   "display_name": "Python 3.9.7 ('henvpy')",
   "language": "python",
   "name": "python3"
  },
  "language_info": {
   "codemirror_mode": {
    "name": "ipython",
    "version": 3
   },
   "file_extension": ".py",
   "mimetype": "text/x-python",
   "name": "python",
   "nbconvert_exporter": "python",
   "pygments_lexer": "ipython3",
   "version": "3.9.7"
  },
  "orig_nbformat": 4,
  "vscode": {
   "interpreter": {
    "hash": "c889fcc8b902de8c6599faee6b7739911e38206bd1b8284575039e10fd435a37"
   }
  }
 },
 "nbformat": 4,
 "nbformat_minor": 2
}
