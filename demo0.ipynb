{
 "cells": [
  {
   "cell_type": "code",
   "execution_count": 1,
   "metadata": {},
   "outputs": [
    {
     "name": "stderr",
     "output_type": "stream",
     "text": [
      "/home/DIDE/smishra/miniconda3/envs/henvpy/lib/python3.9/site-packages/tqdm/auto.py:21: TqdmWarning: IProgress not found. Please update jupyter and ipywidgets. See https://ipywidgets.readthedocs.io/en/stable/user_install.html\n",
      "  from .autonotebook import tqdm as notebook_tqdm\n"
     ]
    }
   ],
   "source": [
    "import Data_load_neat as Data_load\n",
    "import Run_cv_learner_neat as Run_cv_learner\n",
    "\n",
    "import importlib\n",
    "import fastai\n",
    "import tsai\n",
    "import torch\n",
    "importlib.reload(fastai)\n",
    "importlib.reload(tsai)\n",
    "from collections import Counter\n",
    "import numpy as np\n",
    "import torch.nn.functional as F\n",
    "from fastai.callback.tracker import EarlyStoppingCallback, ReduceLROnPlateau\n",
    "from fastai.data.transforms import Categorize\n",
    "from fastai.losses import BCEWithLogitsLossFlat, FocalLoss, FocalLossFlat\n",
    "from fastai.metrics import accuracy, BrierScore, F1Score, RocAucBinary\n",
    "from sklearn.model_selection import StratifiedKFold\n",
    "from sklearn.preprocessing import OneHotEncoder, StandardScaler\n",
    "from tsai.data.validation import combine_split_data, get_splits\n",
    "from tsai.models.InceptionTimePlus import InceptionTimePlus\n",
    "from tsai.tslearner import TSClassifier\n",
    "\n",
    "## script to control overal running of model\n",
    "\n",
    "\n",
    "\n",
    "# load in arguments from command line\n",
    "name = \"data_2real1bigdet\" #sys.argv[1]#\n",
    "model_name=\"InceptionTime\"#sys.argv[2]#\n",
    "randnum_split=3#int(sys.argv[3])\n",
    "epochs=1#int(sys.argv[4])\n",
    "num_optuna_trials =10# int(sys.argv[5])\n",
    "hype= \"True\"# sys.argv[6]\n",
    "imp = \"False\"\n",
    "# filepath=\"C:/Users/hlc17/Documents/DANLIFE/Simulations/Simulations/Data_simulation/\"\n",
    "filepath=\"/home/DIDE/smishra/Simulations/\"\n",
    "device=0"
   ]
  },
  {
   "cell_type": "code",
   "execution_count": 2,
   "metadata": {},
   "outputs": [],
   "source": [
    "from Main_cv_learner_neat import run"
   ]
  },
  {
   "cell_type": "code",
   "execution_count": 3,
   "metadata": {},
   "outputs": [
    {
     "name": "stdout",
     "output_type": "stream",
     "text": [
      "data_2real1bigdet\n",
      "(100000, 9, 40) (100000, 40) (100000, 1)\n",
      "(100000,)\n",
      "Random state set:3, cuda used: True\n",
      "Counter({0.0: 93975, 1.0: 6025}) Counter({0.0: 75180, 1.0: 4820}) Counter({0.0: 18795, 1.0: 1205})\n",
      "0.21811529\n",
      "0.21867806\n",
      "0.41296625\n",
      "0.41334954\n",
      "0.47058823738098143\n",
      "0.47098676679274615\n",
      "0.5549400592237937\n",
      "0.5546016272811708\n",
      "0.06025\n",
      "0.06025\n",
      "0.23794944315967625\n",
      "0.23794944315967625\n",
      "Data generated\n",
      "InceptionTime\n",
      "Random state set:3, cuda used: True\n",
      "Counter({0.0: 75180, 1.0: 4820})\n",
      "Counter({0.0: 67662, 1.0: 4338})\n",
      "Counter({0.0: 7518, 1.0: 482})\n",
      "  Random seed:  0\n",
      "[0.5320564  8.29875519]\n",
      "Counter({0.0: 67662, 1.0: 4338})\n",
      "[1.4779344388282935e-05, 0.0002305209774089442]\n",
      "2\n",
      "80000\n",
      "TensorCategory(0.0469, device='cuda:0')\n",
      "TensorCategory(0.0312, device='cuda:0')\n",
      "TensorCategory(0.0938, device='cuda:0')\n",
      "TensorCategory(0.0312, device='cuda:0')\n",
      "TensorCategory(0.0156, device='cuda:0')\n",
      "TensorCategory(0.0781, device='cuda:0')\n",
      "TensorCategory(0.0625, device='cuda:0')\n",
      "TensorCategory(0.0781, device='cuda:0')\n",
      "TensorCategory(0.0625, device='cuda:0')\n",
      "TensorCategory(0.0625, device='cuda:0')\n",
      "2\n",
      "40\n",
      "9\n",
      "Random state set:0, cuda used: True\n"
     ]
    },
    {
     "data": {
      "text/html": [
       "\n",
       "<style>\n",
       "    /* Turns off some styling */\n",
       "    progress {\n",
       "        /* gets rid of default border in Firefox and Opera. */\n",
       "        border: none;\n",
       "        /* Needs to be in here for Safari polyfill so background images work as expected. */\n",
       "        background-size: auto;\n",
       "    }\n",
       "    progress:not([value]), progress:not([value])::-webkit-progress-bar {\n",
       "        background: repeating-linear-gradient(45deg, #7e7e7e, #7e7e7e 10px, #5c5c5c 10px, #5c5c5c 20px);\n",
       "    }\n",
       "    .progress-bar-interrupted, .progress-bar-interrupted::-webkit-progress-bar {\n",
       "        background: #F44336;\n",
       "    }\n",
       "</style>\n"
      ],
      "text/plain": [
       "<IPython.core.display.HTML object>"
      ]
     },
     "metadata": {},
     "output_type": "display_data"
    },
    {
     "data": {
      "text/html": [
       "<table border=\"1\" class=\"dataframe\">\n",
       "  <thead>\n",
       "    <tr style=\"text-align: left;\">\n",
       "      <th>epoch</th>\n",
       "      <th>train_loss</th>\n",
       "      <th>valid_loss</th>\n",
       "      <th>accuracy</th>\n",
       "      <th>f1_score</th>\n",
       "      <th>roc_auc_score</th>\n",
       "      <th>brier_score_loss</th>\n",
       "      <th>time</th>\n",
       "    </tr>\n",
       "  </thead>\n",
       "  <tbody>\n",
       "    <tr>\n",
       "      <td>0</td>\n",
       "      <td>0.000008</td>\n",
       "      <td>0.000004</td>\n",
       "      <td>1.000000</td>\n",
       "      <td>1.000000</td>\n",
       "      <td>1.000000</td>\n",
       "      <td>0.000000</td>\n",
       "      <td>00:55</td>\n",
       "    </tr>\n",
       "  </tbody>\n",
       "</table>"
      ],
      "text/plain": [
       "<IPython.core.display.HTML object>"
      ]
     },
     "metadata": {},
     "output_type": "display_data"
    },
    {
     "name": "stdout",
     "output_type": "stream",
     "text": [
      "0.21811529\n",
      "0.21867806\n",
      "0.41296625\n",
      "0.41334954\n",
      "0.06025\n",
      "0.06025\n",
      "0.23794944315967625\n",
      "0.23794944315967625\n"
     ]
    },
    {
     "data": {
      "text/html": [
       "\n",
       "<style>\n",
       "    /* Turns off some styling */\n",
       "    progress {\n",
       "        /* gets rid of default border in Firefox and Opera. */\n",
       "        border: none;\n",
       "        /* Needs to be in here for Safari polyfill so background images work as expected. */\n",
       "        background-size: auto;\n",
       "    }\n",
       "    progress:not([value]), progress:not([value])::-webkit-progress-bar {\n",
       "        background: repeating-linear-gradient(45deg, #7e7e7e, #7e7e7e 10px, #5c5c5c 10px, #5c5c5c 20px);\n",
       "    }\n",
       "    .progress-bar-interrupted, .progress-bar-interrupted::-webkit-progress-bar {\n",
       "        background: #F44336;\n",
       "    }\n",
       "</style>\n"
      ],
      "text/plain": [
       "<IPython.core.display.HTML object>"
      ]
     },
     "metadata": {},
     "output_type": "display_data"
    },
    {
     "data": {
      "text/html": [],
      "text/plain": [
       "<IPython.core.display.HTML object>"
      ]
     },
     "metadata": {},
     "output_type": "display_data"
    },
    {
     "name": "stdout",
     "output_type": "stream",
     "text": [
      "Y equal 0:\n",
      "[0.022418, 0.0748547, 0.266144]\n",
      "Y equal 1:\n",
      "[0.7828153, 0.98010397, 0.9999695]\n",
      "accuracy: 1.0000\n",
      "precision: 1.0000\n",
      "recall: 1.0000\n",
      "f1: 1.0000\n",
      "auc: 1.0000\n",
      "prc: 1.0000\n",
      "Y 0, predicted 0 (true negatives)        18795.000000\n",
      "Y 0, predicted 1 (false positives)       0.000000\n",
      "Y 1, predicted 0 (false negatives)       0.000000\n",
      "Y 1, predicted 1 (true positives)        1205.000000\n",
      "  Random seed:  1\n",
      "[0.5320564  8.29875519]\n",
      "Counter({0.0: 67662, 1.0: 4338})\n",
      "[1.4779344388282935e-05, 0.0002305209774089442]\n",
      "2\n",
      "80000\n",
      "TensorCategory(0.0469, device='cuda:0')\n",
      "TensorCategory(0.0625, device='cuda:0')\n",
      "TensorCategory(0.0625, device='cuda:0')\n",
      "TensorCategory(0.0469, device='cuda:0')\n",
      "TensorCategory(0.0312, device='cuda:0')\n",
      "TensorCategory(0.0781, device='cuda:0')\n",
      "TensorCategory(0.0781, device='cuda:0')\n",
      "TensorCategory(0.0312, device='cuda:0')\n",
      "TensorCategory(0.0156, device='cuda:0')\n",
      "TensorCategory(0.0312, device='cuda:0')\n",
      "2\n",
      "40\n",
      "9\n",
      "Random state set:1, cuda used: True\n"
     ]
    },
    {
     "data": {
      "text/html": [
       "\n",
       "<style>\n",
       "    /* Turns off some styling */\n",
       "    progress {\n",
       "        /* gets rid of default border in Firefox and Opera. */\n",
       "        border: none;\n",
       "        /* Needs to be in here for Safari polyfill so background images work as expected. */\n",
       "        background-size: auto;\n",
       "    }\n",
       "    progress:not([value]), progress:not([value])::-webkit-progress-bar {\n",
       "        background: repeating-linear-gradient(45deg, #7e7e7e, #7e7e7e 10px, #5c5c5c 10px, #5c5c5c 20px);\n",
       "    }\n",
       "    .progress-bar-interrupted, .progress-bar-interrupted::-webkit-progress-bar {\n",
       "        background: #F44336;\n",
       "    }\n",
       "</style>\n"
      ],
      "text/plain": [
       "<IPython.core.display.HTML object>"
      ]
     },
     "metadata": {},
     "output_type": "display_data"
    },
    {
     "data": {
      "text/html": [
       "<table border=\"1\" class=\"dataframe\">\n",
       "  <thead>\n",
       "    <tr style=\"text-align: left;\">\n",
       "      <th>epoch</th>\n",
       "      <th>train_loss</th>\n",
       "      <th>valid_loss</th>\n",
       "      <th>accuracy</th>\n",
       "      <th>f1_score</th>\n",
       "      <th>roc_auc_score</th>\n",
       "      <th>brier_score_loss</th>\n",
       "      <th>time</th>\n",
       "    </tr>\n",
       "  </thead>\n",
       "  <tbody>\n",
       "    <tr>\n",
       "      <td>0</td>\n",
       "      <td>0.000005</td>\n",
       "      <td>0.000003</td>\n",
       "      <td>1.000000</td>\n",
       "      <td>1.000000</td>\n",
       "      <td>1.000000</td>\n",
       "      <td>0.000000</td>\n",
       "      <td>00:55</td>\n",
       "    </tr>\n",
       "  </tbody>\n",
       "</table>"
      ],
      "text/plain": [
       "<IPython.core.display.HTML object>"
      ]
     },
     "metadata": {},
     "output_type": "display_data"
    },
    {
     "name": "stdout",
     "output_type": "stream",
     "text": [
      "0.21811529\n",
      "0.21867806\n",
      "0.41296625\n",
      "0.41334954\n",
      "0.06025\n",
      "0.06025\n",
      "0.23794944315967625\n",
      "0.23794944315967625\n"
     ]
    },
    {
     "data": {
      "text/html": [
       "\n",
       "<style>\n",
       "    /* Turns off some styling */\n",
       "    progress {\n",
       "        /* gets rid of default border in Firefox and Opera. */\n",
       "        border: none;\n",
       "        /* Needs to be in here for Safari polyfill so background images work as expected. */\n",
       "        background-size: auto;\n",
       "    }\n",
       "    progress:not([value]), progress:not([value])::-webkit-progress-bar {\n",
       "        background: repeating-linear-gradient(45deg, #7e7e7e, #7e7e7e 10px, #5c5c5c 10px, #5c5c5c 20px);\n",
       "    }\n",
       "    .progress-bar-interrupted, .progress-bar-interrupted::-webkit-progress-bar {\n",
       "        background: #F44336;\n",
       "    }\n",
       "</style>\n"
      ],
      "text/plain": [
       "<IPython.core.display.HTML object>"
      ]
     },
     "metadata": {},
     "output_type": "display_data"
    },
    {
     "data": {
      "text/html": [],
      "text/plain": [
       "<IPython.core.display.HTML object>"
      ]
     },
     "metadata": {},
     "output_type": "display_data"
    },
    {
     "name": "stdout",
     "output_type": "stream",
     "text": [
      "Y equal 0:\n",
      "[0.026244318, 0.06871111, 0.247088]\n",
      "Y equal 1:\n",
      "[0.70934325, 0.9685251, 0.99993134]\n",
      "accuracy: 1.0000\n",
      "precision: 1.0000\n",
      "recall: 1.0000\n",
      "f1: 1.0000\n",
      "auc: 1.0000\n",
      "prc: 1.0000\n",
      "Y 0, predicted 0 (true negatives)        18795.000000\n",
      "Y 0, predicted 1 (false positives)       0.000000\n",
      "Y 1, predicted 0 (false negatives)       0.000000\n",
      "Y 1, predicted 1 (true positives)        1205.000000\n",
      "  Random seed:  2\n",
      "[0.5320564  8.29875519]\n",
      "Counter({0.0: 67662, 1.0: 4338})\n",
      "[1.4779344388282935e-05, 0.0002305209774089442]\n",
      "2\n",
      "80000\n",
      "TensorCategory(0.0781, device='cuda:0')\n",
      "TensorCategory(0.0312, device='cuda:0')\n",
      "TensorCategory(0.0625, device='cuda:0')\n",
      "TensorCategory(0.0312, device='cuda:0')\n",
      "TensorCategory(0.1094, device='cuda:0')\n",
      "TensorCategory(0.0469, device='cuda:0')\n",
      "TensorCategory(0.0781, device='cuda:0')\n",
      "TensorCategory(0.0625, device='cuda:0')\n",
      "TensorCategory(0.0156, device='cuda:0')\n",
      "TensorCategory(0.0312, device='cuda:0')\n",
      "2\n",
      "40\n",
      "9\n",
      "Random state set:2, cuda used: True\n"
     ]
    },
    {
     "data": {
      "text/html": [
       "\n",
       "<style>\n",
       "    /* Turns off some styling */\n",
       "    progress {\n",
       "        /* gets rid of default border in Firefox and Opera. */\n",
       "        border: none;\n",
       "        /* Needs to be in here for Safari polyfill so background images work as expected. */\n",
       "        background-size: auto;\n",
       "    }\n",
       "    progress:not([value]), progress:not([value])::-webkit-progress-bar {\n",
       "        background: repeating-linear-gradient(45deg, #7e7e7e, #7e7e7e 10px, #5c5c5c 10px, #5c5c5c 20px);\n",
       "    }\n",
       "    .progress-bar-interrupted, .progress-bar-interrupted::-webkit-progress-bar {\n",
       "        background: #F44336;\n",
       "    }\n",
       "</style>\n"
      ],
      "text/plain": [
       "<IPython.core.display.HTML object>"
      ]
     },
     "metadata": {},
     "output_type": "display_data"
    },
    {
     "data": {
      "text/html": [
       "<table border=\"1\" class=\"dataframe\">\n",
       "  <thead>\n",
       "    <tr style=\"text-align: left;\">\n",
       "      <th>epoch</th>\n",
       "      <th>train_loss</th>\n",
       "      <th>valid_loss</th>\n",
       "      <th>accuracy</th>\n",
       "      <th>f1_score</th>\n",
       "      <th>roc_auc_score</th>\n",
       "      <th>brier_score_loss</th>\n",
       "      <th>time</th>\n",
       "    </tr>\n",
       "  </thead>\n",
       "  <tbody>\n",
       "    <tr>\n",
       "      <td>0</td>\n",
       "      <td>0.000001</td>\n",
       "      <td>0.000001</td>\n",
       "      <td>1.000000</td>\n",
       "      <td>1.000000</td>\n",
       "      <td>1.000000</td>\n",
       "      <td>0.000000</td>\n",
       "      <td>00:55</td>\n",
       "    </tr>\n",
       "  </tbody>\n",
       "</table>"
      ],
      "text/plain": [
       "<IPython.core.display.HTML object>"
      ]
     },
     "metadata": {},
     "output_type": "display_data"
    },
    {
     "name": "stdout",
     "output_type": "stream",
     "text": [
      "0.21811529\n",
      "0.21867806\n",
      "0.41296625\n",
      "0.41334954\n",
      "0.06025\n",
      "0.06025\n",
      "0.23794944315967625\n",
      "0.23794944315967625\n"
     ]
    },
    {
     "data": {
      "text/html": [
       "\n",
       "<style>\n",
       "    /* Turns off some styling */\n",
       "    progress {\n",
       "        /* gets rid of default border in Firefox and Opera. */\n",
       "        border: none;\n",
       "        /* Needs to be in here for Safari polyfill so background images work as expected. */\n",
       "        background-size: auto;\n",
       "    }\n",
       "    progress:not([value]), progress:not([value])::-webkit-progress-bar {\n",
       "        background: repeating-linear-gradient(45deg, #7e7e7e, #7e7e7e 10px, #5c5c5c 10px, #5c5c5c 20px);\n",
       "    }\n",
       "    .progress-bar-interrupted, .progress-bar-interrupted::-webkit-progress-bar {\n",
       "        background: #F44336;\n",
       "    }\n",
       "</style>\n"
      ],
      "text/plain": [
       "<IPython.core.display.HTML object>"
      ]
     },
     "metadata": {},
     "output_type": "display_data"
    },
    {
     "data": {
      "text/html": [],
      "text/plain": [
       "<IPython.core.display.HTML object>"
      ]
     },
     "metadata": {},
     "output_type": "display_data"
    },
    {
     "name": "stdout",
     "output_type": "stream",
     "text": [
      "Y equal 0:\n",
      "[0.024430044, 0.05679729, 0.15276763]\n",
      "Y equal 1:\n",
      "[0.82487607, 0.98788506, 0.9999945]\n",
      "accuracy: 1.0000\n",
      "precision: 1.0000\n",
      "recall: 1.0000\n",
      "f1: 1.0000\n",
      "auc: 1.0000\n",
      "prc: 1.0000\n",
      "Y 0, predicted 0 (true negatives)        18795.000000\n",
      "Y 0, predicted 1 (false positives)       0.000000\n",
      "Y 1, predicted 0 (false negatives)       0.000000\n",
      "Y 1, predicted 1 (true positives)        1205.000000\n",
      "                data          model seed epochs trials  accuracy  precision  \\\n",
      "0  data_2real1bigdet  InceptionTime    0      1     10       1.0        1.0   \n",
      "1  data_2real1bigdet  InceptionTime    1      1     10       1.0        1.0   \n",
      "2  data_2real1bigdet  InceptionTime    2      1     10       1.0        1.0   \n",
      "\n",
      "   recall   f1  auc  prc   LR00 LR01 LR10  LR11       time  lr_max batch_size  \\\n",
      "0     1.0  1.0  1.0  1.0  18795    0    0  1205  55.184699   0.001         64   \n",
      "1     1.0  1.0  1.0  1.0  18795    0    0  1205  56.023733   0.001         64   \n",
      "2     1.0  1.0  1.0  1.0  18795    0    0  1205  55.817302   0.001         64   \n",
      "\n",
      "   alpha gamma  \n",
      "0    0.5     3  \n",
      "1    0.5     3  \n",
      "2    0.5     3  \n",
      "/home/DIDE/smishra/Simulations/Simulations/model_results/outputCVL_data_2real1bigdet_InceptionTime_rand3_epochs1_trials10_hypeFalse.csv\n"
     ]
    },
    {
     "data": {
      "text/html": [
       "<div>\n",
       "<style scoped>\n",
       "    .dataframe tbody tr th:only-of-type {\n",
       "        vertical-align: middle;\n",
       "    }\n",
       "\n",
       "    .dataframe tbody tr th {\n",
       "        vertical-align: top;\n",
       "    }\n",
       "\n",
       "    .dataframe thead th {\n",
       "        text-align: right;\n",
       "    }\n",
       "</style>\n",
       "<table border=\"1\" class=\"dataframe\">\n",
       "  <thead>\n",
       "    <tr style=\"text-align: right;\">\n",
       "      <th></th>\n",
       "      <th>data</th>\n",
       "      <th>model</th>\n",
       "      <th>seed</th>\n",
       "      <th>epochs</th>\n",
       "      <th>trials</th>\n",
       "      <th>accuracy</th>\n",
       "      <th>precision</th>\n",
       "      <th>recall</th>\n",
       "      <th>f1</th>\n",
       "      <th>auc</th>\n",
       "      <th>prc</th>\n",
       "      <th>LR00</th>\n",
       "      <th>LR01</th>\n",
       "      <th>LR10</th>\n",
       "      <th>LR11</th>\n",
       "      <th>time</th>\n",
       "      <th>lr_max</th>\n",
       "      <th>batch_size</th>\n",
       "      <th>alpha</th>\n",
       "      <th>gamma</th>\n",
       "    </tr>\n",
       "  </thead>\n",
       "  <tbody>\n",
       "    <tr>\n",
       "      <th>0</th>\n",
       "      <td>data_2real1bigdet</td>\n",
       "      <td>InceptionTime</td>\n",
       "      <td>0</td>\n",
       "      <td>1</td>\n",
       "      <td>10</td>\n",
       "      <td>1.0</td>\n",
       "      <td>1.0</td>\n",
       "      <td>1.0</td>\n",
       "      <td>1.0</td>\n",
       "      <td>1.0</td>\n",
       "      <td>1.0</td>\n",
       "      <td>18795</td>\n",
       "      <td>0</td>\n",
       "      <td>0</td>\n",
       "      <td>1205</td>\n",
       "      <td>55.184699</td>\n",
       "      <td>0.001</td>\n",
       "      <td>64</td>\n",
       "      <td>0.5</td>\n",
       "      <td>3</td>\n",
       "    </tr>\n",
       "    <tr>\n",
       "      <th>1</th>\n",
       "      <td>data_2real1bigdet</td>\n",
       "      <td>InceptionTime</td>\n",
       "      <td>1</td>\n",
       "      <td>1</td>\n",
       "      <td>10</td>\n",
       "      <td>1.0</td>\n",
       "      <td>1.0</td>\n",
       "      <td>1.0</td>\n",
       "      <td>1.0</td>\n",
       "      <td>1.0</td>\n",
       "      <td>1.0</td>\n",
       "      <td>18795</td>\n",
       "      <td>0</td>\n",
       "      <td>0</td>\n",
       "      <td>1205</td>\n",
       "      <td>56.023733</td>\n",
       "      <td>0.001</td>\n",
       "      <td>64</td>\n",
       "      <td>0.5</td>\n",
       "      <td>3</td>\n",
       "    </tr>\n",
       "    <tr>\n",
       "      <th>2</th>\n",
       "      <td>data_2real1bigdet</td>\n",
       "      <td>InceptionTime</td>\n",
       "      <td>2</td>\n",
       "      <td>1</td>\n",
       "      <td>10</td>\n",
       "      <td>1.0</td>\n",
       "      <td>1.0</td>\n",
       "      <td>1.0</td>\n",
       "      <td>1.0</td>\n",
       "      <td>1.0</td>\n",
       "      <td>1.0</td>\n",
       "      <td>18795</td>\n",
       "      <td>0</td>\n",
       "      <td>0</td>\n",
       "      <td>1205</td>\n",
       "      <td>55.817302</td>\n",
       "      <td>0.001</td>\n",
       "      <td>64</td>\n",
       "      <td>0.5</td>\n",
       "      <td>3</td>\n",
       "    </tr>\n",
       "  </tbody>\n",
       "</table>\n",
       "</div>"
      ],
      "text/plain": [
       "                data          model seed epochs trials  accuracy  precision  \\\n",
       "0  data_2real1bigdet  InceptionTime    0      1     10       1.0        1.0   \n",
       "1  data_2real1bigdet  InceptionTime    1      1     10       1.0        1.0   \n",
       "2  data_2real1bigdet  InceptionTime    2      1     10       1.0        1.0   \n",
       "\n",
       "   recall   f1  auc  prc   LR00 LR01 LR10  LR11       time  lr_max batch_size  \\\n",
       "0     1.0  1.0  1.0  1.0  18795    0    0  1205  55.184699   0.001         64   \n",
       "1     1.0  1.0  1.0  1.0  18795    0    0  1205  56.023733   0.001         64   \n",
       "2     1.0  1.0  1.0  1.0  18795    0    0  1205  55.817302   0.001         64   \n",
       "\n",
       "   alpha gamma  \n",
       "0    0.5     3  \n",
       "1    0.5     3  \n",
       "2    0.5     3  "
      ]
     },
     "execution_count": 3,
     "metadata": {},
     "output_type": "execute_result"
    }
   ],
   "source": [
    "run(name=name, model_name=model_name, randnum_split=randnum_split,epochs=epochs,num_optuna_trials=num_optuna_trials,hype=hype, imp=imp,filepath=filepath, device=device)"
   ]
  },
  {
   "cell_type": "code",
   "execution_count": null,
   "metadata": {},
   "outputs": [],
   "source": []
  }
 ],
 "metadata": {
  "kernelspec": {
   "display_name": "Python 3.9.7 ('henvpy')",
   "language": "python",
   "name": "python3"
  },
  "language_info": {
   "codemirror_mode": {
    "name": "ipython",
    "version": 3
   },
   "file_extension": ".py",
   "mimetype": "text/x-python",
   "name": "python",
   "nbconvert_exporter": "python",
   "pygments_lexer": "ipython3",
   "version": "3.9.7"
  },
  "orig_nbformat": 4,
  "vscode": {
   "interpreter": {
    "hash": "c889fcc8b902de8c6599faee6b7739911e38206bd1b8284575039e10fd435a37"
   }
  }
 },
 "nbformat": 4,
 "nbformat_minor": 2
}
