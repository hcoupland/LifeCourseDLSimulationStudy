{
 "cells": [
  {
   "cell_type": "code",
   "execution_count": 70,
   "metadata": {},
   "outputs": [],
   "source": [
    "# load in arguments from command line\n",
    "name = \"data_2real1bigdet\" #sys.argv[1]#\n",
    "model_name=\"ResNet\"#sys.argv[2]#\n",
    "randnum_split=3#int(sys.argv[3])\n",
    "epochs=10#int(sys.argv[4])\n",
    "num_optuna_trials =100# int(sys.argv[5])\n",
    "hype= \"True\"# sys.argv[6]\n",
    "imp = \"False\"\n",
    "device = 1#'cuda' if torch.cuda.is_available() else 'cpu'\n",
    "# filepath=\"C:/Users/hlc17/Documents/DANLIFE/Simulations/Simulations/Data_simulation/\"\n",
    "filepath=\"/home/DIDE/smishra/Simulations/\"\n",
    "folds=5"
   ]
  },
  {
   "cell_type": "code",
   "execution_count": 71,
   "metadata": {},
   "outputs": [],
   "source": [
    "import importlib\n",
    "\n",
    "import torch\n",
    "import fastai\n",
    "import tsai\n",
    "\n",
    "\n",
    "importlib.reload(fastai)\n",
    "importlib.reload(tsai)\n",
    "\n",
    "\n",
    "import Main_cv_learner_neat\n",
    "import Run_cv_learner_neat\n",
    "import MLmodel_opt_learner_neat\n",
    "importlib.reload(Main_cv_learner_neat)\n",
    "importlib.reload(Run_cv_learner_neat)\n",
    "importlib.reload(MLmodel_opt_learner_neat)\n",
    "from Main_cv_learner_neat import run"
   ]
  },
  {
   "cell_type": "code",
   "execution_count": 72,
   "metadata": {},
   "outputs": [
    {
     "name": "stdout",
     "output_type": "stream",
     "text": [
      "data_2real1bigdet\n",
      "(100000, 9, 40) (100000, 40) (100000, 1)\n",
      "(100000,)\n",
      "Random state set:3, cuda used: True\n",
      "Counter({0.0: 93975, 1.0: 6025}) Counter({0.0: 75180, 1.0: 4820}) Counter({0.0: 18795, 1.0: 1205})\n",
      "X_trainvalid: mean = 0.218; std = 0.413: min mean = 0.000: max mean = 0.611\n",
      "1\n",
      "X_test: mean = 0.219; std = 0.413: min mean = 0.003: max mean = 0.606\n",
      "0\n",
      "X_trainvalid_s: mean = 0.471; std = 0.555: min mean = 0.412: max mean = 0.529\n",
      "0\n",
      "X_test_s: mean = 0.471; std = 0.555: min mean = 0.412: max mean = 0.529\n",
      "0\n",
      "Y_trainvalid: mean = 0.060; std = 0.238\n",
      "Y_test: mean = 0.060; std = 0.238\n",
      "Data generated\n",
      "ResNet\n",
      "Random state set:3, cuda used: True\n"
     ]
    },
    {
     "name": "stderr",
     "output_type": "stream",
     "text": [
      "\u001b[32m[I 2023-04-06 20:47:53,026]\u001b[0m A new study created in memory with name: no-name-5627ba3f-984f-4e55-bbe6-d8bf8f78e197\u001b[0m\n"
     ]
    },
    {
     "name": "stdout",
     "output_type": "stream",
     "text": [
      "Counter({0.0: 75180, 1.0: 4820})\n",
      "Counter({0.0: 67662, 1.0: 4338})\n",
      "Counter({0.0: 7518, 1.0: 482})\n",
      "Random state set:3, cuda used: True\n"
     ]
    },
    {
     "name": "stderr",
     "output_type": "stream",
     "text": [
      "  0%|          | 0/100 [00:00<?, ?it/s]"
     ]
    },
    {
     "name": "stdout",
     "output_type": "stream",
     "text": [
      "TRAIN: [    0     1     2 ... 79997 79998 79999] VALID: [    4     9    18 ... 79978 79982 79994]\n",
      "mlkmodel line 238; Xvalid; shape=(16000, 9, 40); min mean = 0.0027777778450399637; max mean = 0.6111111044883728\n",
      "Random state set:3, cuda used: True\n",
      "  Random seed:  0\n"
     ]
    },
    {
     "name": "stdout",
     "output_type": "stream",
     "text": [
      "TRAIN: [    1     2     3 ... 79995 79998 79999] VALID: [    0     5    11 ... 79990 79996 79997]\n",
      "mlkmodel line 238; Xvalid; shape=(16000, 9, 40); min mean = 0.0055555556900799274; max mean = 0.6083333492279053\n",
      "Random state set:3, cuda used: True\n"
     ]
    },
    {
     "name": "stdout",
     "output_type": "stream",
     "text": [
      "TRAIN: [    0     1     3 ... 79995 79996 79997] VALID: [    2    10    34 ... 79989 79998 79999]\n",
      "mlkmodel line 238; Xvalid; shape=(16000, 9, 40); min mean = 0.008333333767950535; max mean = 0.5972222089767456\n",
      "Random state set:3, cuda used: True\n"
     ]
    },
    {
     "name": "stderr",
     "output_type": "stream",
     "text": [
      "Best trial: 0. Best value: 1:   1%|          | 1/100 [1:18:01<128:44:36, 4681.58s/it]"
     ]
    },
    {
     "name": "stdout",
     "output_type": "stream",
     "text": [
      "\u001b[32m[I 2023-04-06 22:05:54,608]\u001b[0m Trial 0 finished with value: 1.0 and parameters: {'batch_size': 64, 'ESPatience': 6, 'alpha': 0.12558531046383625, 'gamma': 1.8368990837713652, 'nf': 128, 'fc_dropout': 0.6491440476147607, 'ks': [3, 5, 7]}. Best is trial 0 with value: 1.0.\u001b[0m\n",
      "TRAIN: [    0     1     2 ... 79997 79998 79999] VALID: [    4     9    18 ... 79978 79982 79994]\n",
      "mlkmodel line 238; Xvalid; shape=(16000, 9, 40); min mean = 0.0027777778450399637; max mean = 0.6111111044883728\n",
      "Random state set:3, cuda used: True\n"
     ]
    },
    {
     "name": "stdout",
     "output_type": "stream",
     "text": [
      "TRAIN: [    1     2     3 ... 79995 79998 79999] VALID: [    0     5    11 ... 79990 79996 79997]\n",
      "mlkmodel line 238; Xvalid; shape=(16000, 9, 40); min mean = 0.0055555556900799274; max mean = 0.6083333492279053\n",
      "Random state set:3, cuda used: True\n"
     ]
    },
    {
     "name": "stderr",
     "output_type": "stream",
     "text": [
      "Best trial: 0. Best value: 1:   2%|▏         | 2/100 [2:35:29<126:54:25, 4661.89s/it]"
     ]
    },
    {
     "name": "stdout",
     "output_type": "stream",
     "text": [
      "\u001b[32m[I 2023-04-06 23:23:22,713]\u001b[0m Trial 1 finished with value: 1.0 and parameters: {'batch_size': 64, 'ESPatience': 6, 'alpha': 0.8393572864000813, 'gamma': 3.267678994884797, 'nf': 96, 'fc_dropout': 0.5104728395845122, 'ks': [3, 9, 9]}. Best is trial 0 with value: 1.0.\u001b[0m\n",
      "TRAIN: [    0     1     2 ... 79997 79998 79999] VALID: [    4     9    18 ... 79978 79982 79994]\n",
      "mlkmodel line 238; Xvalid; shape=(16000, 9, 40); min mean = 0.0027777778450399637; max mean = 0.6111111044883728\n",
      "Random state set:3, cuda used: True\n"
     ]
    },
    {
     "name": "stderr",
     "output_type": "stream",
     "text": [
      "Best trial: 0. Best value: 1:   3%|▎         | 3/100 [3:16:08<98:15:51, 3646.92s/it] "
     ]
    },
    {
     "name": "stdout",
     "output_type": "stream",
     "text": [
      "\u001b[32m[I 2023-04-07 00:04:01,824]\u001b[0m Trial 2 finished with value: 1.0 and parameters: {'batch_size': 128, 'ESPatience': 4, 'alpha': 0.7476465566487642, 'gamma': 2.2833707048870138, 'nf': 128, 'fc_dropout': 0.812765774680492, 'ks': [3, 5, 9]}. Best is trial 0 with value: 1.0.\u001b[0m\n",
      "TRAIN: [    0     1     2 ... 79997 79998 79999] VALID: [    4     9    18 ... 79978 79982 79994]\n",
      "mlkmodel line 238; Xvalid; shape=(16000, 9, 40); min mean = 0.0027777778450399637; max mean = 0.6111111044883728\n",
      "Random state set:3, cuda used: True\n"
     ]
    },
    {
     "name": "stderr",
     "output_type": "stream",
     "text": [
      "Best trial: 0. Best value: 1:   4%|▍         | 4/100 [5:49:30<155:43:42, 5839.81s/it]"
     ]
    },
    {
     "name": "stdout",
     "output_type": "stream",
     "text": [
      "\u001b[32m[I 2023-04-07 02:37:23,340]\u001b[0m Trial 3 finished with value: 1.0 and parameters: {'batch_size': 32, 'ESPatience': 6, 'alpha': 0.5002426266174407, 'gamma': 1.3517569509173049, 'nf': 128, 'fc_dropout': 0.3748708743457453, 'ks': [1, 1, 7]}. Best is trial 0 with value: 1.0.\u001b[0m\n",
      "TRAIN: [    0     1     2 ... 79997 79998 79999] VALID: [    4     9    18 ... 79978 79982 79994]\n",
      "mlkmodel line 238; Xvalid; shape=(16000, 9, 40); min mean = 0.0027777778450399637; max mean = 0.6111111044883728\n",
      "Random state set:3, cuda used: True\n"
     ]
    },
    {
     "name": "stderr",
     "output_type": "stream",
     "text": [
      "Best trial: 0. Best value: 1:   5%|▌         | 5/100 [7:02:00<139:55:45, 5302.58s/it]"
     ]
    },
    {
     "name": "stdout",
     "output_type": "stream",
     "text": [
      "\u001b[32m[I 2023-04-07 03:49:53,356]\u001b[0m Trial 4 finished with value: 1.0 and parameters: {'batch_size': 64, 'ESPatience': 2, 'alpha': 0.13988135839894578, 'gamma': 1.2201518556333573, 'nf': 128, 'fc_dropout': 0.24307557273417346, 'ks': [1, 3, 7]}. Best is trial 0 with value: 1.0.\u001b[0m\n",
      "TRAIN: [    0     1     2 ... 79997 79998 79999] VALID: [    4     9    18 ... 79978 79982 79994]\n",
      "mlkmodel line 238; Xvalid; shape=(16000, 9, 40); min mean = 0.0027777778450399637; max mean = 0.6111111044883728\n",
      "Random state set:3, cuda used: True\n"
     ]
    },
    {
     "name": "stderr",
     "output_type": "stream",
     "text": [
      "Best trial: 0. Best value: 1:   6%|▌         | 6/100 [8:15:41<130:38:06, 5003.05s/it]"
     ]
    },
    {
     "name": "stdout",
     "output_type": "stream",
     "text": [
      "\u001b[32m[I 2023-04-07 05:03:34,949]\u001b[0m Trial 5 finished with value: 1.0 and parameters: {'batch_size': 64, 'ESPatience': 2, 'alpha': 0.1617687825785512, 'gamma': 3.29253395352937, 'nf': 32, 'fc_dropout': 0.9229547313028942, 'ks': [1, 3, 3]}. Best is trial 0 with value: 1.0.\u001b[0m\n",
      "TRAIN: [    0     1     2 ... 79997 79998 79999] VALID: [    4     9    18 ... 79978 79982 79994]\n",
      "mlkmodel line 238; Xvalid; shape=(16000, 9, 40); min mean = 0.0027777778450399637; max mean = 0.6111111044883728\n",
      "Random state set:3, cuda used: True\n"
     ]
    },
    {
     "name": "stderr",
     "output_type": "stream",
     "text": [
      "Best trial: 0. Best value: 1:   7%|▋         | 7/100 [8:56:28<107:39:24, 4167.36s/it]"
     ]
    },
    {
     "name": "stdout",
     "output_type": "stream",
     "text": [
      "\u001b[32m[I 2023-04-07 05:44:21,774]\u001b[0m Trial 6 finished with value: 1.0 and parameters: {'batch_size': 128, 'ESPatience': 6, 'alpha': 0.48568520359380185, 'gamma': 4.150102488375473, 'nf': 32, 'fc_dropout': 0.11789414095858541, 'ks': [1, 1, 7]}. Best is trial 0 with value: 1.0.\u001b[0m\n",
      "TRAIN: [    0     1     2 ... 79997 79998 79999] VALID: [    4     9    18 ... 79978 79982 79994]\n",
      "mlkmodel line 238; Xvalid; shape=(16000, 9, 40); min mean = 0.0027777778450399637; max mean = 0.6111111044883728\n",
      "Random state set:3, cuda used: True\n"
     ]
    },
    {
     "name": "stderr",
     "output_type": "stream",
     "text": [
      "Best trial: 0. Best value: 1:   8%|▊         | 8/100 [9:37:11<92:28:00, 3618.27s/it] "
     ]
    },
    {
     "name": "stdout",
     "output_type": "stream",
     "text": [
      "\u001b[32m[I 2023-04-07 06:25:04,347]\u001b[0m Trial 7 finished with value: 1.0 and parameters: {'batch_size': 128, 'ESPatience': 4, 'alpha': 0.9423577578181839, 'gamma': 1.6733213415397818, 'nf': 128, 'fc_dropout': 0.7041512588660643, 'ks': [3, 5, 5]}. Best is trial 0 with value: 1.0.\u001b[0m\n",
      "TRAIN: [    0     1     2 ... 79997 79998 79999] VALID: [    4     9    18 ... 79978 79982 79994]\n",
      "mlkmodel line 238; Xvalid; shape=(16000, 9, 40); min mean = 0.0027777778450399637; max mean = 0.6111111044883728\n",
      "Random state set:3, cuda used: True\n"
     ]
    }
   ],
   "source": [
    "run(\n",
    "    name=name, \n",
    "    model_name=model_name, \n",
    "    randnum_split=randnum_split,\n",
    "    epochs=epochs,\n",
    "    num_optuna_trials=num_optuna_trials,\n",
    "    hype=hype, \n",
    "    imp=imp,\n",
    "    filepath=filepath, \n",
    "    device=device,\n",
    "    folds=5\n",
    ")"
   ]
  },
  {
   "cell_type": "code",
   "execution_count": null,
   "metadata": {},
   "outputs": [],
   "source": []
  }
 ],
 "metadata": {
  "kernelspec": {
   "display_name": "hfixed",
   "language": "python",
   "name": "python3"
  },
  "language_info": {
   "codemirror_mode": {
    "name": "ipython",
    "version": 3
   },
   "file_extension": ".py",
   "mimetype": "text/x-python",
   "name": "python",
   "nbconvert_exporter": "python",
   "pygments_lexer": "ipython3",
   "version": "3.9.7"
  },
  "orig_nbformat": 4
 },
 "nbformat": 4,
 "nbformat_minor": 2
}
