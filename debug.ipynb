{
 "cells": [
  {
   "cell_type": "code",
   "execution_count": 1,
   "metadata": {},
   "outputs": [],
   "source": [
    "# load in arguments from command line\n",
    "name = \"data_2real1bigdet\" #sys.argv[1]#\n",
    "model_name=\"InceptionTime\"#sys.argv[2]#\n",
    "randnum_split=3#int(sys.argv[3])\n",
    "epochs=1#int(sys.argv[4])\n",
    "num_optuna_trials =100# int(sys.argv[5])\n",
    "hype= \"True\"# sys.argv[6]\n",
    "imp = \"False\"\n",
    "device = 0#'cuda' if torch.cuda.is_available() else 'cpu'\n",
    "# filepath=\"C:/Users/hlc17/Documents/DANLIFE/Simulations/Simulations/Data_simulation/\"\n",
    "filepath=\"/home/DIDE/smishra/Simulations/\"\n",
    "folds=3"
   ]
  },
  {
   "cell_type": "code",
   "execution_count": 2,
   "metadata": {},
   "outputs": [
    {
     "name": "stderr",
     "output_type": "stream",
     "text": [
      "/home/DIDE/smishra/miniconda3/envs/hfixed/lib/python3.9/site-packages/tqdm/auto.py:21: TqdmWarning: IProgress not found. Please update jupyter and ipywidgets. See https://ipywidgets.readthedocs.io/en/stable/user_install.html\n",
      "  from .autonotebook import tqdm as notebook_tqdm\n"
     ]
    }
   ],
   "source": [
    "import importlib\n",
    "\n",
    "import torch\n",
    "import fastai\n",
    "import tsai\n",
    "\n",
    "\n",
    "importlib.reload(fastai)\n",
    "importlib.reload(tsai)\n",
    "\n",
    "\n",
    "import Main_cv_learner_neat\n",
    "import Run_cv_learner_neat\n",
    "import MLmodel_opt_learner_neat\n",
    "importlib.reload(Main_cv_learner_neat)\n",
    "importlib.reload(Run_cv_learner_neat)\n",
    "importlib.reload(MLmodel_opt_learner_neat)\n",
    "from Main_cv_learner_neat import run"
   ]
  },
  {
   "cell_type": "code",
   "execution_count": 3,
   "metadata": {},
   "outputs": [
    {
     "name": "stdout",
     "output_type": "stream",
     "text": [
      "data_2real1bigdet\n",
      "(100000, 9, 40) (100000, 40) (100000, 1)\n",
      "(100000,)\n",
      "Random state set:3, cuda used: True\n",
      "Counter({0.0: 93975, 1.0: 6025}) Counter({0.0: 75180, 1.0: 4820}) Counter({0.0: 18795, 1.0: 1205})\n",
      "X_trainvalid: mean = 0.218; std = 0.413: min mean = 0.000: max mean = 0.611\n",
      "1\n",
      "X_test: mean = 0.219; std = 0.413: min mean = 0.003: max mean = 0.606\n",
      "0\n",
      "X_trainvalid_s: mean = 0.471; std = 0.555: min mean = 0.412: max mean = 0.529\n",
      "0\n",
      "X_test_s: mean = 0.471; std = 0.555: min mean = 0.412: max mean = 0.529\n",
      "0\n",
      "Y_trainvalid: mean = 0.060; std = 0.238\n",
      "Y_test: mean = 0.060; std = 0.238\n",
      "Data generated\n",
      "InceptionTime\n",
      "Random state set:3, cuda used: True\n"
     ]
    },
    {
     "name": "stderr",
     "output_type": "stream",
     "text": [
      "\u001b[32m[I 2023-03-29 15:59:29,993]\u001b[0m A new study created in memory with name: no-name-681d84ef-ce38-4787-8e5d-49e3c363599b\u001b[0m\n"
     ]
    },
    {
     "name": "stdout",
     "output_type": "stream",
     "text": [
      "Counter({0.0: 75180, 1.0: 4820})\n",
      "Counter({0.0: 67662, 1.0: 4338})\n",
      "Counter({0.0: 7518, 1.0: 482})\n",
      "Random state set:3, cuda used: True\n"
     ]
    },
    {
     "name": "stderr",
     "output_type": "stream",
     "text": [
      "  0%|          | 0/20 [00:00<?, ?it/s]"
     ]
    },
    {
     "name": "stdout",
     "output_type": "stream",
     "text": [
      "TRAIN: [    0     1     2 ... 79997 79998 79999] VALID: [    4     9    18 ... 79978 79982 79994]\n",
      "mlkmodel line 238; Xvalid; shape=(16000, 9, 40); min mean = 0.0027777778450399637; max mean = 0.6111111044883728\n",
      "<class 'tsai.data.core.TSDataLoaders'>\n",
      "<class 'tsai.data.core.TSDataLoader'>\n",
      "  Random seed:  0\n"
     ]
    },
    {
     "name": "stderr",
     "output_type": "stream",
     "text": [
      "Best trial: 0. Best value: 1:   5%|▌         | 1/20 [12:10<3:51:10, 730.01s/it]"
     ]
    },
    {
     "name": "stdout",
     "output_type": "stream",
     "text": [
      "\u001b[32m[I 2023-03-29 16:11:40,002]\u001b[0m Trial 0 finished with value: 1.0 and parameters: {'batch_size': 64, 'ESPatience': 6, 'alpha': 0.12558531046383625, 'gamma': 1.8368990837713652, 'nf': 128, 'fc_dropout': 0.6491440476147607, 'conv_dropout': 0.2784872826479753, 'ks': 20, 'dilation': 1}. Best is trial 0 with value: 1.0.\u001b[0m\n",
      "TRAIN: [    0     1     2 ... 79997 79998 79999] VALID: [    4     9    18 ... 79978 79982 79994]\n",
      "mlkmodel line 238; Xvalid; shape=(16000, 9, 40); min mean = 0.0027777778450399637; max mean = 0.6111111044883728\n"
     ]
    },
    {
     "name": "stderr",
     "output_type": "stream",
     "text": [
      "Best trial: 0. Best value: 1:  10%|█         | 2/20 [25:33<3:51:53, 772.98s/it]"
     ]
    },
    {
     "name": "stdout",
     "output_type": "stream",
     "text": [
      "\u001b[32m[I 2023-03-29 16:25:03,065]\u001b[0m Trial 1 finished with value: 1.0 and parameters: {'batch_size': 64, 'ESPatience': 6, 'alpha': 0.30636353237617975, 'gamma': 1.8956119568894039, 'nf': 96, 'fc_dropout': 0.9028341085383981, 'conv_dropout': 0.8457508712931793, 'ks': 60, 'dilation': 1}. Best is trial 0 with value: 1.0.\u001b[0m\n",
      "TRAIN: [    0     1     2 ... 79997 79998 79999] VALID: [    4     9    18 ... 79978 79982 79994]\n",
      "mlkmodel line 238; Xvalid; shape=(16000, 9, 40); min mean = 0.0027777778450399637; max mean = 0.6111111044883728\n"
     ]
    },
    {
     "name": "stderr",
     "output_type": "stream",
     "text": [
      "Best trial: 0. Best value: 1:  15%|█▌        | 3/20 [39:19<3:45:53, 797.28s/it]"
     ]
    },
    {
     "name": "stdout",
     "output_type": "stream",
     "text": [
      "\u001b[32m[I 2023-03-29 16:38:49,256]\u001b[0m Trial 2 finished with value: 1.0 and parameters: {'batch_size': 64, 'ESPatience': 6, 'alpha': 0.5862529044678214, 'gamma': 2.1411165711045173, 'nf': 64, 'fc_dropout': 0.5140350598174419, 'conv_dropout': 0.08722936878080467, 'ks': 60, 'dilation': 1}. Best is trial 0 with value: 1.0.\u001b[0m\n",
      "TRAIN: [    0     1     2 ... 79997 79998 79999] VALID: [    4     9    18 ... 79978 79982 79994]\n",
      "mlkmodel line 238; Xvalid; shape=(16000, 9, 40); min mean = 0.0027777778450399637; max mean = 0.6111111044883728\n"
     ]
    },
    {
     "name": "stderr",
     "output_type": "stream",
     "text": [
      "Best trial: 0. Best value: 1:  20%|██        | 4/20 [52:52<3:34:14, 803.40s/it]"
     ]
    },
    {
     "name": "stdout",
     "output_type": "stream",
     "text": [
      "\u001b[32m[I 2023-03-29 16:52:22,049]\u001b[0m Trial 3 finished with value: 0.9999999954006189 and parameters: {'batch_size': 64, 'ESPatience': 2, 'alpha': 0.061528930829939266, 'gamma': 1.9782749345155093, 'nf': 32, 'fc_dropout': 0.7239391394374821, 'conv_dropout': 0.4750886106344313, 'ks': 20, 'dilation': 1}. Best is trial 0 with value: 1.0.\u001b[0m\n",
      "TRAIN: [    0     1     2 ... 79997 79998 79999] VALID: [    4     9    18 ... 79978 79982 79994]\n",
      "mlkmodel line 238; Xvalid; shape=(16000, 9, 40); min mean = 0.0027777778450399637; max mean = 0.6111111044883728\n"
     ]
    },
    {
     "name": "stderr",
     "output_type": "stream",
     "text": [
      "Best trial: 0. Best value: 1:  25%|██▌       | 5/20 [1:06:31<3:22:16, 809.09s/it]"
     ]
    },
    {
     "name": "stdout",
     "output_type": "stream",
     "text": [
      "\u001b[32m[I 2023-03-29 17:06:01,236]\u001b[0m Trial 4 finished with value: 1.0 and parameters: {'batch_size': 64, 'ESPatience': 2, 'alpha': 0.7071806008078977, 'gamma': 2.0629078171005286, 'nf': 32, 'fc_dropout': 0.8421031858766468, 'conv_dropout': 0.7447523234243593, 'ks': 40, 'dilation': 2}. Best is trial 0 with value: 1.0.\u001b[0m\n",
      "TRAIN: [    0     1     2 ... 79997 79998 79999] VALID: [    4     9    18 ... 79978 79982 79994]\n",
      "mlkmodel line 238; Xvalid; shape=(16000, 9, 40); min mean = 0.0027777778450399637; max mean = 0.6111111044883728\n"
     ]
    },
    {
     "name": "stderr",
     "output_type": "stream",
     "text": [
      "Best trial: 0. Best value: 1:  30%|███       | 6/20 [1:14:16<2:41:31, 692.26s/it]"
     ]
    },
    {
     "name": "stdout",
     "output_type": "stream",
     "text": [
      "\u001b[32m[I 2023-03-29 17:13:46,713]\u001b[0m Trial 5 finished with value: 0.998827224527432 and parameters: {'batch_size': 128, 'ESPatience': 2, 'alpha': 0.08979086952306481, 'gamma': 2.96060424601829, 'nf': 32, 'fc_dropout': 0.21798576840935358, 'conv_dropout': 0.17721338080182358, 'ks': 40, 'dilation': 2}. Best is trial 0 with value: 1.0.\u001b[0m\n",
      "TRAIN: [    0     1     2 ... 79997 79998 79999] VALID: [    4     9    18 ... 79978 79982 79994]\n",
      "mlkmodel line 238; Xvalid; shape=(16000, 9, 40); min mean = 0.0027777778450399637; max mean = 0.6111111044883728\n"
     ]
    },
    {
     "name": "stderr",
     "output_type": "stream",
     "text": [
      "Best trial: 0. Best value: 1:  35%|███▌      | 7/20 [1:27:53<2:38:48, 732.99s/it]"
     ]
    },
    {
     "name": "stdout",
     "output_type": "stream",
     "text": [
      "\u001b[32m[I 2023-03-29 17:27:23,556]\u001b[0m Trial 6 finished with value: 0.7919441611225728 and parameters: {'batch_size': 64, 'ESPatience': 6, 'alpha': 0.9564495113173804, 'gamma': 2.7477270191390195, 'nf': 128, 'fc_dropout': 0.5407608361864938, 'conv_dropout': 0.8374624326697224, 'ks': 60, 'dilation': 1}. Best is trial 0 with value: 1.0.\u001b[0m\n",
      "TRAIN: [    0     1     2 ... 79997 79998 79999] VALID: [    4     9    18 ... 79978 79982 79994]\n",
      "mlkmodel line 238; Xvalid; shape=(16000, 9, 40); min mean = 0.0027777778450399637; max mean = 0.6111111044883728\n",
      "<class 'tsai.data.core.TSDataLoaders'>\n",
      "<class 'tsai.data.core.TSDataLoader'>\n",
      "  Random seed:  0\n",
      "Random state set:0, cuda used: True\n"
     ]
    },
    {
     "data": {
      "text/html": [
       "\n",
       "<style>\n",
       "    /* Turns off some styling */\n",
       "    progress {\n",
       "        /* gets rid of default border in Firefox and Opera. */\n",
       "        border: none;\n",
       "        /* Needs to be in here for Safari polyfill so background images work as expected. */\n",
       "        background-size: auto;\n",
       "    }\n",
       "    progress:not([value]), progress:not([value])::-webkit-progress-bar {\n",
       "        background: repeating-linear-gradient(45deg, #7e7e7e, #7e7e7e 10px, #5c5c5c 10px, #5c5c5c 20px);\n",
       "    }\n",
       "    .progress-bar-interrupted, .progress-bar-interrupted::-webkit-progress-bar {\n",
       "        background: #F44336;\n",
       "    }\n",
       "</style>\n"
      ],
      "text/plain": [
       "<IPython.core.display.HTML object>"
      ]
     },
     "metadata": {},
     "output_type": "display_data"
    },
    {
     "data": {
      "text/html": [
       "\n",
       "    <div>\n",
       "      <progress value='0' class='' max='1' style='width:300px; height:20px; vertical-align: middle;'></progress>\n",
       "      0.00% [0/1 00:00&lt;?]\n",
       "    </div>\n",
       "    \n",
       "<table border=\"1\" class=\"dataframe\">\n",
       "  <thead>\n",
       "    <tr style=\"text-align: left;\">\n",
       "      <th>epoch</th>\n",
       "      <th>train_loss</th>\n",
       "      <th>valid_loss</th>\n",
       "      <th>accuracy</th>\n",
       "      <th>f1_score</th>\n",
       "      <th>roc_auc_score</th>\n",
       "      <th>brier_score_loss</th>\n",
       "      <th>time</th>\n",
       "    </tr>\n",
       "  </thead>\n",
       "  <tbody>\n",
       "  </tbody>\n",
       "</table><p>\n",
       "\n",
       "    <div>\n",
       "      <progress value='1' class='' max='2000' style='width:300px; height:20px; vertical-align: middle;'></progress>\n",
       "      0.05% [1/2000 00:00&lt;01:41]\n",
       "    </div>\n",
       "    "
      ],
      "text/plain": [
       "<IPython.core.display.HTML object>"
      ]
     },
     "metadata": {},
     "output_type": "display_data"
    },
    {
     "name": "stderr",
     "output_type": "stream",
     "text": [
      "Best trial: 0. Best value: 1:  40%|████      | 8/20 [1:52:06<3:12:24, 962.08s/it]"
     ]
    },
    {
     "name": "stdout",
     "output_type": "stream",
     "text": [
      "\u001b[32m[I 2023-03-29 17:51:36,158]\u001b[0m Trial 7 finished with value: 1.0 and parameters: {'batch_size': 32, 'ESPatience': 6, 'alpha': 0.7271520787467093, 'gamma': 2.442839024205331, 'nf': 32, 'fc_dropout': 0.8772120389443171, 'conv_dropout': 0.153740208571143, 'ks': 60, 'dilation': 1}. Best is trial 0 with value: 1.0.\u001b[0m\n",
      "TRAIN: [    0     1     2 ... 79997 79998 79999] VALID: [    4     9    18 ... 79978 79982 79994]\n",
      "mlkmodel line 238; Xvalid; shape=(16000, 9, 40); min mean = 0.0027777778450399637; max mean = 0.6111111044883728\n"
     ]
    },
    {
     "name": "stderr",
     "output_type": "stream",
     "text": [
      "Best trial: 0. Best value: 1:  45%|████▌     | 9/20 [2:05:23<2:46:54, 910.42s/it]"
     ]
    },
    {
     "name": "stdout",
     "output_type": "stream",
     "text": [
      "\u001b[32m[I 2023-03-29 18:04:52,994]\u001b[0m Trial 8 finished with value: 0.9999999908012379 and parameters: {'batch_size': 64, 'ESPatience': 6, 'alpha': 0.8721795083994259, 'gamma': 1.3776050512843605, 'nf': 96, 'fc_dropout': 0.2792945968468563, 'conv_dropout': 0.43081502201846, 'ks': 60, 'dilation': 2}. Best is trial 0 with value: 1.0.\u001b[0m\n",
      "TRAIN: [    0     1     2 ... 79997 79998 79999] VALID: [    4     9    18 ... 79978 79982 79994]\n",
      "mlkmodel line 238; Xvalid; shape=(16000, 9, 40); min mean = 0.0027777778450399637; max mean = 0.6111111044883728\n"
     ]
    },
    {
     "name": "stderr",
     "output_type": "stream",
     "text": [
      "Best trial: 0. Best value: 1:  45%|████▌     | 9/20 [2:29:50<2:46:54, 910.42s/it]"
     ]
    },
    {
     "name": "stdout",
     "output_type": "stream",
     "text": [
      "\u001b[32m[I 2023-03-29 18:29:20,782]\u001b[0m Trial 9 finished with value: 1.0 and parameters: {'batch_size': 32, 'ESPatience': 2, 'alpha': 0.045497305855868864, 'gamma': 1.2320097487962358, 'nf': 32, 'fc_dropout': 0.9779524096569847, 'conv_dropout': 0.5027510476744195, 'ks': 20, 'dilation': 2}. Best is trial 0 with value: 1.0.\u001b[0m\n"
     ]
    },
    {
     "name": "stderr",
     "output_type": "stream",
     "text": [
      "Best trial: 0. Best value: 1:  50%|█████     | 10/20 [2:29:50<3:00:24, 1082.49s/it]"
     ]
    },
    {
     "name": "stdout",
     "output_type": "stream",
     "text": [
      "TRAIN: [    0     1     2 ... 79997 79998 79999] VALID: [    4     9    18 ... 79978 79982 79994]\n",
      "mlkmodel line 238; Xvalid; shape=(16000, 9, 40); min mean = 0.0027777778450399637; max mean = 0.6111111044883728\n"
     ]
    },
    {
     "name": "stderr",
     "output_type": "stream",
     "text": [
      "Best trial: 0. Best value: 1:  55%|█████▌    | 11/20 [2:37:27<2:13:38, 890.92s/it] "
     ]
    },
    {
     "name": "stdout",
     "output_type": "stream",
     "text": [
      "\u001b[32m[I 2023-03-29 18:36:57,322]\u001b[0m Trial 10 finished with value: 0.9999998988136172 and parameters: {'batch_size': 128, 'ESPatience': 4, 'alpha': 0.28656115109625835, 'gamma': 3.7777239296197527, 'nf': 128, 'fc_dropout': 0.06095775926735558, 'conv_dropout': 0.0023105370229864475, 'ks': 20, 'dilation': 3}. Best is trial 0 with value: 1.0.\u001b[0m\n",
      "TRAIN: [    0     1     2 ... 79997 79998 79999] VALID: [    4     9    18 ... 79978 79982 79994]\n",
      "mlkmodel line 238; Xvalid; shape=(16000, 9, 40); min mean = 0.0027777778450399637; max mean = 0.6111111044883728\n"
     ]
    },
    {
     "name": "stderr",
     "output_type": "stream",
     "text": [
      "Best trial: 0. Best value: 1:  60%|██████    | 12/20 [2:50:57<1:55:29, 866.20s/it]"
     ]
    },
    {
     "name": "stdout",
     "output_type": "stream",
     "text": [
      "\u001b[32m[I 2023-03-29 18:50:27,002]\u001b[0m Trial 11 finished with value: 1.0 and parameters: {'batch_size': 64, 'ESPatience': 6, 'alpha': 0.3257721211501682, 'gamma': 3.5071173765907355, 'nf': 96, 'fc_dropout': 0.6954066411390931, 'conv_dropout': 0.9465955027857911, 'ks': 20, 'dilation': 1}. Best is trial 0 with value: 1.0.\u001b[0m\n",
      "TRAIN: [    0     1     2 ... 79997 79998 79999] VALID: [    4     9    18 ... 79978 79982 79994]\n",
      "mlkmodel line 238; Xvalid; shape=(16000, 9, 40); min mean = 0.0027777778450399637; max mean = 0.6111111044883728\n"
     ]
    },
    {
     "name": "stderr",
     "output_type": "stream",
     "text": [
      "Best trial: 0. Best value: 1:  65%|██████▌   | 13/20 [3:04:27<1:39:04, 849.26s/it]"
     ]
    },
    {
     "name": "stdout",
     "output_type": "stream",
     "text": [
      "\u001b[32m[I 2023-03-29 19:03:57,277]\u001b[0m Trial 12 finished with value: 0.9999999632049518 and parameters: {'batch_size': 64, 'ESPatience': 4, 'alpha': 0.34136736356311775, 'gamma': 4.8480257019068755, 'nf': 128, 'fc_dropout': 0.9910202529280352, 'conv_dropout': 0.9874753083006935, 'ks': 60, 'dilation': 3}. Best is trial 0 with value: 1.0.\u001b[0m\n",
      "TRAIN: [    0     1     2 ... 79997 79998 79999] VALID: [    4     9    18 ... 79978 79982 79994]\n",
      "mlkmodel line 238; Xvalid; shape=(16000, 9, 40); min mean = 0.0027777778450399637; max mean = 0.6111111044883728\n"
     ]
    },
    {
     "name": "stderr",
     "output_type": "stream",
     "text": [
      "Best trial: 0. Best value: 1:  70%|███████   | 14/20 [3:18:23<1:24:31, 845.22s/it]"
     ]
    },
    {
     "name": "stdout",
     "output_type": "stream",
     "text": [
      "\u001b[32m[I 2023-03-29 19:17:53,171]\u001b[0m Trial 13 finished with value: 1.0 and parameters: {'batch_size': 64, 'ESPatience': 6, 'alpha': 0.2131262259631969, 'gamma': 1.5645766913672734, 'nf': 96, 'fc_dropout': 0.6796699221302224, 'conv_dropout': 0.6367450792679707, 'ks': 20, 'dilation': 1}. Best is trial 0 with value: 1.0.\u001b[0m\n",
      "TRAIN: [    0     1     2 ... 79997 79998 79999] VALID: [    4     9    18 ... 79978 79982 79994]\n",
      "mlkmodel line 238; Xvalid; shape=(16000, 9, 40); min mean = 0.0027777778450399637; max mean = 0.6111111044883728\n"
     ]
    },
    {
     "name": "stderr",
     "output_type": "stream",
     "text": [
      "Best trial: 0. Best value: 1:  75%|███████▌  | 15/20 [3:26:11<1:00:58, 731.69s/it]"
     ]
    },
    {
     "name": "stdout",
     "output_type": "stream",
     "text": [
      "\u001b[32m[I 2023-03-29 19:25:41,760]\u001b[0m Trial 14 finished with value: 1.0 and parameters: {'batch_size': 128, 'ESPatience': 6, 'alpha': 0.4592171067960848, 'gamma': 1.7472673531848226, 'nf': 64, 'fc_dropout': 0.8077965301480514, 'conv_dropout': 0.2922695552063461, 'ks': 40, 'dilation': 1}. Best is trial 0 with value: 1.0.\u001b[0m\n",
      "TRAIN: [    0     1     2 ... 79997 79998 79999] VALID: [    4     9    18 ... 79978 79982 79994]\n",
      "mlkmodel line 238; Xvalid; shape=(16000, 9, 40); min mean = 0.0027777778450399637; max mean = 0.6111111044883728\n"
     ]
    },
    {
     "name": "stderr",
     "output_type": "stream",
     "text": [
      "Best trial: 0. Best value: 1:  80%|████████  | 16/20 [3:50:36<1:03:28, 952.20s/it]"
     ]
    },
    {
     "name": "stdout",
     "output_type": "stream",
     "text": [
      "\u001b[32m[I 2023-03-29 19:50:06,017]\u001b[0m Trial 15 finished with value: 1.0 and parameters: {'batch_size': 32, 'ESPatience': 6, 'alpha': 0.1983161115120795, 'gamma': 1.3376096066922225, 'nf': 128, 'fc_dropout': 0.6154916274515264, 'conv_dropout': 0.6531975665135686, 'ks': 60, 'dilation': 1}. Best is trial 0 with value: 1.0.\u001b[0m\n",
      "TRAIN: [    0     1     2 ... 79997 79998 79999] VALID: [    4     9    18 ... 79978 79982 79994]\n",
      "mlkmodel line 238; Xvalid; shape=(16000, 9, 40); min mean = 0.0027777778450399637; max mean = 0.6111111044883728\n"
     ]
    },
    {
     "name": "stderr",
     "output_type": "stream",
     "text": [
      "Best trial: 0. Best value: 1:  85%|████████▌ | 17/20 [4:04:04<45:27, 909.02s/it]  "
     ]
    },
    {
     "name": "stdout",
     "output_type": "stream",
     "text": [
      "\u001b[32m[I 2023-03-29 20:03:34,639]\u001b[0m Trial 16 finished with value: 1.0 and parameters: {'batch_size': 64, 'ESPatience': 4, 'alpha': 0.44898579844547937, 'gamma': 1.1283246411849412, 'nf': 96, 'fc_dropout': 0.42552637408937655, 'conv_dropout': 0.3236457896266637, 'ks': 20, 'dilation': 3}. Best is trial 0 with value: 1.0.\u001b[0m\n",
      "TRAIN: [    0     1     2 ... 79997 79998 79999] VALID: [    4     9    18 ... 79978 79982 79994]\n",
      "mlkmodel line 238; Xvalid; shape=(16000, 9, 40); min mean = 0.0027777778450399637; max mean = 0.6111111044883728\n"
     ]
    },
    {
     "name": "stderr",
     "output_type": "stream",
     "text": [
      "Best trial: 0. Best value: 1:  90%|█████████ | 18/20 [4:17:39<29:21, 880.81s/it]"
     ]
    },
    {
     "name": "stdout",
     "output_type": "stream",
     "text": [
      "\u001b[32m[I 2023-03-29 20:17:09,782]\u001b[0m Trial 17 finished with value: 1.0 and parameters: {'batch_size': 64, 'ESPatience': 6, 'alpha': 0.16322199473230597, 'gamma': 2.3658391043425686, 'nf': 128, 'fc_dropout': 0.7834552625653922, 'conv_dropout': 0.855477026085452, 'ks': 60, 'dilation': 1}. Best is trial 0 with value: 1.0.\u001b[0m\n",
      "TRAIN: [    0     1     2 ... 79997 79998 79999] VALID: [    4     9    18 ... 79978 79982 79994]\n",
      "mlkmodel line 238; Xvalid; shape=(16000, 9, 40); min mean = 0.0027777778450399637; max mean = 0.6111111044883728\n"
     ]
    },
    {
     "name": "stderr",
     "output_type": "stream",
     "text": [
      "Best trial: 0. Best value: 1:  90%|█████████ | 18/20 [4:42:17<29:21, 880.81s/it]"
     ]
    },
    {
     "name": "stdout",
     "output_type": "stream",
     "text": [
      "\u001b[32m[I 2023-03-29 20:41:47,142]\u001b[0m Trial 18 finished with value: 1.0 and parameters: {'batch_size': 32, 'ESPatience': 6, 'alpha': 0.370292351286712, 'gamma': 1.6750950103649704, 'nf': 96, 'fc_dropout': 0.899446171393334, 'conv_dropout': 0.6241558823298704, 'ks': 20, 'dilation': 1}. Best is trial 0 with value: 1.0.\u001b[0m\n"
     ]
    },
    {
     "name": "stderr",
     "output_type": "stream",
     "text": [
      "Best trial: 0. Best value: 1:  95%|█████████▌| 19/20 [4:42:17<17:39, 1059.98s/it]"
     ]
    },
    {
     "name": "stdout",
     "output_type": "stream",
     "text": [
      "TRAIN: [    0     1     2 ... 79997 79998 79999] VALID: [    4     9    18 ... 79978 79982 79994]\n",
      "mlkmodel line 238; Xvalid; shape=(16000, 9, 40); min mean = 0.0027777778450399637; max mean = 0.6111111044883728\n"
     ]
    },
    {
     "name": "stderr",
     "output_type": "stream",
     "text": [
      "Best trial: 0. Best value: 1: 100%|██████████| 20/20 [4:50:03<00:00, 870.18s/it] "
     ]
    },
    {
     "name": "stdout",
     "output_type": "stream",
     "text": [
      "\u001b[32m[I 2023-03-29 20:49:33,521]\u001b[0m Trial 19 finished with value: 0.7934209556814682 and parameters: {'batch_size': 128, 'ESPatience': 4, 'alpha': 0.0062020223796446505, 'gamma': 2.6009922366388443, 'nf': 64, 'fc_dropout': 0.6506826123880532, 'conv_dropout': 0.3318646984191992, 'ks': 40, 'dilation': 3}. Best is trial 0 with value: 1.0.\u001b[0m\n",
      "    number     value             datetime_start          datetime_complete  \\\n",
      "0        0  1.000000 2023-03-29 15:59:29.997034 2023-03-29 16:11:40.001561   \n",
      "1        1  1.000000 2023-03-29 16:11:40.009327 2023-03-29 16:25:03.065369   \n",
      "2        2  1.000000 2023-03-29 16:25:03.071065 2023-03-29 16:38:49.255119   \n",
      "3        3  1.000000 2023-03-29 16:38:49.264247 2023-03-29 16:52:22.048909   \n",
      "4        4  1.000000 2023-03-29 16:52:22.057819 2023-03-29 17:06:01.236353   \n",
      "5        5  0.998827 2023-03-29 17:06:01.243040 2023-03-29 17:13:46.712456   \n",
      "6        6  0.791944 2023-03-29 17:13:46.719068 2023-03-29 17:27:23.555235   \n",
      "7        7  1.000000 2023-03-29 17:27:23.563083 2023-03-29 17:51:36.157380   \n",
      "8        8  1.000000 2023-03-29 17:51:36.166631 2023-03-29 18:04:52.993357   \n",
      "9        9  1.000000 2023-03-29 18:04:53.002599 2023-03-29 18:29:20.781108   \n",
      "10      10  1.000000 2023-03-29 18:29:20.790635 2023-03-29 18:36:57.321132   \n",
      "11      11  1.000000 2023-03-29 18:36:57.330413 2023-03-29 18:50:27.001143   \n",
      "12      12  1.000000 2023-03-29 18:50:27.008472 2023-03-29 19:03:57.276719   \n",
      "13      13  1.000000 2023-03-29 19:03:57.283292 2023-03-29 19:17:53.170454   \n",
      "14      14  1.000000 2023-03-29 19:17:53.176624 2023-03-29 19:25:41.759508   \n",
      "15      15  1.000000 2023-03-29 19:25:41.767201 2023-03-29 19:50:06.016732   \n",
      "16      16  1.000000 2023-03-29 19:50:06.024018 2023-03-29 20:03:34.638331   \n",
      "17      17  1.000000 2023-03-29 20:03:34.646788 2023-03-29 20:17:09.781291   \n",
      "18      18  1.000000 2023-03-29 20:17:09.790028 2023-03-29 20:41:47.141897   \n",
      "19      19  0.793421 2023-03-29 20:41:47.149769 2023-03-29 20:49:33.520897   \n",
      "\n",
      "                 duration  params_ESPatience  params_alpha  params_batch_size  \\\n",
      "0  0 days 00:12:10.004527                  6      0.125585                 64   \n",
      "1  0 days 00:13:23.056042                  6      0.306364                 64   \n",
      "2  0 days 00:13:46.184054                  6      0.586253                 64   \n",
      "3  0 days 00:13:32.784662                  2      0.061529                 64   \n",
      "4  0 days 00:13:39.178534                  2      0.707181                 64   \n",
      "5  0 days 00:07:45.469416                  2      0.089791                128   \n",
      "6  0 days 00:13:36.836167                  6      0.956450                 64   \n",
      "7  0 days 00:24:12.594297                  6      0.727152                 32   \n",
      "8  0 days 00:13:16.826726                  6      0.872180                 64   \n",
      "9  0 days 00:24:27.778509                  2      0.045497                 32   \n",
      "10 0 days 00:07:36.530497                  4      0.286561                128   \n",
      "11 0 days 00:13:29.670730                  6      0.325772                 64   \n",
      "12 0 days 00:13:30.268247                  4      0.341367                 64   \n",
      "13 0 days 00:13:55.887162                  6      0.213126                 64   \n",
      "14 0 days 00:07:48.582884                  6      0.459217                128   \n",
      "15 0 days 00:24:24.249531                  6      0.198316                 32   \n",
      "16 0 days 00:13:28.614313                  4      0.448986                 64   \n",
      "17 0 days 00:13:35.134503                  6      0.163222                 64   \n",
      "18 0 days 00:24:37.351869                  6      0.370292                 32   \n",
      "19 0 days 00:07:46.371128                  4      0.006202                128   \n",
      "\n",
      "    params_conv_dropout  params_dilation  params_fc_dropout  params_gamma  \\\n",
      "0              0.278487                1           0.649144      1.836899   \n",
      "1              0.845751                1           0.902834      1.895612   \n",
      "2              0.087229                1           0.514035      2.141117   \n",
      "3              0.475089                1           0.723939      1.978275   \n",
      "4              0.744752                2           0.842103      2.062908   \n",
      "5              0.177213                2           0.217986      2.960604   \n",
      "6              0.837462                1           0.540761      2.747727   \n",
      "7              0.153740                1           0.877212      2.442839   \n",
      "8              0.430815                2           0.279295      1.377605   \n",
      "9              0.502751                2           0.977952      1.232010   \n",
      "10             0.002311                3           0.060958      3.777724   \n",
      "11             0.946596                1           0.695407      3.507117   \n",
      "12             0.987475                3           0.991020      4.848026   \n",
      "13             0.636745                1           0.679670      1.564577   \n",
      "14             0.292270                1           0.807797      1.747267   \n",
      "15             0.653198                1           0.615492      1.337610   \n",
      "16             0.323646                3           0.425526      1.128325   \n",
      "17             0.855477                1           0.783455      2.365839   \n",
      "18             0.624156                1           0.899446      1.675095   \n",
      "19             0.331865                3           0.650683      2.600992   \n",
      "\n",
      "    params_ks  params_nf     state  \n",
      "0          20        128  COMPLETE  \n",
      "1          60         96  COMPLETE  \n",
      "2          60         64  COMPLETE  \n",
      "3          20         32  COMPLETE  \n",
      "4          40         32  COMPLETE  \n",
      "5          40         32  COMPLETE  \n",
      "6          60        128  COMPLETE  \n",
      "7          60         32  COMPLETE  \n",
      "8          60         96  COMPLETE  \n",
      "9          20         32  COMPLETE  \n",
      "10         20        128  COMPLETE  \n",
      "11         20         96  COMPLETE  \n",
      "12         60        128  COMPLETE  \n",
      "13         20         96  COMPLETE  \n",
      "14         40         64  COMPLETE  \n",
      "15         60        128  COMPLETE  \n",
      "16         20         96  COMPLETE  \n",
      "17         60        128  COMPLETE  \n",
      "18         20         96  COMPLETE  \n",
      "19         40         64  COMPLETE  \n",
      "{'batch_size': 64, 'ESPatience': 6, 'alpha': 0.12558531046383625, 'gamma': 1.8368990837713652, 'nf': 128, 'fc_dropout': 0.6491440476147607, 'conv_dropout': 0.2784872826479753, 'ks': 20, 'dilation': 1}\n",
      "1.0\n",
      "Study statistics: \n",
      "  Number of finished trials:  20\n",
      "  Number of pruned trials:  0\n",
      "  Number of complete trials:  20\n",
      "Best trial: \n",
      "  Value:  1.0\n",
      " Params: \n",
      "   batch_size:64\n",
      "   ESPatience:6\n",
      "   alpha:0.12558531046383625\n",
      "   gamma:1.8368990837713652\n",
      "   nf:128\n",
      "   fc_dropout:0.6491440476147607\n",
      "   conv_dropout:0.2784872826479753\n",
      "   ks:20\n",
      "   dilation:1\n",
      "  Random seed:  0\n"
     ]
    },
    {
     "name": "stderr",
     "output_type": "stream",
     "text": [
      "\n"
     ]
    },
    {
     "name": "stdout",
     "output_type": "stream",
     "text": [
      "[0.5320564  8.29875519]\n"
     ]
    },
    {
     "data": {
      "text/html": [
       "<div>\n",
       "<style scoped>\n",
       "    .dataframe tbody tr th:only-of-type {\n",
       "        vertical-align: middle;\n",
       "    }\n",
       "\n",
       "    .dataframe tbody tr th {\n",
       "        vertical-align: top;\n",
       "    }\n",
       "\n",
       "    .dataframe thead th {\n",
       "        text-align: right;\n",
       "    }\n",
       "</style>\n",
       "<table border=\"1\" class=\"dataframe\">\n",
       "  <thead>\n",
       "    <tr style=\"text-align: right;\">\n",
       "      <th></th>\n",
       "      <th>data</th>\n",
       "      <th>model</th>\n",
       "      <th>seed</th>\n",
       "      <th>epochs</th>\n",
       "      <th>trials</th>\n",
       "      <th>accuracy</th>\n",
       "      <th>precision</th>\n",
       "      <th>recall</th>\n",
       "      <th>f1</th>\n",
       "      <th>auc</th>\n",
       "      <th>...</th>\n",
       "      <th>gamma</th>\n",
       "      <th>batch_size</th>\n",
       "      <th>ESPatience</th>\n",
       "      <th>alpha</th>\n",
       "      <th>gamma</th>\n",
       "      <th>nf</th>\n",
       "      <th>fc_dropout</th>\n",
       "      <th>conv_dropout</th>\n",
       "      <th>ks</th>\n",
       "      <th>dilation</th>\n",
       "    </tr>\n",
       "  </thead>\n",
       "  <tbody>\n",
       "    <tr>\n",
       "      <th>0</th>\n",
       "      <td>data_2real1bigdet</td>\n",
       "      <td>InceptionTime</td>\n",
       "      <td>0</td>\n",
       "      <td>1</td>\n",
       "      <td>20</td>\n",
       "      <td>0.99995</td>\n",
       "      <td>0.999171</td>\n",
       "      <td>1.0</td>\n",
       "      <td>0.999585</td>\n",
       "      <td>0.999973</td>\n",
       "      <td>...</td>\n",
       "      <td>1.836899</td>\n",
       "      <td>64</td>\n",
       "      <td>6</td>\n",
       "      <td>0.125585</td>\n",
       "      <td>1.836899</td>\n",
       "      <td>128</td>\n",
       "      <td>0.649144</td>\n",
       "      <td>0.278487</td>\n",
       "      <td>20</td>\n",
       "      <td>1</td>\n",
       "    </tr>\n",
       "    <tr>\n",
       "      <th>1</th>\n",
       "      <td>data_2real1bigdet</td>\n",
       "      <td>InceptionTime</td>\n",
       "      <td>1</td>\n",
       "      <td>1</td>\n",
       "      <td>20</td>\n",
       "      <td>1.00000</td>\n",
       "      <td>1.000000</td>\n",
       "      <td>1.0</td>\n",
       "      <td>1.000000</td>\n",
       "      <td>1.000000</td>\n",
       "      <td>...</td>\n",
       "      <td>1.836899</td>\n",
       "      <td>64</td>\n",
       "      <td>6</td>\n",
       "      <td>0.125585</td>\n",
       "      <td>1.836899</td>\n",
       "      <td>128</td>\n",
       "      <td>0.649144</td>\n",
       "      <td>0.278487</td>\n",
       "      <td>20</td>\n",
       "      <td>1</td>\n",
       "    </tr>\n",
       "    <tr>\n",
       "      <th>2</th>\n",
       "      <td>data_2real1bigdet</td>\n",
       "      <td>InceptionTime</td>\n",
       "      <td>2</td>\n",
       "      <td>1</td>\n",
       "      <td>20</td>\n",
       "      <td>1.00000</td>\n",
       "      <td>1.000000</td>\n",
       "      <td>1.0</td>\n",
       "      <td>1.000000</td>\n",
       "      <td>1.000000</td>\n",
       "      <td>...</td>\n",
       "      <td>1.836899</td>\n",
       "      <td>64</td>\n",
       "      <td>6</td>\n",
       "      <td>0.125585</td>\n",
       "      <td>1.836899</td>\n",
       "      <td>128</td>\n",
       "      <td>0.649144</td>\n",
       "      <td>0.278487</td>\n",
       "      <td>20</td>\n",
       "      <td>1</td>\n",
       "    </tr>\n",
       "  </tbody>\n",
       "</table>\n",
       "<p>3 rows × 28 columns</p>\n",
       "</div>"
      ],
      "text/plain": [
       "                data          model seed epochs trials  accuracy  precision  \\\n",
       "0  data_2real1bigdet  InceptionTime    0      1     20   0.99995   0.999171   \n",
       "1  data_2real1bigdet  InceptionTime    1      1     20   1.00000   1.000000   \n",
       "2  data_2real1bigdet  InceptionTime    2      1     20   1.00000   1.000000   \n",
       "\n",
       "   recall        f1       auc  ...     gamma batch_size ESPatience     alpha  \\\n",
       "0     1.0  0.999585  0.999973  ...  1.836899         64          6  0.125585   \n",
       "1     1.0  1.000000  1.000000  ...  1.836899         64          6  0.125585   \n",
       "2     1.0  1.000000  1.000000  ...  1.836899         64          6  0.125585   \n",
       "\n",
       "      gamma   nf fc_dropout  conv_dropout  ks dilation  \n",
       "0  1.836899  128   0.649144      0.278487  20        1  \n",
       "1  1.836899  128   0.649144      0.278487  20        1  \n",
       "2  1.836899  128   0.649144      0.278487  20        1  \n",
       "\n",
       "[3 rows x 28 columns]"
      ]
     },
     "execution_count": 3,
     "metadata": {},
     "output_type": "execute_result"
    }
   ],
   "source": [
    "run(\n",
    "    name=name, \n",
    "    model_name=model_name, \n",
    "    randnum_split=randnum_split,\n",
    "    epochs=epochs,\n",
    "    num_optuna_trials=num_optuna_trials,\n",
    "    hype=hype, \n",
    "    imp=imp,\n",
    "    filepath=filepath, \n",
    "    device=device,\n",
    "    folds=5,\n",
    "    subset=100000\n",
    ")"
   ]
  },
  {
   "cell_type": "code",
   "execution_count": null,
   "metadata": {},
   "outputs": [],
   "source": []
  }
 ],
 "metadata": {
  "kernelspec": {
   "display_name": "Python 3.9.7 ('hfixed')",
   "language": "python",
   "name": "python3"
  },
  "language_info": {
   "codemirror_mode": {
    "name": "ipython",
    "version": 3
   },
   "file_extension": ".py",
   "mimetype": "text/x-python",
   "name": "python",
   "nbconvert_exporter": "python",
   "pygments_lexer": "ipython3",
   "version": "3.9.7"
  },
  "orig_nbformat": 4,
  "vscode": {
   "interpreter": {
    "hash": "49878ad4e4f1bf877402e7cb66d50763bb103941cf280cde4d79fc8914f01ef8"
   }
  }
 },
 "nbformat": 4,
 "nbformat_minor": 2
}
