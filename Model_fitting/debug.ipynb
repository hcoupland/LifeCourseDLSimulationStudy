{
 "cells": [
  {
   "cell_type": "code",
   "execution_count": 7,
   "metadata": {},
   "outputs": [],
   "source": [
    "# load in arguments from command line\n",
    "name = \"data_2real1bigdet\" #sys.argv[1]#\n",
    "model_name=\"InceptionTime\"#sys.argv[2]#\n",
    "randnum_split=3#int(sys.argv[3])\n",
    "epochs=10#int(sys.argv[4])\n",
    "num_optuna_trials =100# int(sys.argv[5])\n",
    "hype= \"True\"# sys.argv[6]\n",
    "imp = \"False\"\n",
    "device = 0#'cuda' if torch.cuda.is_available() else 'cpu'\n",
    "# filepath=\"C:/Users/hlc17/Documents/DANLIFE/Simulations/Simulations/Data_simulation/\"\n",
    "filepath=\"/home/DIDE/smishra/Simulations/\"\n",
    "folds=5"
   ]
  },
  {
   "cell_type": "code",
   "execution_count": 8,
   "metadata": {},
   "outputs": [],
   "source": [
    "import importlib\n",
    "\n",
    "import torch\n",
    "import fastai\n",
    "import tsai\n",
    "\n",
    "\n",
    "importlib.reload(fastai)\n",
    "importlib.reload(tsai)\n",
    "\n",
    "\n",
    "import Main_cv_learner_neat\n",
    "import Run_cv_learner_neat\n",
    "import MLmodel_opt_learner_neat\n",
    "importlib.reload(Main_cv_learner_neat)\n",
    "importlib.reload(Run_cv_learner_neat)\n",
    "importlib.reload(MLmodel_opt_learner_neat)\n",
    "from Main_cv_learner_neat import run"
   ]
  },
  {
   "cell_type": "code",
   "execution_count": 9,
   "metadata": {},
   "outputs": [
    {
     "name": "stdout",
     "output_type": "stream",
     "text": [
      "data_2real1bigdet\n",
      "(100000, 9, 40) (100000, 40) (100000, 1)\n",
      "(100000,)\n",
      "Random state set:3, cuda used: True\n",
      "Counter({0.0: 93975, 1.0: 6025}) Counter({0.0: 75180, 1.0: 4820}) Counter({0.0: 18795, 1.0: 1205})\n",
      "X_trainvalid: mean = 0.218; std = 0.413: min mean = 0.000: max mean = 0.611\n",
      "1\n",
      "X_test: mean = 0.219; std = 0.413: min mean = 0.003: max mean = 0.606\n",
      "0\n",
      "X_trainvalid_s: mean = 0.471; std = 0.555: min mean = 0.412: max mean = 0.529\n",
      "0\n",
      "X_test_s: mean = 0.471; std = 0.555: min mean = 0.412: max mean = 0.529\n",
      "0\n",
      "Y_trainvalid: mean = 0.060; std = 0.238\n",
      "Y_test: mean = 0.060; std = 0.238\n",
      "Data generated\n",
      "InceptionTime\n",
      "Random state set:3, cuda used: True\n"
     ]
    },
    {
     "name": "stderr",
     "output_type": "stream",
     "text": [
      "\u001b[32m[I 2023-04-05 14:01:44,689]\u001b[0m A new study created in memory with name: no-name-b1298872-6e48-4036-858f-791285f90b00\u001b[0m\n"
     ]
    },
    {
     "name": "stdout",
     "output_type": "stream",
     "text": [
      "Counter({0.0: 75180, 1.0: 4820})\n",
      "Counter({0.0: 67662, 1.0: 4338})\n",
      "Counter({0.0: 7518, 1.0: 482})\n",
      "Random state set:3, cuda used: True\n"
     ]
    },
    {
     "name": "stderr",
     "output_type": "stream",
     "text": [
      "  0%|          | 0/100 [00:00<?, ?it/s]"
     ]
    },
    {
     "name": "stdout",
     "output_type": "stream",
     "text": [
      "TRAIN: [    0     1     2 ... 79997 79998 79999] VALID: [    4     9    18 ... 79978 79982 79994]\n",
      "mlkmodel line 238; Xvalid; shape=(16000, 9, 40); min mean = 0.0027777778450399637; max mean = 0.6111111044883728\n"
     ]
    },
    {
     "name": "stderr",
     "output_type": "stream",
     "text": [
      "Best trial: 0. Best value: 1:   1%|          | 1/100 [2:01:39<200:44:52, 7299.93s/it]"
     ]
    },
    {
     "name": "stdout",
     "output_type": "stream",
     "text": [
      "\u001b[32m[I 2023-04-05 16:03:24,613]\u001b[0m Trial 0 finished with value: 1.0 and parameters: {'batch_size': 64, 'ESPatience': 6, 'alpha': 0.12558531046383625, 'gamma': 1.8368990837713652, 'nf': 128, 'fc_dropout': 0.6491440476147607, 'conv_dropout': 0.2784872826479753, 'ks': 20}. Best is trial 0 with value: 1.0.\u001b[0m\n",
      "TRAIN: [    0     1     2 ... 79997 79998 79999] VALID: [    4     9    18 ... 79978 79982 79994]\n",
      "mlkmodel line 238; Xvalid; shape=(16000, 9, 40); min mean = 0.0027777778450399637; max mean = 0.6111111044883728\n"
     ]
    },
    {
     "name": "stderr",
     "output_type": "stream",
     "text": [
      "Best trial: 0. Best value: 1:   2%|▏         | 2/100 [5:53:12<304:17:05, 11177.81s/it]"
     ]
    },
    {
     "name": "stdout",
     "output_type": "stream",
     "text": [
      "\u001b[32m[I 2023-04-05 19:54:56,946]\u001b[0m Trial 1 finished with value: 1.0 and parameters: {'batch_size': 32, 'ESPatience': 4, 'alpha': 0.15686773847496327, 'gamma': 3.1831495819470605, 'nf': 32, 'fc_dropout': 0.9363836498604304, 'conv_dropout': 0.9759954224729338, 'ks': 40}. Best is trial 0 with value: 1.0.\u001b[0m\n",
      "TRAIN: [    0     1     2 ... 79997 79998 79999] VALID: [    4     9    18 ... 79978 79982 79994]\n",
      "mlkmodel line 238; Xvalid; shape=(16000, 9, 40); min mean = 0.0027777778450399637; max mean = 0.6111111044883728\n"
     ]
    },
    {
     "name": "stderr",
     "output_type": "stream",
     "text": [
      "Best trial: 0. Best value: 1:   3%|▎         | 3/100 [6:42:57<200:22:46, 7436.77s/it] "
     ]
    },
    {
     "name": "stdout",
     "output_type": "stream",
     "text": [
      "\u001b[32m[I 2023-04-05 20:44:41,873]\u001b[0m Trial 2 finished with value: 0.999999995400619 and parameters: {'batch_size': 128, 'ESPatience': 2, 'alpha': 0.4065199163762486, 'gamma': 2.8810715923096843, 'nf': 128, 'fc_dropout': 0.5862529044678214, 'conv_dropout': 0.2834878624322098, 'ks': 40}. Best is trial 0 with value: 1.0.\u001b[0m\n",
      "TRAIN: [    0     1     2 ... 79997 79998 79999] VALID: [    4     9    18 ... 79978 79982 79994]\n",
      "mlkmodel line 238; Xvalid; shape=(16000, 9, 40); min mean = 0.0027777778450399637; max mean = 0.6111111044883728\n"
     ]
    },
    {
     "name": "stderr",
     "output_type": "stream",
     "text": [
      "Best trial: 0. Best value: 1:   4%|▍         | 4/100 [8:42:58<195:50:12, 7343.88s/it]"
     ]
    },
    {
     "name": "stdout",
     "output_type": "stream",
     "text": [
      "\u001b[32m[I 2023-04-05 22:44:43,358]\u001b[0m Trial 3 finished with value: 1.0 and parameters: {'batch_size': 64, 'ESPatience': 6, 'alpha': 0.7467462231020046, 'gamma': 3.7674607582045, 'nf': 32, 'fc_dropout': 0.572793869868875, 'conv_dropout': 0.3258071580648745, 'ks': 20}. Best is trial 0 with value: 1.0.\u001b[0m\n",
      "TRAIN: [    0     1     2 ... 79997 79998 79999] VALID: [    4     9    18 ... 79978 79982 79994]\n",
      "mlkmodel line 238; Xvalid; shape=(16000, 9, 40); min mean = 0.0027777778450399637; max mean = 0.6111111044883728\n"
     ]
    },
    {
     "name": "stderr",
     "output_type": "stream",
     "text": [
      "Best trial: 0. Best value: 1:   5%|▌         | 5/100 [12:35:00<256:23:38, 9715.98s/it]"
     ]
    },
    {
     "name": "stdout",
     "output_type": "stream",
     "text": [
      "\u001b[32m[I 2023-04-06 02:36:45,314]\u001b[0m Trial 4 finished with value: 1.0 and parameters: {'batch_size': 32, 'ESPatience': 4, 'alpha': 0.5966637746018628, 'gamma': 1.277208001491977, 'nf': 64, 'fc_dropout': 0.12929386460885417, 'conv_dropout': 0.5532777318076535, 'ks': 40}. Best is trial 0 with value: 1.0.\u001b[0m\n",
      "TRAIN: [    0     1     2 ... 79997 79998 79999] VALID: [    4     9    18 ... 79978 79982 79994]\n",
      "mlkmodel line 238; Xvalid; shape=(16000, 9, 40); min mean = 0.0027777778450399637; max mean = 0.6111111044883728\n"
     ]
    },
    {
     "name": "stderr",
     "output_type": "stream",
     "text": [
      "Best trial: 0. Best value: 1:   6%|▌         | 6/100 [14:11:08<218:38:36, 8373.58s/it]"
     ]
    },
    {
     "name": "stdout",
     "output_type": "stream",
     "text": [
      "\u001b[32m[I 2023-04-06 04:12:53,074]\u001b[0m Trial 5 finished with value: 0.9999999172111413 and parameters: {'batch_size': 64, 'ESPatience': 2, 'alpha': 0.48023995608541004, 'gamma': 4.369991711647821, 'nf': 96, 'fc_dropout': 0.3659405848526094, 'conv_dropout': 0.5528445731504456, 'ks': 60}. Best is trial 0 with value: 1.0.\u001b[0m\n",
      "TRAIN: [    0     1     2 ... 79997 79998 79999] VALID: [    4     9    18 ... 79978 79982 79994]\n",
      "mlkmodel line 238; Xvalid; shape=(16000, 9, 40); min mean = 0.0027777778450399637; max mean = 0.6111111044883728\n"
     ]
    },
    {
     "name": "stdout",
     "output_type": "stream",
     "text": [
      "TRAIN: [    0     1     3 ... 79995 79996 79997] VALID: [    2    10    34 ... 79989 79998 79999]\n",
      "mlkmodel line 238; Xvalid; shape=(16000, 9, 40); min mean = 0.008333333767950535; max mean = 0.5972222089767456\n"
     ]
    },
    {
     "name": "stderr",
     "output_type": "stream",
     "text": [
      "Best trial: 0. Best value: 1:   7%|▋         | 7/100 [16:05:36<203:35:59, 7881.29s/it]"
     ]
    },
    {
     "name": "stdout",
     "output_type": "stream",
     "text": [
      "\u001b[32m[I 2023-04-06 06:07:20,809]\u001b[0m Trial 6 finished with value: 0.9999999678043328 and parameters: {'batch_size': 64, 'ESPatience': 2, 'alpha': 0.9279363475621256, 'gamma': 4.1525966160188705, 'nf': 32, 'fc_dropout': 0.07362366921935759, 'conv_dropout': 0.8923931875870925, 'ks': 20}. Best is trial 0 with value: 1.0.\u001b[0m\n",
      "TRAIN: [    0     1     2 ... 79997 79998 79999] VALID: [    4     9    18 ... 79978 79982 79994]\n",
      "mlkmodel line 238; Xvalid; shape=(16000, 9, 40); min mean = 0.0027777778450399637; max mean = 0.6111111044883728\n"
     ]
    },
    {
     "name": "stdout",
     "output_type": "stream",
     "text": [
      "TRAIN: [    0     2     4 ... 79997 79998 79999] VALID: [    1     3     7 ... 79970 79992 79993]\n",
      "mlkmodel line 238; Xvalid; shape=(16000, 9, 40); min mean = 0.0; max mean = 0.605555534362793\n"
     ]
    },
    {
     "name": "stderr",
     "output_type": "stream",
     "text": [
      "Best trial: 0. Best value: 1:   8%|▊         | 8/100 [17:00:48<164:14:22, 6426.76s/it]"
     ]
    },
    {
     "name": "stdout",
     "output_type": "stream",
     "text": [
      "\u001b[32m[I 2023-04-06 07:02:33,191]\u001b[0m Trial 7 finished with value: 0.9999993928817036 and parameters: {'batch_size': 128, 'ESPatience': 2, 'alpha': 0.6522231250661847, 'gamma': 4.826233550156348, 'nf': 32, 'fc_dropout': 0.9597071872532211, 'conv_dropout': 0.5407608361864938, 'ks': 20}. Best is trial 0 with value: 1.0.\u001b[0m\n",
      "TRAIN: [    0     1     2 ... 79997 79998 79999] VALID: [    4     9    18 ... 79978 79982 79994]\n",
      "mlkmodel line 238; Xvalid; shape=(16000, 9, 40); min mean = 0.0027777778450399637; max mean = 0.6111111044883728\n"
     ]
    },
    {
     "name": "stderr",
     "output_type": "stream",
     "text": [
      "Best trial: 0. Best value: 1:   9%|▉         | 9/100 [18:58:17<167:22:23, 6621.36s/it]"
     ]
    },
    {
     "name": "stdout",
     "output_type": "stream",
     "text": [
      "\u001b[32m[I 2023-04-06 09:00:02,423]\u001b[0m Trial 8 finished with value: 1.0 and parameters: {'batch_size': 64, 'ESPatience': 4, 'alpha': 0.7410824063995626, 'gamma': 1.640554282258961, 'nf': 64, 'fc_dropout': 0.7266897514901979, 'conv_dropout': 0.13946712418246032, 'ks': 60}. Best is trial 0 with value: 1.0.\u001b[0m\n",
      "TRAIN: [    0     1     2 ... 79997 79998 79999] VALID: [    4     9    18 ... 79978 79982 79994]\n",
      "mlkmodel line 238; Xvalid; shape=(16000, 9, 40); min mean = 0.0027777778450399637; max mean = 0.6111111044883728\n"
     ]
    },
    {
     "name": "stderr",
     "output_type": "stream",
     "text": [
      "Best trial: 0. Best value: 1:  10%|█         | 10/100 [20:43:32<163:10:09, 6526.77s/it]"
     ]
    },
    {
     "name": "stdout",
     "output_type": "stream",
     "text": [
      "\u001b[32m[I 2023-04-06 10:45:17,405]\u001b[0m Trial 9 finished with value: 1.0 and parameters: {'batch_size': 64, 'ESPatience': 2, 'alpha': 0.24057032033459902, 'gamma': 4.3131725776714696, 'nf': 32, 'fc_dropout': 0.8336878843431597, 'conv_dropout': 0.8721795083994259, 'ks': 60}. Best is trial 0 with value: 1.0.\u001b[0m\n",
      "TRAIN: [    0     1     2 ... 79997 79998 79999] VALID: [    4     9    18 ... 79978 79982 79994]\n",
      "mlkmodel line 238; Xvalid; shape=(16000, 9, 40); min mean = 0.0027777778450399637; max mean = 0.6111111044883728\n"
     ]
    },
    {
     "name": "stderr",
     "output_type": "stream",
     "text": [
      "Best trial: 0. Best value: 1:  11%|█         | 11/100 [24:35:09<217:07:14, 8782.41s/it]"
     ]
    },
    {
     "name": "stdout",
     "output_type": "stream",
     "text": [
      "\u001b[32m[I 2023-04-06 14:36:54,294]\u001b[0m Trial 10 finished with value: 1.0 and parameters: {'batch_size': 32, 'ESPatience': 6, 'alpha': 0.050152734255026615, 'gamma': 2.102270378668926, 'nf': 128, 'fc_dropout': 0.3782236887251937, 'conv_dropout': 0.0023105370229864475, 'ks': 20}. Best is trial 0 with value: 1.0.\u001b[0m\n",
      "TRAIN: [    0     1     2 ... 79997 79998 79999] VALID: [    4     9    18 ... 79978 79982 79994]\n",
      "mlkmodel line 238; Xvalid; shape=(16000, 9, 40); min mean = 0.0027777778450399637; max mean = 0.6111111044883728\n"
     ]
    },
    {
     "name": "stdout",
     "output_type": "stream",
     "text": [
      "TRAIN: [    1     2     3 ... 79995 79998 79999] VALID: [    0     5    11 ... 79990 79996 79997]\n",
      "mlkmodel line 238; Xvalid; shape=(16000, 9, 40); min mean = 0.0055555556900799274; max mean = 0.6083333492279053\n"
     ]
    },
    {
     "name": "stderr",
     "output_type": "stream",
     "text": [
      "Best trial: 0. Best value: 1:  12%|█▏        | 12/100 [28:22:58<251:00:53, 10268.80s/it]"
     ]
    },
    {
     "name": "stdout",
     "output_type": "stream",
     "text": [
      "\u001b[32m[I 2023-04-06 18:24:42,745]\u001b[0m Trial 11 finished with value: 0.999997663514435 and parameters: {'batch_size': 32, 'ESPatience': 4, 'alpha': 0.00876901015276288, 'gamma': 2.6821058944877607, 'nf': 128, 'fc_dropout': 0.9961382561480351, 'conv_dropout': 0.9723353833029639, 'ks': 40}. Best is trial 0 with value: 1.0.\u001b[0m\n",
      "TRAIN: [    0     1     2 ... 79997 79998 79999] VALID: [    4     9    18 ... 79978 79982 79994]\n",
      "mlkmodel line 238; Xvalid; shape=(16000, 9, 40); min mean = 0.0027777778450399637; max mean = 0.6111111044883728\n"
     ]
    },
    {
     "name": "stderr",
     "output_type": "stream",
     "text": [
      "Best trial: 0. Best value: 1:  13%|█▎        | 13/100 [32:15:01<274:55:02, 11375.90s/it]"
     ]
    },
    {
     "name": "stdout",
     "output_type": "stream",
     "text": [
      "\u001b[32m[I 2023-04-06 22:16:46,122]\u001b[0m Trial 12 finished with value: 1.0 and parameters: {'batch_size': 32, 'ESPatience': 6, 'alpha': 0.2607571142310401, 'gamma': 3.3873938924312226, 'nf': 96, 'fc_dropout': 0.7474160043701463, 'conv_dropout': 0.7316090038534678, 'ks': 40}. Best is trial 0 with value: 1.0.\u001b[0m\n",
      "TRAIN: [    0     1     2 ... 79997 79998 79999] VALID: [    4     9    18 ... 79978 79982 79994]\n",
      "mlkmodel line 238; Xvalid; shape=(16000, 9, 40); min mean = 0.0027777778450399637; max mean = 0.6111111044883728\n"
     ]
    },
    {
     "name": "stderr",
     "output_type": "stream",
     "text": [
      "Best trial: 0. Best value: 1:  14%|█▍        | 14/100 [36:09:02<290:59:30, 12181.05s/it]"
     ]
    },
    {
     "name": "stdout",
     "output_type": "stream",
     "text": [
      "\u001b[32m[I 2023-04-07 02:10:47,657]\u001b[0m Trial 13 finished with value: 1.0 and parameters: {'batch_size': 32, 'ESPatience': 4, 'alpha': 0.1616723922265329, 'gamma': 2.32586981004455, 'nf': 128, 'fc_dropout': 0.874619512661946, 'conv_dropout': 0.7299708369691459, 'ks': 20}. Best is trial 0 with value: 1.0.\u001b[0m\n",
      "TRAIN: [    0     1     2 ... 79997 79998 79999] VALID: [    4     9    18 ... 79978 79982 79994]\n",
      "mlkmodel line 238; Xvalid; shape=(16000, 9, 40); min mean = 0.0027777778450399637; max mean = 0.6111111044883728\n"
     ]
    },
    {
     "name": "stderr",
     "output_type": "stream",
     "text": [
      "Best trial: 0. Best value: 1:  15%|█▌        | 15/100 [37:12:27<227:59:35, 9656.18s/it] "
     ]
    },
    {
     "name": "stdout",
     "output_type": "stream",
     "text": [
      "\u001b[32m[I 2023-04-07 03:14:12,431]\u001b[0m Trial 14 finished with value: 1.0 and parameters: {'batch_size': 128, 'ESPatience': 6, 'alpha': 0.3718070463049259, 'gamma': 3.331523884955813, 'nf': 128, 'fc_dropout': 0.6887595772803823, 'conv_dropout': 0.3649148205025107, 'ks': 40}. Best is trial 0 with value: 1.0.\u001b[0m\n",
      "TRAIN: [    0     1     2 ... 79997 79998 79999] VALID: [    4     9    18 ... 79978 79982 79994]\n",
      "mlkmodel line 238; Xvalid; shape=(16000, 9, 40); min mean = 0.0027777778450399637; max mean = 0.6111111044883728\n"
     ]
    }
   ],
   "source": [
    "run(\n",
    "    name=name, \n",
    "    model_name=model_name, \n",
    "    randnum_split=randnum_split,\n",
    "    epochs=epochs,\n",
    "    num_optuna_trials=num_optuna_trials,\n",
    "    hype=hype, \n",
    "    imp=imp,\n",
    "    filepath=filepath, \n",
    "    device=device,\n",
    "    folds=5\n",
    ")"
   ]
  },
  {
   "cell_type": "code",
   "execution_count": null,
   "metadata": {},
   "outputs": [],
   "source": []
  }
 ],
 "metadata": {
  "kernelspec": {
   "display_name": "Python 3.9.7 ('hfixed')",
   "language": "python",
   "name": "python3"
  },
  "language_info": {
   "codemirror_mode": {
    "name": "ipython",
    "version": 3
   },
   "file_extension": ".py",
   "mimetype": "text/x-python",
   "name": "python",
   "nbconvert_exporter": "python",
   "pygments_lexer": "ipython3",
   "version": "3.9.7"
  },
  "orig_nbformat": 4,
  "vscode": {
   "interpreter": {
    "hash": "49878ad4e4f1bf877402e7cb66d50763bb103941cf280cde4d79fc8914f01ef8"
   }
  }
 },
 "nbformat": 4,
 "nbformat_minor": 2
}
