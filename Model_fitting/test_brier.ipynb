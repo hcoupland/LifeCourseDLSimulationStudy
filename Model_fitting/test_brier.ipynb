{
 "cells": [
  {
   "cell_type": "code",
   "execution_count": 1,
   "metadata": {},
   "outputs": [],
   "source": [
    "import pandas as pd"
   ]
  },
  {
   "cell_type": "code",
   "execution_count": 2,
   "metadata": {},
   "outputs": [],
   "source": [
    "params_mat = pd.read_csv('plot_data.csv')"
   ]
  },
  {
   "cell_type": "code",
   "execution_count": 4,
   "metadata": {},
   "outputs": [],
   "source": [
    "name= \"data_2real1bigdet\"\n",
    "model_name=\"ResNet\"\n",
    "stoc=10"
   ]
  },
  {
   "cell_type": "code",
   "execution_count": 11,
   "metadata": {},
   "outputs": [
    {
     "data": {
      "text/plain": [
       "0      False\n",
       "1      False\n",
       "2      False\n",
       "3      False\n",
       "4       True\n",
       "       ...  \n",
       "136    False\n",
       "137    False\n",
       "138    False\n",
       "139    False\n",
       "140    False\n",
       "Length: 141, dtype: bool"
      ]
     },
     "execution_count": 11,
     "metadata": {},
     "output_type": "execute_result"
    }
   ],
   "source": [
    "(params_mat['data'] == name) & (params_mat['model'] == model_name)"
   ]
  },
  {
   "cell_type": "code",
   "execution_count": 14,
   "metadata": {},
   "outputs": [],
   "source": [
    "params_row = params_mat.loc[(params_mat['data'] == name) & (params_mat['model'] == model_name) & (params_mat['stoc'] == stoc )]\n"
   ]
  },
  {
   "cell_type": "code",
   "execution_count": 16,
   "metadata": {},
   "outputs": [
    {
     "data": {
      "text/plain": [
       "9    [1, 7, 9]\n",
       "Name: ks, dtype: object"
      ]
     },
     "execution_count": 16,
     "metadata": {},
     "output_type": "execute_result"
    }
   ],
   "source": [
    "params_row['ks']"
   ]
  },
  {
   "cell_type": "code",
   "execution_count": 30,
   "metadata": {},
   "outputs": [
    {
     "data": {
      "text/plain": [
       "dtype('float64')"
      ]
     },
     "execution_count": 30,
     "metadata": {},
     "output_type": "execute_result"
    }
   ],
   "source": [
    "params_row['nf'].values[0].dtype\n"
   ]
  },
  {
   "cell_type": "code",
   "execution_count": 25,
   "metadata": {},
   "outputs": [],
   "source": [
    "from ast import literal_eval"
   ]
  },
  {
   "cell_type": "code",
   "execution_count": 29,
   "metadata": {},
   "outputs": [
    {
     "ename": "AttributeError",
     "evalue": "'int' object has no attribute 'dtype'",
     "output_type": "error",
     "traceback": [
      "\u001b[0;31m---------------------------------------------------------------------------\u001b[0m",
      "\u001b[0;31mAttributeError\u001b[0m                            Traceback (most recent call last)",
      "Cell \u001b[0;32mIn[29], line 1\u001b[0m\n\u001b[0;32m----> 1\u001b[0m literal_eval(params_row[\u001b[39m'\u001b[39;49m\u001b[39mks\u001b[39;49m\u001b[39m'\u001b[39;49m]\u001b[39m.\u001b[39;49mvalues[\u001b[39m0\u001b[39;49m])[\u001b[39m0\u001b[39;49m]\u001b[39m.\u001b[39;49mdtype\n",
      "\u001b[0;31mAttributeError\u001b[0m: 'int' object has no attribute 'dtype'"
     ]
    }
   ],
   "source": [
    "literal_eval(params_row['ks'].values[0])[0]"
   ]
  },
  {
   "cell_type": "code",
   "execution_count": 7,
   "metadata": {},
   "outputs": [],
   "source": [
    "from tsai import *\n",
    "import inspect\n",
    "\n",
    "'''script containing hyperparameter optimisation functions, model fitting functions and output analysis functions'''\n",
    "from collections import Counter\n",
    "import statistics\n",
    "import timeit\n",
    "import itertools\n",
    "import warnings\n",
    "from tsai.all import *\n",
    "\n",
    "import numpy as np\n",
    "import torch\n",
    "import torch.nn as nn\n",
    "\n",
    "import optuna\n",
    "from optuna.samplers import TPESampler\n",
    "import sklearn.metrics as skm\n",
    "import pandas as pd\n",
    "\n",
    "\n",
    "from sklearn.model_selection import StratifiedKFold\n",
    "from torch.utils.data import WeightedRandomSampler\n",
    "\n",
    "from sklearn.utils.class_weight import compute_class_weight\n",
    "from optuna.integration import FastAIPruningCallback\n",
    "from fastai.vision.all import *\n",
    "from sklearn.calibration import calibration_curve\n",
    "import matplotlib.pyplot as plt\n",
    "import Data_load_neat as Data_load\n",
    "import explr_inter\n"
   ]
  },
  {
   "cell_type": "code",
   "execution_count": 12,
   "metadata": {},
   "outputs": [
    {
     "data": {
      "text/plain": [
       "<Signature (dls, arch=None, c_in=None, c_out=None, seq_len=None, d=None, splitter=<function trainable_params at 0x7f454b9f6ee0>, loss_func=None, opt_func=<function Adam at 0x7f454b8cf940>, lr=0.001, cbs=None, metrics=None, path=None, model_dir='models', wd=None, wd_bn_bias=False, train_bn=True, moms=(0.95, 0.85, 0.95), train_metrics=False, valid_metrics=True, seed=None, *, device=None, verbose=False, pretrained=False, weights_path=None, exclude_head=True, cut=-1, init=None, arch_config={}) -> fastai.learner.Learner>"
      ]
     },
     "execution_count": 12,
     "metadata": {},
     "output_type": "execute_result"
    }
   ],
   "source": [
    "inspect.signature(ts_learner)"
   ]
  },
  {
   "cell_type": "code",
   "execution_count": 36,
   "metadata": {},
   "outputs": [
    {
     "data": {
      "text/plain": [
       "<Signature (items: 'list' = None, tfms: 'MutableSequence | Pipeline' = None, tls: 'TfmdLists' = None, n_inp: 'int' = None, dl_type=None, *, use_list: 'bool' = None, do_setup: 'bool' = True, split_idx: 'int' = None, train_setup: 'bool' = True, splits: 'list' = None, types=None, verbose: 'bool' = False)>"
      ]
     },
     "execution_count": 36,
     "metadata": {},
     "output_type": "execute_result"
    }
   ],
   "source": [
    "inspect.signature(TSDatasets)"
   ]
  },
  {
   "cell_type": "code",
   "execution_count": 18,
   "metadata": {},
   "outputs": [
    {
     "ename": "AttributeError",
     "evalue": "'list' object has no attribute 'shape'",
     "output_type": "error",
     "traceback": [
      "\u001b[0;31m---------------------------------------------------------------------------\u001b[0m",
      "\u001b[0;31mAttributeError\u001b[0m                            Traceback (most recent call last)",
      "Cell \u001b[0;32mIn[18], line 51\u001b[0m\n\u001b[1;32m     48\u001b[0m X_trainvalid, X_test \u001b[39m=\u001b[39m X_raw[splits[\u001b[39m0\u001b[39m]], X_raw[splits[\u001b[39m1\u001b[39m]]\n\u001b[1;32m     49\u001b[0m Y_trainvalid, Y_test \u001b[39m=\u001b[39m y_raw[splits[\u001b[39m0\u001b[39m]], y_raw[splits[\u001b[39m1\u001b[39m]]\n\u001b[0;32m---> 51\u001b[0m \u001b[39mprint\u001b[39m(\u001b[39mf\u001b[39m\u001b[39m'\u001b[39m\u001b[39m shape = \u001b[39m\u001b[39m{\u001b[39;00msplits[\u001b[39m0\u001b[39;49m]\u001b[39m.\u001b[39;49mshape\u001b[39m}\u001b[39;00m\u001b[39m'\u001b[39m)\n\u001b[1;32m     53\u001b[0m \u001b[39mprint\u001b[39m(\u001b[39mf\u001b[39m\u001b[39m'\u001b[39m\u001b[39msum = \u001b[39m\u001b[39m{\u001b[39;00mnp\u001b[39m.\u001b[39msum(splits[\u001b[39m0\u001b[39m])\u001b[39m}\u001b[39;00m\u001b[39m; mean = \u001b[39m\u001b[39m{\u001b[39;00mnp\u001b[39m.\u001b[39mmean(splits[\u001b[39m0\u001b[39m])\u001b[39m}\u001b[39;00m\u001b[39m; var = \u001b[39m\u001b[39m{\u001b[39;00mnp\u001b[39m.\u001b[39mvar(splits[\u001b[39m0\u001b[39m])\u001b[39m}\u001b[39;00m\u001b[39m'\u001b[39m)\n",
      "File \u001b[0;32m~/miniconda3/envs/hfixed/lib/python3.9/site-packages/fastcore/basics.py:496\u001b[0m, in \u001b[0;36mGetAttr.__getattr__\u001b[0;34m(self, k)\u001b[0m\n\u001b[1;32m    494\u001b[0m \u001b[39mif\u001b[39;00m \u001b[39mself\u001b[39m\u001b[39m.\u001b[39m_component_attr_filter(k):\n\u001b[1;32m    495\u001b[0m     attr \u001b[39m=\u001b[39m \u001b[39mgetattr\u001b[39m(\u001b[39mself\u001b[39m,\u001b[39mself\u001b[39m\u001b[39m.\u001b[39m_default,\u001b[39mNone\u001b[39;00m)\n\u001b[0;32m--> 496\u001b[0m     \u001b[39mif\u001b[39;00m attr \u001b[39mis\u001b[39;00m \u001b[39mnot\u001b[39;00m \u001b[39mNone\u001b[39;00m: \u001b[39mreturn\u001b[39;00m \u001b[39mgetattr\u001b[39;49m(attr,k)\n\u001b[1;32m    497\u001b[0m \u001b[39mraise\u001b[39;00m \u001b[39mAttributeError\u001b[39;00m(k)\n",
      "\u001b[0;31mAttributeError\u001b[0m: 'list' object has no attribute 'shape'"
     ]
    }
   ],
   "source": [
    "filepath=\"/home/DIDE/smishra/Simulations/\"\n",
    "randnum_split = 7\n",
    "randnum_train=9\n",
    "name=\"data_2real1newerbigdet\"\n",
    "model_name=\"LSTMAttention\"\n",
    "subset=-1\n",
    "\n",
    "np.random.seed(randnum_split)  # Numpy vars\n",
    "torch.manual_seed(randnum_train)  # PyTorch vars\n",
    "random.seed(randnum_split)  # Python\n",
    "torch.cuda.manual_seed(randnum_train)\n",
    "torch.cuda.manual_seed_all(randnum_train)\n",
    "torch.backends.cudnn.deterministic = True\n",
    "torch.backends.cudnn.benchmark = False\n",
    "\n",
    "## Function to load in data\n",
    "#X_raw, y_raw = Data_load.load_data(name=name,filepath=filepath,subset=subset)\n",
    "\n",
    "\n",
    "## function to load all the data from the filepath\n",
    "\n",
    "X_raw = np.load(\"\".join([filepath,\"input_data/\",name, \"_X.npy\"])).astype(np.float32)\n",
    "\n",
    "Y_raw = np.squeeze(np.load(\"\".join([filepath,\"input_data/\",name, \"_YH.npy\"])))\n",
    "y_raw = Y_raw[:, np.shape(Y_raw)[1] - 1]\n",
    "\n",
    "### Helen messing around\n",
    "if subset>0:\n",
    "    X_raw=X_raw[:subset,:,:]\n",
    "    y_raw=y_raw[:subset]\n",
    "## Helen stop messing around\n",
    "\n",
    "## Function to obtain the train/test split\n",
    "#X_trainvalid, Y_trainvalid, X_test, Y_test, splits = Data_load.split_data(X=X_raw,Y=y_raw,randnum=randnum_split)\n",
    "\n",
    "\n",
    "\n",
    "## split out the test set\n",
    "splits = get_splits(\n",
    "        y_raw,\n",
    "        valid_size=0.2,\n",
    "        stratify=True,\n",
    "        shuffle=True,\n",
    "        test_size=0,\n",
    "        show_plot=False,\n",
    "        random_state=randnum_split\n",
    "        )\n",
    "X_trainvalid, X_test = X_raw[splits[0]], X_raw[splits[1]]\n",
    "Y_trainvalid, Y_test = y_raw[splits[0]], y_raw[splits[1]]\n",
    "\n",
    "print(f' shape = {splits[0].shape}')\n",
    "\n",
    "print(f'sum = {np.sum(splits[0])}; mean = {np.mean(splits[0])}; var = {np.var(splits[0])}')"
   ]
  },
  {
   "cell_type": "code",
   "execution_count": 31,
   "metadata": {},
   "outputs": [],
   "source": [
    "splits[0]\n",
    "stoc=0.1"
   ]
  },
  {
   "cell_type": "code",
   "execution_count": 32,
   "metadata": {},
   "outputs": [
    {
     "data": {
      "text/plain": [
       "49978.4667625"
      ]
     },
     "execution_count": 32,
     "metadata": {},
     "output_type": "execute_result"
    }
   ],
   "source": [
    "sum(splits[0]) / len(splits[0]) "
   ]
  },
  {
   "cell_type": "code",
   "execution_count": 33,
   "metadata": {},
   "outputs": [],
   "source": [
    "num1s=np.sum(Y_trainvalid)\n",
    "num10=math.ceil(stoc*num1s)\n",
    "which1=np.where(Y_trainvalid==1)[0]\n",
    "which0=np.where(Y_trainvalid==0)[0]\n",
    "\n",
    "# Randomly selects the correct number of 1s/0s that will be switched to 0s/1s\n",
    "which10=random.sample(list(which1),num10)\n",
    "which01=random.sample(list(which0),num10)"
   ]
  },
  {
   "cell_type": "code",
   "execution_count": 35,
   "metadata": {},
   "outputs": [
    {
     "data": {
      "text/plain": [
       "38761.38983050847"
      ]
     },
     "execution_count": 35,
     "metadata": {},
     "output_type": "execute_result"
    }
   ],
   "source": [
    "np.mean(which10)\n"
   ]
  },
  {
   "cell_type": "code",
   "execution_count": null,
   "metadata": {},
   "outputs": [],
   "source": []
  }
 ],
 "metadata": {
  "kernelspec": {
   "display_name": "hfixed",
   "language": "python",
   "name": "python3"
  },
  "language_info": {
   "codemirror_mode": {
    "name": "ipython",
    "version": 3
   },
   "file_extension": ".py",
   "mimetype": "text/x-python",
   "name": "python",
   "nbconvert_exporter": "python",
   "pygments_lexer": "ipython3",
   "version": "3.9.7"
  },
  "orig_nbformat": 4
 },
 "nbformat": 4,
 "nbformat_minor": 2
}
