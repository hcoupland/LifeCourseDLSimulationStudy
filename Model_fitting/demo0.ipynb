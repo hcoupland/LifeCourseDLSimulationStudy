{
 "cells": [
  {
   "cell_type": "code",
   "execution_count": 1,
   "metadata": {},
   "outputs": [
    {
     "name": "stderr",
     "output_type": "stream",
     "text": [
      "/home/DIDE/smishra/miniconda3/envs/hfixed/lib/python3.9/site-packages/tqdm/auto.py:21: TqdmWarning: IProgress not found. Please update jupyter and ipywidgets. See https://ipywidgets.readthedocs.io/en/stable/user_install.html\n",
      "  from .autonotebook import tqdm as notebook_tqdm\n"
     ]
    }
   ],
   "source": [
    "\n",
    "import importlib\n",
    "import fastai\n",
    "import tsai\n",
    "import torch\n",
    "importlib.reload(fastai)\n",
    "importlib.reload(tsai)\n",
    "\n",
    "\n",
    "## script to control overal running of model\n",
    "\n",
    "\n",
    "\n",
    "# load in arguments from command line\n",
    "name = \"data_2real1bigdet\" #sys.argv[1]#\n",
    "model_name=\"InceptionTime\"#sys.argv[2]#\n",
    "randnum_split=3#int(sys.argv[3])\n",
    "epochs=1#int(sys.argv[4])\n",
    "num_optuna_trials =10# int(sys.argv[5])\n",
    "hype= \"True\"# sys.argv[6]\n",
    "imp = \"False\"\n",
    "# filepath=\"C:/Users/hlc17/Documents/DANLIFE/Simulations/Simulations/Data_simulation/\"\n",
    "filepath=\"/home/DIDE/smishra/Simulations/\"\n",
    "device=0"
   ]
  },
  {
   "cell_type": "code",
   "execution_count": 2,
   "metadata": {},
   "outputs": [],
   "source": [
    "from Main_cv_learner_neat import run"
   ]
  },
  {
   "cell_type": "code",
   "execution_count": 3,
   "metadata": {},
   "outputs": [
    {
     "data": {
      "text/plain": [
       "True"
      ]
     },
     "execution_count": 3,
     "metadata": {},
     "output_type": "execute_result"
    }
   ],
   "source": [
    "torch.cuda.is_available()"
   ]
  },
  {
   "cell_type": "code",
   "execution_count": 4,
   "metadata": {},
   "outputs": [
    {
     "name": "stdout",
     "output_type": "stream",
     "text": [
      "data_2real1bigdet\n",
      "(100000, 9, 40) (100000, 40) (100000, 1)\n",
      "(100000,)\n",
      "Random state set:3, cuda used: True\n",
      "Counter({0.0: 93975, 1.0: 6025}) Counter({0.0: 75180, 1.0: 4820}) Counter({0.0: 18795, 1.0: 1205})\n",
      "0.21811529\n",
      "0.21867806\n",
      "0.41296625\n",
      "0.41334954\n",
      "0.47058823738098143\n",
      "0.47098676679274615\n",
      "0.5549400592237937\n",
      "0.5546016272811708\n",
      "0.06025\n",
      "0.06025\n",
      "0.23794944315967625\n",
      "0.23794944315967625\n",
      "Data generated\n",
      "InceptionTime\n",
      "Random state set:3, cuda used: True\n",
      "Counter({0.0: 75180, 1.0: 4820})\n"
     ]
    },
    {
     "name": "stderr",
     "output_type": "stream",
     "text": [
      "\u001b[32m[I 2023-03-28 12:12:52,013]\u001b[0m A new study created in memory with name: no-name-a4b92ed2-2c69-44b0-b695-b7ed101b5e7c\u001b[0m\n"
     ]
    },
    {
     "name": "stdout",
     "output_type": "stream",
     "text": [
      "Counter({0.0: 67662, 1.0: 4338})\n",
      "Counter({0.0: 7518, 1.0: 482})\n",
      "Random state set:3, cuda used: True\n"
     ]
    },
    {
     "name": "stderr",
     "output_type": "stream",
     "text": [
      "  0%|          | 0/10 [00:00<?, ?it/s]"
     ]
    },
    {
     "name": "stdout",
     "output_type": "stream",
     "text": [
      "TRAIN: [    0     1     2 ... 79997 79998 79999] VALID: [    4     9    18 ... 79978 79982 79994]\n",
      "TensorCategory(0.0312, device='cuda:0')\n",
      "TensorCategory(0.0312, device='cuda:0')\n",
      "TensorCategory(0.0625, device='cuda:0')\n",
      "TensorCategory(0.0781, device='cuda:0')\n",
      "TensorCategory(0.0938, device='cuda:0')\n",
      "TensorCategory(0.0312, device='cuda:0')\n",
      "TensorCategory(0.0312, device='cuda:0')\n",
      "TensorCategory(0.0312, device='cuda:0')\n",
      "TensorCategory(0.0625, device='cuda:0')\n",
      "TensorCategory(0.0156, device='cuda:0')\n",
      "Random state set:1, cuda used: True\n"
     ]
    },
    {
     "data": {
      "text/html": [
       "\n",
       "<style>\n",
       "    /* Turns off some styling */\n",
       "    progress {\n",
       "        /* gets rid of default border in Firefox and Opera. */\n",
       "        border: none;\n",
       "        /* Needs to be in here for Safari polyfill so background images work as expected. */\n",
       "        background-size: auto;\n",
       "    }\n",
       "    progress:not([value]), progress:not([value])::-webkit-progress-bar {\n",
       "        background: repeating-linear-gradient(45deg, #7e7e7e, #7e7e7e 10px, #5c5c5c 10px, #5c5c5c 20px);\n",
       "    }\n",
       "    .progress-bar-interrupted, .progress-bar-interrupted::-webkit-progress-bar {\n",
       "        background: #F44336;\n",
       "    }\n",
       "</style>\n"
      ],
      "text/plain": [
       "<IPython.core.display.HTML object>"
      ]
     },
     "metadata": {},
     "output_type": "display_data"
    },
    {
     "data": {
      "text/html": [
       "<table border=\"1\" class=\"dataframe\">\n",
       "  <thead>\n",
       "    <tr style=\"text-align: left;\">\n",
       "      <th>epoch</th>\n",
       "      <th>train_loss</th>\n",
       "      <th>valid_loss</th>\n",
       "      <th>accuracy</th>\n",
       "      <th>f1_score</th>\n",
       "      <th>roc_auc_score</th>\n",
       "      <th>brier_score_loss</th>\n",
       "      <th>time</th>\n",
       "    </tr>\n",
       "  </thead>\n",
       "  <tbody>\n",
       "    <tr>\n",
       "      <td>0</td>\n",
       "      <td>0.000035</td>\n",
       "      <td>0.000010</td>\n",
       "      <td>1.000000</td>\n",
       "      <td>1.000000</td>\n",
       "      <td>1.000000</td>\n",
       "      <td>0.000000</td>\n",
       "      <td>00:54</td>\n",
       "    </tr>\n",
       "  </tbody>\n",
       "</table>"
      ],
      "text/plain": [
       "<IPython.core.display.HTML object>"
      ]
     },
     "metadata": {},
     "output_type": "display_data"
    },
    {
     "name": "stdout",
     "output_type": "stream",
     "text": [
      "TRAIN: [    0     1     2 ... 79997 79998 79999] VALID: [    6    12    14 ... 79983 79991 79995]\n",
      "TensorCategory(0.0469, device='cuda:0')\n",
      "TensorCategory(0.0156, device='cuda:0')\n",
      "TensorCategory(0.0938, device='cuda:0')\n",
      "TensorCategory(0.0781, device='cuda:0')\n",
      "TensorCategory(0.0938, device='cuda:0')\n",
      "TensorCategory(0.0781, device='cuda:0')\n",
      "TensorCategory(0.0312, device='cuda:0')\n",
      "TensorCategory(0.0625, device='cuda:0')\n",
      "TensorCategory(0.0625, device='cuda:0')\n",
      "TensorCategory(0., device='cuda:0')\n",
      "Random state set:1, cuda used: True\n"
     ]
    },
    {
     "data": {
      "text/html": [
       "\n",
       "<style>\n",
       "    /* Turns off some styling */\n",
       "    progress {\n",
       "        /* gets rid of default border in Firefox and Opera. */\n",
       "        border: none;\n",
       "        /* Needs to be in here for Safari polyfill so background images work as expected. */\n",
       "        background-size: auto;\n",
       "    }\n",
       "    progress:not([value]), progress:not([value])::-webkit-progress-bar {\n",
       "        background: repeating-linear-gradient(45deg, #7e7e7e, #7e7e7e 10px, #5c5c5c 10px, #5c5c5c 20px);\n",
       "    }\n",
       "    .progress-bar-interrupted, .progress-bar-interrupted::-webkit-progress-bar {\n",
       "        background: #F44336;\n",
       "    }\n",
       "</style>\n"
      ],
      "text/plain": [
       "<IPython.core.display.HTML object>"
      ]
     },
     "metadata": {},
     "output_type": "display_data"
    },
    {
     "data": {
      "text/html": [
       "<table border=\"1\" class=\"dataframe\">\n",
       "  <thead>\n",
       "    <tr style=\"text-align: left;\">\n",
       "      <th>epoch</th>\n",
       "      <th>train_loss</th>\n",
       "      <th>valid_loss</th>\n",
       "      <th>accuracy</th>\n",
       "      <th>f1_score</th>\n",
       "      <th>roc_auc_score</th>\n",
       "      <th>brier_score_loss</th>\n",
       "      <th>time</th>\n",
       "    </tr>\n",
       "  </thead>\n",
       "  <tbody>\n",
       "    <tr>\n",
       "      <td>0</td>\n",
       "      <td>0.000027</td>\n",
       "      <td>0.000014</td>\n",
       "      <td>1.000000</td>\n",
       "      <td>1.000000</td>\n",
       "      <td>1.000000</td>\n",
       "      <td>0.000000</td>\n",
       "      <td>00:47</td>\n",
       "    </tr>\n",
       "  </tbody>\n",
       "</table>"
      ],
      "text/plain": [
       "<IPython.core.display.HTML object>"
      ]
     },
     "metadata": {},
     "output_type": "display_data"
    },
    {
     "name": "stdout",
     "output_type": "stream",
     "text": [
      "TRAIN: [    0     2     4 ... 79997 79998 79999] VALID: [    1     3     7 ... 79970 79992 79993]\n",
      "TensorCategory(0.0938, device='cuda:0')\n",
      "TensorCategory(0.0625, device='cuda:0')\n",
      "TensorCategory(0.0312, device='cuda:0')\n",
      "TensorCategory(0.0781, device='cuda:0')\n",
      "TensorCategory(0.1250, device='cuda:0')\n",
      "TensorCategory(0.0312, device='cuda:0')\n",
      "TensorCategory(0.1094, device='cuda:0')\n",
      "TensorCategory(0.0938, device='cuda:0')\n",
      "TensorCategory(0.0312, device='cuda:0')\n",
      "TensorCategory(0.0469, device='cuda:0')\n",
      "Random state set:1, cuda used: True\n"
     ]
    },
    {
     "data": {
      "text/html": [
       "\n",
       "<style>\n",
       "    /* Turns off some styling */\n",
       "    progress {\n",
       "        /* gets rid of default border in Firefox and Opera. */\n",
       "        border: none;\n",
       "        /* Needs to be in here for Safari polyfill so background images work as expected. */\n",
       "        background-size: auto;\n",
       "    }\n",
       "    progress:not([value]), progress:not([value])::-webkit-progress-bar {\n",
       "        background: repeating-linear-gradient(45deg, #7e7e7e, #7e7e7e 10px, #5c5c5c 10px, #5c5c5c 20px);\n",
       "    }\n",
       "    .progress-bar-interrupted, .progress-bar-interrupted::-webkit-progress-bar {\n",
       "        background: #F44336;\n",
       "    }\n",
       "</style>\n"
      ],
      "text/plain": [
       "<IPython.core.display.HTML object>"
      ]
     },
     "metadata": {},
     "output_type": "display_data"
    },
    {
     "data": {
      "text/html": [
       "<table border=\"1\" class=\"dataframe\">\n",
       "  <thead>\n",
       "    <tr style=\"text-align: left;\">\n",
       "      <th>epoch</th>\n",
       "      <th>train_loss</th>\n",
       "      <th>valid_loss</th>\n",
       "      <th>accuracy</th>\n",
       "      <th>f1_score</th>\n",
       "      <th>roc_auc_score</th>\n",
       "      <th>brier_score_loss</th>\n",
       "      <th>time</th>\n",
       "    </tr>\n",
       "  </thead>\n",
       "  <tbody>\n",
       "    <tr>\n",
       "      <td>0</td>\n",
       "      <td>0.000100</td>\n",
       "      <td>0.000014</td>\n",
       "      <td>1.000000</td>\n",
       "      <td>1.000000</td>\n",
       "      <td>1.000000</td>\n",
       "      <td>0.000000</td>\n",
       "      <td>00:53</td>\n",
       "    </tr>\n",
       "  </tbody>\n",
       "</table>"
      ],
      "text/plain": [
       "<IPython.core.display.HTML object>"
      ]
     },
     "metadata": {},
     "output_type": "display_data"
    },
    {
     "name": "stdout",
     "output_type": "stream",
     "text": [
      "TRAIN: [    1     2     3 ... 79995 79998 79999] VALID: [    0     5    11 ... 79990 79996 79997]\n",
      "TensorCategory(0.0625, device='cuda:0')\n",
      "TensorCategory(0.0781, device='cuda:0')\n",
      "TensorCategory(0.0781, device='cuda:0')\n",
      "TensorCategory(0.0312, device='cuda:0')\n",
      "TensorCategory(0.0156, device='cuda:0')\n",
      "TensorCategory(0.0469, device='cuda:0')\n",
      "TensorCategory(0.0938, device='cuda:0')\n",
      "TensorCategory(0.0312, device='cuda:0')\n",
      "TensorCategory(0.1562, device='cuda:0')\n",
      "TensorCategory(0.0938, device='cuda:0')\n",
      "Random state set:1, cuda used: True\n"
     ]
    },
    {
     "data": {
      "text/html": [
       "\n",
       "<style>\n",
       "    /* Turns off some styling */\n",
       "    progress {\n",
       "        /* gets rid of default border in Firefox and Opera. */\n",
       "        border: none;\n",
       "        /* Needs to be in here for Safari polyfill so background images work as expected. */\n",
       "        background-size: auto;\n",
       "    }\n",
       "    progress:not([value]), progress:not([value])::-webkit-progress-bar {\n",
       "        background: repeating-linear-gradient(45deg, #7e7e7e, #7e7e7e 10px, #5c5c5c 10px, #5c5c5c 20px);\n",
       "    }\n",
       "    .progress-bar-interrupted, .progress-bar-interrupted::-webkit-progress-bar {\n",
       "        background: #F44336;\n",
       "    }\n",
       "</style>\n"
      ],
      "text/plain": [
       "<IPython.core.display.HTML object>"
      ]
     },
     "metadata": {},
     "output_type": "display_data"
    },
    {
     "data": {
      "text/html": [
       "<table border=\"1\" class=\"dataframe\">\n",
       "  <thead>\n",
       "    <tr style=\"text-align: left;\">\n",
       "      <th>epoch</th>\n",
       "      <th>train_loss</th>\n",
       "      <th>valid_loss</th>\n",
       "      <th>accuracy</th>\n",
       "      <th>f1_score</th>\n",
       "      <th>roc_auc_score</th>\n",
       "      <th>brier_score_loss</th>\n",
       "      <th>time</th>\n",
       "    </tr>\n",
       "  </thead>\n",
       "  <tbody>\n",
       "    <tr>\n",
       "      <td>0</td>\n",
       "      <td>0.000034</td>\n",
       "      <td>0.000016</td>\n",
       "      <td>1.000000</td>\n",
       "      <td>1.000000</td>\n",
       "      <td>1.000000</td>\n",
       "      <td>0.000000</td>\n",
       "      <td>00:50</td>\n",
       "    </tr>\n",
       "  </tbody>\n",
       "</table>"
      ],
      "text/plain": [
       "<IPython.core.display.HTML object>"
      ]
     },
     "metadata": {},
     "output_type": "display_data"
    },
    {
     "name": "stdout",
     "output_type": "stream",
     "text": [
      "TRAIN: [    0     1     3 ... 79995 79996 79997] VALID: [    2    10    34 ... 79989 79998 79999]\n",
      "TensorCategory(0.0312, device='cuda:0')\n",
      "TensorCategory(0.0312, device='cuda:0')\n",
      "TensorCategory(0.0938, device='cuda:0')\n",
      "TensorCategory(0.0312, device='cuda:0')\n",
      "TensorCategory(0.0469, device='cuda:0')\n",
      "TensorCategory(0.0312, device='cuda:0')\n",
      "TensorCategory(0.0469, device='cuda:0')\n",
      "TensorCategory(0.0312, device='cuda:0')\n",
      "TensorCategory(0.0781, device='cuda:0')\n",
      "TensorCategory(0.0469, device='cuda:0')\n",
      "Random state set:1, cuda used: True\n"
     ]
    },
    {
     "data": {
      "text/html": [
       "\n",
       "<style>\n",
       "    /* Turns off some styling */\n",
       "    progress {\n",
       "        /* gets rid of default border in Firefox and Opera. */\n",
       "        border: none;\n",
       "        /* Needs to be in here for Safari polyfill so background images work as expected. */\n",
       "        background-size: auto;\n",
       "    }\n",
       "    progress:not([value]), progress:not([value])::-webkit-progress-bar {\n",
       "        background: repeating-linear-gradient(45deg, #7e7e7e, #7e7e7e 10px, #5c5c5c 10px, #5c5c5c 20px);\n",
       "    }\n",
       "    .progress-bar-interrupted, .progress-bar-interrupted::-webkit-progress-bar {\n",
       "        background: #F44336;\n",
       "    }\n",
       "</style>\n"
      ],
      "text/plain": [
       "<IPython.core.display.HTML object>"
      ]
     },
     "metadata": {},
     "output_type": "display_data"
    },
    {
     "data": {
      "text/html": [
       "<table border=\"1\" class=\"dataframe\">\n",
       "  <thead>\n",
       "    <tr style=\"text-align: left;\">\n",
       "      <th>epoch</th>\n",
       "      <th>train_loss</th>\n",
       "      <th>valid_loss</th>\n",
       "      <th>accuracy</th>\n",
       "      <th>f1_score</th>\n",
       "      <th>roc_auc_score</th>\n",
       "      <th>brier_score_loss</th>\n",
       "      <th>time</th>\n",
       "    </tr>\n",
       "  </thead>\n",
       "  <tbody>\n",
       "    <tr>\n",
       "      <td>0</td>\n",
       "      <td>0.000017</td>\n",
       "      <td>0.000010</td>\n",
       "      <td>1.000000</td>\n",
       "      <td>1.000000</td>\n",
       "      <td>1.000000</td>\n",
       "      <td>0.000000</td>\n",
       "      <td>00:52</td>\n",
       "    </tr>\n",
       "  </tbody>\n",
       "</table>"
      ],
      "text/plain": [
       "<IPython.core.display.HTML object>"
      ]
     },
     "metadata": {},
     "output_type": "display_data"
    },
    {
     "name": "stderr",
     "output_type": "stream",
     "text": [
      "Best trial: 0. Best value: 1:  10%|█         | 1/10 [06:03<54:30, 363.39s/it]"
     ]
    },
    {
     "name": "stdout",
     "output_type": "stream",
     "text": [
      "\u001b[32m[I 2023-03-28 12:18:55,402]\u001b[0m Trial 0 finished with value: 1.0 and parameters: {'batch_size': 64, 'ESPatience': 6, 'alpha': 0.12558531046383625, 'gamma': 1.0362143906909338, 'nf': 128, 'fc_dropout': 0.6491440476147607, 'conv_dropout': 0.2784872826479753, 'ks': 20, 'dilation': 1}. Best is trial 0 with value: 1.0.\u001b[0m\n",
      "TRAIN: [    0     1     2 ... 79997 79998 79999] VALID: [    4     9    18 ... 79978 79982 79994]\n",
      "TensorCategory(0.0156, device='cuda:0')\n",
      "TensorCategory(0.0625, device='cuda:0')\n",
      "TensorCategory(0.0469, device='cuda:0')\n",
      "TensorCategory(0.0312, device='cuda:0')\n",
      "TensorCategory(0.0469, device='cuda:0')\n",
      "TensorCategory(0.1250, device='cuda:0')\n",
      "TensorCategory(0.0469, device='cuda:0')\n",
      "TensorCategory(0.0156, device='cuda:0')\n",
      "TensorCategory(0.0625, device='cuda:0')\n",
      "TensorCategory(0.0625, device='cuda:0')\n",
      "Random state set:1, cuda used: True\n"
     ]
    },
    {
     "data": {
      "text/html": [
       "\n",
       "<style>\n",
       "    /* Turns off some styling */\n",
       "    progress {\n",
       "        /* gets rid of default border in Firefox and Opera. */\n",
       "        border: none;\n",
       "        /* Needs to be in here for Safari polyfill so background images work as expected. */\n",
       "        background-size: auto;\n",
       "    }\n",
       "    progress:not([value]), progress:not([value])::-webkit-progress-bar {\n",
       "        background: repeating-linear-gradient(45deg, #7e7e7e, #7e7e7e 10px, #5c5c5c 10px, #5c5c5c 20px);\n",
       "    }\n",
       "    .progress-bar-interrupted, .progress-bar-interrupted::-webkit-progress-bar {\n",
       "        background: #F44336;\n",
       "    }\n",
       "</style>\n"
      ],
      "text/plain": [
       "<IPython.core.display.HTML object>"
      ]
     },
     "metadata": {},
     "output_type": "display_data"
    },
    {
     "data": {
      "text/html": [
       "<table border=\"1\" class=\"dataframe\">\n",
       "  <thead>\n",
       "    <tr style=\"text-align: left;\">\n",
       "      <th>epoch</th>\n",
       "      <th>train_loss</th>\n",
       "      <th>valid_loss</th>\n",
       "      <th>accuracy</th>\n",
       "      <th>f1_score</th>\n",
       "      <th>roc_auc_score</th>\n",
       "      <th>brier_score_loss</th>\n",
       "      <th>time</th>\n",
       "    </tr>\n",
       "  </thead>\n",
       "  <tbody>\n",
       "    <tr>\n",
       "      <td>0</td>\n",
       "      <td>0.000017</td>\n",
       "      <td>0.000009</td>\n",
       "      <td>1.000000</td>\n",
       "      <td>1.000000</td>\n",
       "      <td>1.000000</td>\n",
       "      <td>0.000000</td>\n",
       "      <td>00:51</td>\n",
       "    </tr>\n",
       "  </tbody>\n",
       "</table>"
      ],
      "text/plain": [
       "<IPython.core.display.HTML object>"
      ]
     },
     "metadata": {},
     "output_type": "display_data"
    },
    {
     "name": "stdout",
     "output_type": "stream",
     "text": [
      "TRAIN: [    0     1     2 ... 79997 79998 79999] VALID: [    6    12    14 ... 79983 79991 79995]\n",
      "TensorCategory(0.0469, device='cuda:0')\n",
      "TensorCategory(0.0156, device='cuda:0')\n",
      "TensorCategory(0.0938, device='cuda:0')\n",
      "TensorCategory(0.0781, device='cuda:0')\n",
      "TensorCategory(0.0938, device='cuda:0')\n",
      "TensorCategory(0.0781, device='cuda:0')\n",
      "TensorCategory(0.0312, device='cuda:0')\n",
      "TensorCategory(0.0625, device='cuda:0')\n",
      "TensorCategory(0.0625, device='cuda:0')\n",
      "TensorCategory(0., device='cuda:0')\n",
      "Random state set:1, cuda used: True\n"
     ]
    },
    {
     "data": {
      "text/html": [
       "\n",
       "<style>\n",
       "    /* Turns off some styling */\n",
       "    progress {\n",
       "        /* gets rid of default border in Firefox and Opera. */\n",
       "        border: none;\n",
       "        /* Needs to be in here for Safari polyfill so background images work as expected. */\n",
       "        background-size: auto;\n",
       "    }\n",
       "    progress:not([value]), progress:not([value])::-webkit-progress-bar {\n",
       "        background: repeating-linear-gradient(45deg, #7e7e7e, #7e7e7e 10px, #5c5c5c 10px, #5c5c5c 20px);\n",
       "    }\n",
       "    .progress-bar-interrupted, .progress-bar-interrupted::-webkit-progress-bar {\n",
       "        background: #F44336;\n",
       "    }\n",
       "</style>\n"
      ],
      "text/plain": [
       "<IPython.core.display.HTML object>"
      ]
     },
     "metadata": {},
     "output_type": "display_data"
    },
    {
     "data": {
      "text/html": [
       "<table border=\"1\" class=\"dataframe\">\n",
       "  <thead>\n",
       "    <tr style=\"text-align: left;\">\n",
       "      <th>epoch</th>\n",
       "      <th>train_loss</th>\n",
       "      <th>valid_loss</th>\n",
       "      <th>accuracy</th>\n",
       "      <th>f1_score</th>\n",
       "      <th>roc_auc_score</th>\n",
       "      <th>brier_score_loss</th>\n",
       "      <th>time</th>\n",
       "    </tr>\n",
       "  </thead>\n",
       "  <tbody>\n",
       "    <tr>\n",
       "      <td>0</td>\n",
       "      <td>0.000033</td>\n",
       "      <td>0.000009</td>\n",
       "      <td>1.000000</td>\n",
       "      <td>1.000000</td>\n",
       "      <td>1.000000</td>\n",
       "      <td>0.000000</td>\n",
       "      <td>00:50</td>\n",
       "    </tr>\n",
       "  </tbody>\n",
       "</table>"
      ],
      "text/plain": [
       "<IPython.core.display.HTML object>"
      ]
     },
     "metadata": {},
     "output_type": "display_data"
    },
    {
     "name": "stdout",
     "output_type": "stream",
     "text": [
      "TRAIN: [    0     2     4 ... 79997 79998 79999] VALID: [    1     3     7 ... 79970 79992 79993]\n",
      "TensorCategory(0.0938, device='cuda:0')\n",
      "TensorCategory(0.0625, device='cuda:0')\n",
      "TensorCategory(0.0312, device='cuda:0')\n",
      "TensorCategory(0.0781, device='cuda:0')\n",
      "TensorCategory(0.1250, device='cuda:0')\n",
      "TensorCategory(0.0312, device='cuda:0')\n",
      "TensorCategory(0.1094, device='cuda:0')\n",
      "TensorCategory(0.0938, device='cuda:0')\n",
      "TensorCategory(0.0312, device='cuda:0')\n",
      "TensorCategory(0.0469, device='cuda:0')\n",
      "Random state set:1, cuda used: True\n"
     ]
    },
    {
     "data": {
      "text/html": [
       "\n",
       "<style>\n",
       "    /* Turns off some styling */\n",
       "    progress {\n",
       "        /* gets rid of default border in Firefox and Opera. */\n",
       "        border: none;\n",
       "        /* Needs to be in here for Safari polyfill so background images work as expected. */\n",
       "        background-size: auto;\n",
       "    }\n",
       "    progress:not([value]), progress:not([value])::-webkit-progress-bar {\n",
       "        background: repeating-linear-gradient(45deg, #7e7e7e, #7e7e7e 10px, #5c5c5c 10px, #5c5c5c 20px);\n",
       "    }\n",
       "    .progress-bar-interrupted, .progress-bar-interrupted::-webkit-progress-bar {\n",
       "        background: #F44336;\n",
       "    }\n",
       "</style>\n"
      ],
      "text/plain": [
       "<IPython.core.display.HTML object>"
      ]
     },
     "metadata": {},
     "output_type": "display_data"
    },
    {
     "data": {
      "text/html": [
       "<table border=\"1\" class=\"dataframe\">\n",
       "  <thead>\n",
       "    <tr style=\"text-align: left;\">\n",
       "      <th>epoch</th>\n",
       "      <th>train_loss</th>\n",
       "      <th>valid_loss</th>\n",
       "      <th>accuracy</th>\n",
       "      <th>f1_score</th>\n",
       "      <th>roc_auc_score</th>\n",
       "      <th>brier_score_loss</th>\n",
       "      <th>time</th>\n",
       "    </tr>\n",
       "  </thead>\n",
       "  <tbody>\n",
       "    <tr>\n",
       "      <td>0</td>\n",
       "      <td>0.000030</td>\n",
       "      <td>0.000012</td>\n",
       "      <td>1.000000</td>\n",
       "      <td>1.000000</td>\n",
       "      <td>1.000000</td>\n",
       "      <td>0.000000</td>\n",
       "      <td>00:51</td>\n",
       "    </tr>\n",
       "  </tbody>\n",
       "</table>"
      ],
      "text/plain": [
       "<IPython.core.display.HTML object>"
      ]
     },
     "metadata": {},
     "output_type": "display_data"
    },
    {
     "name": "stdout",
     "output_type": "stream",
     "text": [
      "TRAIN: [    1     2     3 ... 79995 79998 79999] VALID: [    0     5    11 ... 79990 79996 79997]\n",
      "TensorCategory(0.0625, device='cuda:0')\n",
      "TensorCategory(0.0781, device='cuda:0')\n",
      "TensorCategory(0.0781, device='cuda:0')\n",
      "TensorCategory(0.0312, device='cuda:0')\n",
      "TensorCategory(0.0156, device='cuda:0')\n",
      "TensorCategory(0.0469, device='cuda:0')\n",
      "TensorCategory(0.0938, device='cuda:0')\n",
      "TensorCategory(0.0312, device='cuda:0')\n",
      "TensorCategory(0.1562, device='cuda:0')\n",
      "TensorCategory(0.0938, device='cuda:0')\n",
      "Random state set:1, cuda used: True\n"
     ]
    },
    {
     "data": {
      "text/html": [
       "\n",
       "<style>\n",
       "    /* Turns off some styling */\n",
       "    progress {\n",
       "        /* gets rid of default border in Firefox and Opera. */\n",
       "        border: none;\n",
       "        /* Needs to be in here for Safari polyfill so background images work as expected. */\n",
       "        background-size: auto;\n",
       "    }\n",
       "    progress:not([value]), progress:not([value])::-webkit-progress-bar {\n",
       "        background: repeating-linear-gradient(45deg, #7e7e7e, #7e7e7e 10px, #5c5c5c 10px, #5c5c5c 20px);\n",
       "    }\n",
       "    .progress-bar-interrupted, .progress-bar-interrupted::-webkit-progress-bar {\n",
       "        background: #F44336;\n",
       "    }\n",
       "</style>\n"
      ],
      "text/plain": [
       "<IPython.core.display.HTML object>"
      ]
     },
     "metadata": {},
     "output_type": "display_data"
    },
    {
     "data": {
      "text/html": [
       "<table border=\"1\" class=\"dataframe\">\n",
       "  <thead>\n",
       "    <tr style=\"text-align: left;\">\n",
       "      <th>epoch</th>\n",
       "      <th>train_loss</th>\n",
       "      <th>valid_loss</th>\n",
       "      <th>accuracy</th>\n",
       "      <th>f1_score</th>\n",
       "      <th>roc_auc_score</th>\n",
       "      <th>brier_score_loss</th>\n",
       "      <th>time</th>\n",
       "    </tr>\n",
       "  </thead>\n",
       "  <tbody>\n",
       "    <tr>\n",
       "      <td>0</td>\n",
       "      <td>0.000043</td>\n",
       "      <td>0.000018</td>\n",
       "      <td>1.000000</td>\n",
       "      <td>1.000000</td>\n",
       "      <td>1.000000</td>\n",
       "      <td>0.000000</td>\n",
       "      <td>00:53</td>\n",
       "    </tr>\n",
       "  </tbody>\n",
       "</table>"
      ],
      "text/plain": [
       "<IPython.core.display.HTML object>"
      ]
     },
     "metadata": {},
     "output_type": "display_data"
    },
    {
     "name": "stdout",
     "output_type": "stream",
     "text": [
      "TRAIN: [    0     1     3 ... 79995 79996 79997] VALID: [    2    10    34 ... 79989 79998 79999]\n",
      "TensorCategory(0.0312, device='cuda:0')\n",
      "TensorCategory(0.0312, device='cuda:0')\n",
      "TensorCategory(0.0938, device='cuda:0')\n",
      "TensorCategory(0.0312, device='cuda:0')\n",
      "TensorCategory(0.0469, device='cuda:0')\n",
      "TensorCategory(0.0312, device='cuda:0')\n",
      "TensorCategory(0.0469, device='cuda:0')\n",
      "TensorCategory(0.0312, device='cuda:0')\n",
      "TensorCategory(0.0781, device='cuda:0')\n",
      "TensorCategory(0.0469, device='cuda:0')\n",
      "Random state set:1, cuda used: True\n"
     ]
    },
    {
     "data": {
      "text/html": [
       "\n",
       "<style>\n",
       "    /* Turns off some styling */\n",
       "    progress {\n",
       "        /* gets rid of default border in Firefox and Opera. */\n",
       "        border: none;\n",
       "        /* Needs to be in here for Safari polyfill so background images work as expected. */\n",
       "        background-size: auto;\n",
       "    }\n",
       "    progress:not([value]), progress:not([value])::-webkit-progress-bar {\n",
       "        background: repeating-linear-gradient(45deg, #7e7e7e, #7e7e7e 10px, #5c5c5c 10px, #5c5c5c 20px);\n",
       "    }\n",
       "    .progress-bar-interrupted, .progress-bar-interrupted::-webkit-progress-bar {\n",
       "        background: #F44336;\n",
       "    }\n",
       "</style>\n"
      ],
      "text/plain": [
       "<IPython.core.display.HTML object>"
      ]
     },
     "metadata": {},
     "output_type": "display_data"
    },
    {
     "data": {
      "text/html": [
       "<table border=\"1\" class=\"dataframe\">\n",
       "  <thead>\n",
       "    <tr style=\"text-align: left;\">\n",
       "      <th>epoch</th>\n",
       "      <th>train_loss</th>\n",
       "      <th>valid_loss</th>\n",
       "      <th>accuracy</th>\n",
       "      <th>f1_score</th>\n",
       "      <th>roc_auc_score</th>\n",
       "      <th>brier_score_loss</th>\n",
       "      <th>time</th>\n",
       "    </tr>\n",
       "  </thead>\n",
       "  <tbody>\n",
       "    <tr>\n",
       "      <td>0</td>\n",
       "      <td>0.000039</td>\n",
       "      <td>0.000020</td>\n",
       "      <td>1.000000</td>\n",
       "      <td>1.000000</td>\n",
       "      <td>1.000000</td>\n",
       "      <td>0.000000</td>\n",
       "      <td>00:55</td>\n",
       "    </tr>\n",
       "  </tbody>\n",
       "</table>"
      ],
      "text/plain": [
       "<IPython.core.display.HTML object>"
      ]
     },
     "metadata": {},
     "output_type": "display_data"
    },
    {
     "name": "stderr",
     "output_type": "stream",
     "text": [
      "Best trial: 0. Best value: 1:  20%|██        | 2/10 [12:08<48:34, 364.28s/it]"
     ]
    },
    {
     "name": "stdout",
     "output_type": "stream",
     "text": [
      "\u001b[32m[I 2023-03-28 12:25:00,302]\u001b[0m Trial 1 finished with value: 1.0 and parameters: {'batch_size': 64, 'ESPatience': 6, 'alpha': 0.30636353237617975, 'gamma': 1.109789419660907, 'nf': 96, 'fc_dropout': 0.9028341085383981, 'conv_dropout': 0.8457508712931793, 'ks': 60, 'dilation': 1}. Best is trial 0 with value: 1.0.\u001b[0m\n",
      "TRAIN: [    0     1     2 ... 79997 79998 79999] VALID: [    4     9    18 ... 79978 79982 79994]\n",
      "TensorCategory(0.0156, device='cuda:0')\n",
      "TensorCategory(0.0625, device='cuda:0')\n",
      "TensorCategory(0.0469, device='cuda:0')\n",
      "TensorCategory(0.0312, device='cuda:0')\n",
      "TensorCategory(0.0469, device='cuda:0')\n",
      "TensorCategory(0.1250, device='cuda:0')\n",
      "TensorCategory(0.0469, device='cuda:0')\n",
      "TensorCategory(0.0156, device='cuda:0')\n",
      "TensorCategory(0.0625, device='cuda:0')\n",
      "TensorCategory(0.0625, device='cuda:0')\n",
      "Random state set:1, cuda used: True\n"
     ]
    },
    {
     "data": {
      "text/html": [
       "\n",
       "<style>\n",
       "    /* Turns off some styling */\n",
       "    progress {\n",
       "        /* gets rid of default border in Firefox and Opera. */\n",
       "        border: none;\n",
       "        /* Needs to be in here for Safari polyfill so background images work as expected. */\n",
       "        background-size: auto;\n",
       "    }\n",
       "    progress:not([value]), progress:not([value])::-webkit-progress-bar {\n",
       "        background: repeating-linear-gradient(45deg, #7e7e7e, #7e7e7e 10px, #5c5c5c 10px, #5c5c5c 20px);\n",
       "    }\n",
       "    .progress-bar-interrupted, .progress-bar-interrupted::-webkit-progress-bar {\n",
       "        background: #F44336;\n",
       "    }\n",
       "</style>\n"
      ],
      "text/plain": [
       "<IPython.core.display.HTML object>"
      ]
     },
     "metadata": {},
     "output_type": "display_data"
    },
    {
     "data": {
      "text/html": [
       "<table border=\"1\" class=\"dataframe\">\n",
       "  <thead>\n",
       "    <tr style=\"text-align: left;\">\n",
       "      <th>epoch</th>\n",
       "      <th>train_loss</th>\n",
       "      <th>valid_loss</th>\n",
       "      <th>accuracy</th>\n",
       "      <th>f1_score</th>\n",
       "      <th>roc_auc_score</th>\n",
       "      <th>brier_score_loss</th>\n",
       "      <th>time</th>\n",
       "    </tr>\n",
       "  </thead>\n",
       "  <tbody>\n",
       "    <tr>\n",
       "      <td>0</td>\n",
       "      <td>0.000032</td>\n",
       "      <td>0.000024</td>\n",
       "      <td>0.999937</td>\n",
       "      <td>0.999481</td>\n",
       "      <td>1.000000</td>\n",
       "      <td>0.000063</td>\n",
       "      <td>00:53</td>\n",
       "    </tr>\n",
       "  </tbody>\n",
       "</table>"
      ],
      "text/plain": [
       "<IPython.core.display.HTML object>"
      ]
     },
     "metadata": {},
     "output_type": "display_data"
    },
    {
     "name": "stdout",
     "output_type": "stream",
     "text": [
      "TRAIN: [    0     1     2 ... 79997 79998 79999] VALID: [    6    12    14 ... 79983 79991 79995]\n",
      "TensorCategory(0.0469, device='cuda:0')\n",
      "TensorCategory(0.0156, device='cuda:0')\n",
      "TensorCategory(0.0938, device='cuda:0')\n",
      "TensorCategory(0.0781, device='cuda:0')\n",
      "TensorCategory(0.0938, device='cuda:0')\n",
      "TensorCategory(0.0781, device='cuda:0')\n",
      "TensorCategory(0.0312, device='cuda:0')\n",
      "TensorCategory(0.0625, device='cuda:0')\n",
      "TensorCategory(0.0625, device='cuda:0')\n",
      "TensorCategory(0., device='cuda:0')\n",
      "Random state set:1, cuda used: True\n"
     ]
    },
    {
     "data": {
      "text/html": [
       "\n",
       "<style>\n",
       "    /* Turns off some styling */\n",
       "    progress {\n",
       "        /* gets rid of default border in Firefox and Opera. */\n",
       "        border: none;\n",
       "        /* Needs to be in here for Safari polyfill so background images work as expected. */\n",
       "        background-size: auto;\n",
       "    }\n",
       "    progress:not([value]), progress:not([value])::-webkit-progress-bar {\n",
       "        background: repeating-linear-gradient(45deg, #7e7e7e, #7e7e7e 10px, #5c5c5c 10px, #5c5c5c 20px);\n",
       "    }\n",
       "    .progress-bar-interrupted, .progress-bar-interrupted::-webkit-progress-bar {\n",
       "        background: #F44336;\n",
       "    }\n",
       "</style>\n"
      ],
      "text/plain": [
       "<IPython.core.display.HTML object>"
      ]
     },
     "metadata": {},
     "output_type": "display_data"
    },
    {
     "data": {
      "text/html": [
       "<table border=\"1\" class=\"dataframe\">\n",
       "  <thead>\n",
       "    <tr style=\"text-align: left;\">\n",
       "      <th>epoch</th>\n",
       "      <th>train_loss</th>\n",
       "      <th>valid_loss</th>\n",
       "      <th>accuracy</th>\n",
       "      <th>f1_score</th>\n",
       "      <th>roc_auc_score</th>\n",
       "      <th>brier_score_loss</th>\n",
       "      <th>time</th>\n",
       "    </tr>\n",
       "  </thead>\n",
       "  <tbody>\n",
       "    <tr>\n",
       "      <td>0</td>\n",
       "      <td>0.000059</td>\n",
       "      <td>0.000009</td>\n",
       "      <td>1.000000</td>\n",
       "      <td>1.000000</td>\n",
       "      <td>1.000000</td>\n",
       "      <td>0.000000</td>\n",
       "      <td>00:50</td>\n",
       "    </tr>\n",
       "  </tbody>\n",
       "</table>"
      ],
      "text/plain": [
       "<IPython.core.display.HTML object>"
      ]
     },
     "metadata": {},
     "output_type": "display_data"
    },
    {
     "name": "stdout",
     "output_type": "stream",
     "text": [
      "TRAIN: [    0     2     4 ... 79997 79998 79999] VALID: [    1     3     7 ... 79970 79992 79993]\n",
      "TensorCategory(0.0938, device='cuda:0')\n",
      "TensorCategory(0.0625, device='cuda:0')\n",
      "TensorCategory(0.0312, device='cuda:0')\n",
      "TensorCategory(0.0781, device='cuda:0')\n",
      "TensorCategory(0.1250, device='cuda:0')\n",
      "TensorCategory(0.0312, device='cuda:0')\n",
      "TensorCategory(0.1094, device='cuda:0')\n",
      "TensorCategory(0.0938, device='cuda:0')\n",
      "TensorCategory(0.0312, device='cuda:0')\n",
      "TensorCategory(0.0469, device='cuda:0')\n",
      "Random state set:1, cuda used: True\n"
     ]
    },
    {
     "data": {
      "text/html": [
       "\n",
       "<style>\n",
       "    /* Turns off some styling */\n",
       "    progress {\n",
       "        /* gets rid of default border in Firefox and Opera. */\n",
       "        border: none;\n",
       "        /* Needs to be in here for Safari polyfill so background images work as expected. */\n",
       "        background-size: auto;\n",
       "    }\n",
       "    progress:not([value]), progress:not([value])::-webkit-progress-bar {\n",
       "        background: repeating-linear-gradient(45deg, #7e7e7e, #7e7e7e 10px, #5c5c5c 10px, #5c5c5c 20px);\n",
       "    }\n",
       "    .progress-bar-interrupted, .progress-bar-interrupted::-webkit-progress-bar {\n",
       "        background: #F44336;\n",
       "    }\n",
       "</style>\n"
      ],
      "text/plain": [
       "<IPython.core.display.HTML object>"
      ]
     },
     "metadata": {},
     "output_type": "display_data"
    },
    {
     "data": {
      "text/html": [
       "<table border=\"1\" class=\"dataframe\">\n",
       "  <thead>\n",
       "    <tr style=\"text-align: left;\">\n",
       "      <th>epoch</th>\n",
       "      <th>train_loss</th>\n",
       "      <th>valid_loss</th>\n",
       "      <th>accuracy</th>\n",
       "      <th>f1_score</th>\n",
       "      <th>roc_auc_score</th>\n",
       "      <th>brier_score_loss</th>\n",
       "      <th>time</th>\n",
       "    </tr>\n",
       "  </thead>\n",
       "  <tbody>\n",
       "    <tr>\n",
       "      <td>0</td>\n",
       "      <td>0.000048</td>\n",
       "      <td>0.000018</td>\n",
       "      <td>1.000000</td>\n",
       "      <td>1.000000</td>\n",
       "      <td>1.000000</td>\n",
       "      <td>0.000000</td>\n",
       "      <td>00:50</td>\n",
       "    </tr>\n",
       "  </tbody>\n",
       "</table>"
      ],
      "text/plain": [
       "<IPython.core.display.HTML object>"
      ]
     },
     "metadata": {},
     "output_type": "display_data"
    },
    {
     "name": "stdout",
     "output_type": "stream",
     "text": [
      "TRAIN: [    1     2     3 ... 79995 79998 79999] VALID: [    0     5    11 ... 79990 79996 79997]\n",
      "TensorCategory(0.0625, device='cuda:0')\n",
      "TensorCategory(0.0781, device='cuda:0')\n",
      "TensorCategory(0.0781, device='cuda:0')\n",
      "TensorCategory(0.0312, device='cuda:0')\n",
      "TensorCategory(0.0156, device='cuda:0')\n",
      "TensorCategory(0.0469, device='cuda:0')\n",
      "TensorCategory(0.0938, device='cuda:0')\n",
      "TensorCategory(0.0312, device='cuda:0')\n",
      "TensorCategory(0.1562, device='cuda:0')\n",
      "TensorCategory(0.0938, device='cuda:0')\n",
      "Random state set:1, cuda used: True\n"
     ]
    },
    {
     "data": {
      "text/html": [
       "\n",
       "<style>\n",
       "    /* Turns off some styling */\n",
       "    progress {\n",
       "        /* gets rid of default border in Firefox and Opera. */\n",
       "        border: none;\n",
       "        /* Needs to be in here for Safari polyfill so background images work as expected. */\n",
       "        background-size: auto;\n",
       "    }\n",
       "    progress:not([value]), progress:not([value])::-webkit-progress-bar {\n",
       "        background: repeating-linear-gradient(45deg, #7e7e7e, #7e7e7e 10px, #5c5c5c 10px, #5c5c5c 20px);\n",
       "    }\n",
       "    .progress-bar-interrupted, .progress-bar-interrupted::-webkit-progress-bar {\n",
       "        background: #F44336;\n",
       "    }\n",
       "</style>\n"
      ],
      "text/plain": [
       "<IPython.core.display.HTML object>"
      ]
     },
     "metadata": {},
     "output_type": "display_data"
    },
    {
     "data": {
      "text/html": [
       "<table border=\"1\" class=\"dataframe\">\n",
       "  <thead>\n",
       "    <tr style=\"text-align: left;\">\n",
       "      <th>epoch</th>\n",
       "      <th>train_loss</th>\n",
       "      <th>valid_loss</th>\n",
       "      <th>accuracy</th>\n",
       "      <th>f1_score</th>\n",
       "      <th>roc_auc_score</th>\n",
       "      <th>brier_score_loss</th>\n",
       "      <th>time</th>\n",
       "    </tr>\n",
       "  </thead>\n",
       "  <tbody>\n",
       "    <tr>\n",
       "      <td>0</td>\n",
       "      <td>0.000047</td>\n",
       "      <td>0.000020</td>\n",
       "      <td>0.999937</td>\n",
       "      <td>0.999481</td>\n",
       "      <td>1.000000</td>\n",
       "      <td>0.000063</td>\n",
       "      <td>00:48</td>\n",
       "    </tr>\n",
       "  </tbody>\n",
       "</table>"
      ],
      "text/plain": [
       "<IPython.core.display.HTML object>"
      ]
     },
     "metadata": {},
     "output_type": "display_data"
    },
    {
     "name": "stdout",
     "output_type": "stream",
     "text": [
      "TRAIN: [    0     1     3 ... 79995 79996 79997] VALID: [    2    10    34 ... 79989 79998 79999]\n",
      "TensorCategory(0.0312, device='cuda:0')\n",
      "TensorCategory(0.0312, device='cuda:0')\n",
      "TensorCategory(0.0938, device='cuda:0')\n",
      "TensorCategory(0.0312, device='cuda:0')\n",
      "TensorCategory(0.0469, device='cuda:0')\n",
      "TensorCategory(0.0312, device='cuda:0')\n",
      "TensorCategory(0.0469, device='cuda:0')\n",
      "TensorCategory(0.0312, device='cuda:0')\n",
      "TensorCategory(0.0781, device='cuda:0')\n",
      "TensorCategory(0.0469, device='cuda:0')\n",
      "Random state set:1, cuda used: True\n"
     ]
    },
    {
     "data": {
      "text/html": [
       "\n",
       "<style>\n",
       "    /* Turns off some styling */\n",
       "    progress {\n",
       "        /* gets rid of default border in Firefox and Opera. */\n",
       "        border: none;\n",
       "        /* Needs to be in here for Safari polyfill so background images work as expected. */\n",
       "        background-size: auto;\n",
       "    }\n",
       "    progress:not([value]), progress:not([value])::-webkit-progress-bar {\n",
       "        background: repeating-linear-gradient(45deg, #7e7e7e, #7e7e7e 10px, #5c5c5c 10px, #5c5c5c 20px);\n",
       "    }\n",
       "    .progress-bar-interrupted, .progress-bar-interrupted::-webkit-progress-bar {\n",
       "        background: #F44336;\n",
       "    }\n",
       "</style>\n"
      ],
      "text/plain": [
       "<IPython.core.display.HTML object>"
      ]
     },
     "metadata": {},
     "output_type": "display_data"
    },
    {
     "data": {
      "text/html": [
       "<table border=\"1\" class=\"dataframe\">\n",
       "  <thead>\n",
       "    <tr style=\"text-align: left;\">\n",
       "      <th>epoch</th>\n",
       "      <th>train_loss</th>\n",
       "      <th>valid_loss</th>\n",
       "      <th>accuracy</th>\n",
       "      <th>f1_score</th>\n",
       "      <th>roc_auc_score</th>\n",
       "      <th>brier_score_loss</th>\n",
       "      <th>time</th>\n",
       "    </tr>\n",
       "  </thead>\n",
       "  <tbody>\n",
       "    <tr>\n",
       "      <td>0</td>\n",
       "      <td>0.000046</td>\n",
       "      <td>0.000033</td>\n",
       "      <td>0.999812</td>\n",
       "      <td>0.998442</td>\n",
       "      <td>1.000000</td>\n",
       "      <td>0.000188</td>\n",
       "      <td>00:51</td>\n",
       "    </tr>\n",
       "  </tbody>\n",
       "</table>"
      ],
      "text/plain": [
       "<IPython.core.display.HTML object>"
      ]
     },
     "metadata": {},
     "output_type": "display_data"
    },
    {
     "name": "stderr",
     "output_type": "stream",
     "text": [
      "Best trial: 0. Best value: 1:  30%|███       | 3/10 [18:07<42:14, 362.01s/it]"
     ]
    },
    {
     "name": "stdout",
     "output_type": "stream",
     "text": [
      "\u001b[32m[I 2023-03-28 12:30:59,625]\u001b[0m Trial 2 finished with value: 1.0 and parameters: {'batch_size': 64, 'ESPatience': 6, 'alpha': 0.5862529044678214, 'gamma': 1.417439312161049, 'nf': 64, 'fc_dropout': 0.5140350598174419, 'conv_dropout': 0.08722936878080467, 'ks': 60, 'dilation': 1}. Best is trial 0 with value: 1.0.\u001b[0m\n",
      "TRAIN: [    0     1     2 ... 79997 79998 79999] VALID: [    4     9    18 ... 79978 79982 79994]\n",
      "TensorCategory(0.0156, device='cuda:0')\n",
      "TensorCategory(0.0625, device='cuda:0')\n",
      "TensorCategory(0.0469, device='cuda:0')\n",
      "TensorCategory(0.0312, device='cuda:0')\n",
      "TensorCategory(0.0469, device='cuda:0')\n",
      "TensorCategory(0.1250, device='cuda:0')\n",
      "TensorCategory(0.0469, device='cuda:0')\n",
      "TensorCategory(0.0156, device='cuda:0')\n",
      "TensorCategory(0.0625, device='cuda:0')\n",
      "TensorCategory(0.0625, device='cuda:0')\n",
      "Random state set:1, cuda used: True\n"
     ]
    },
    {
     "data": {
      "text/html": [
       "\n",
       "<style>\n",
       "    /* Turns off some styling */\n",
       "    progress {\n",
       "        /* gets rid of default border in Firefox and Opera. */\n",
       "        border: none;\n",
       "        /* Needs to be in here for Safari polyfill so background images work as expected. */\n",
       "        background-size: auto;\n",
       "    }\n",
       "    progress:not([value]), progress:not([value])::-webkit-progress-bar {\n",
       "        background: repeating-linear-gradient(45deg, #7e7e7e, #7e7e7e 10px, #5c5c5c 10px, #5c5c5c 20px);\n",
       "    }\n",
       "    .progress-bar-interrupted, .progress-bar-interrupted::-webkit-progress-bar {\n",
       "        background: #F44336;\n",
       "    }\n",
       "</style>\n"
      ],
      "text/plain": [
       "<IPython.core.display.HTML object>"
      ]
     },
     "metadata": {},
     "output_type": "display_data"
    },
    {
     "data": {
      "text/html": [
       "<table border=\"1\" class=\"dataframe\">\n",
       "  <thead>\n",
       "    <tr style=\"text-align: left;\">\n",
       "      <th>epoch</th>\n",
       "      <th>train_loss</th>\n",
       "      <th>valid_loss</th>\n",
       "      <th>accuracy</th>\n",
       "      <th>f1_score</th>\n",
       "      <th>roc_auc_score</th>\n",
       "      <th>brier_score_loss</th>\n",
       "      <th>time</th>\n",
       "    </tr>\n",
       "  </thead>\n",
       "  <tbody>\n",
       "    <tr>\n",
       "      <td>0</td>\n",
       "      <td>0.000014</td>\n",
       "      <td>0.000007</td>\n",
       "      <td>0.999875</td>\n",
       "      <td>0.998964</td>\n",
       "      <td>1.000000</td>\n",
       "      <td>0.000125</td>\n",
       "      <td>00:49</td>\n",
       "    </tr>\n",
       "  </tbody>\n",
       "</table>"
      ],
      "text/plain": [
       "<IPython.core.display.HTML object>"
      ]
     },
     "metadata": {},
     "output_type": "display_data"
    },
    {
     "name": "stdout",
     "output_type": "stream",
     "text": [
      "TRAIN: [    0     1     2 ... 79997 79998 79999] VALID: [    6    12    14 ... 79983 79991 79995]\n",
      "TensorCategory(0.0469, device='cuda:0')\n",
      "TensorCategory(0.0156, device='cuda:0')\n",
      "TensorCategory(0.0938, device='cuda:0')\n",
      "TensorCategory(0.0781, device='cuda:0')\n",
      "TensorCategory(0.0938, device='cuda:0')\n",
      "TensorCategory(0.0781, device='cuda:0')\n",
      "TensorCategory(0.0312, device='cuda:0')\n",
      "TensorCategory(0.0625, device='cuda:0')\n",
      "TensorCategory(0.0625, device='cuda:0')\n",
      "TensorCategory(0., device='cuda:0')\n",
      "Random state set:1, cuda used: True\n"
     ]
    },
    {
     "data": {
      "text/html": [
       "\n",
       "<style>\n",
       "    /* Turns off some styling */\n",
       "    progress {\n",
       "        /* gets rid of default border in Firefox and Opera. */\n",
       "        border: none;\n",
       "        /* Needs to be in here for Safari polyfill so background images work as expected. */\n",
       "        background-size: auto;\n",
       "    }\n",
       "    progress:not([value]), progress:not([value])::-webkit-progress-bar {\n",
       "        background: repeating-linear-gradient(45deg, #7e7e7e, #7e7e7e 10px, #5c5c5c 10px, #5c5c5c 20px);\n",
       "    }\n",
       "    .progress-bar-interrupted, .progress-bar-interrupted::-webkit-progress-bar {\n",
       "        background: #F44336;\n",
       "    }\n",
       "</style>\n"
      ],
      "text/plain": [
       "<IPython.core.display.HTML object>"
      ]
     },
     "metadata": {},
     "output_type": "display_data"
    },
    {
     "data": {
      "text/html": [
       "<table border=\"1\" class=\"dataframe\">\n",
       "  <thead>\n",
       "    <tr style=\"text-align: left;\">\n",
       "      <th>epoch</th>\n",
       "      <th>train_loss</th>\n",
       "      <th>valid_loss</th>\n",
       "      <th>accuracy</th>\n",
       "      <th>f1_score</th>\n",
       "      <th>roc_auc_score</th>\n",
       "      <th>brier_score_loss</th>\n",
       "      <th>time</th>\n",
       "    </tr>\n",
       "  </thead>\n",
       "  <tbody>\n",
       "    <tr>\n",
       "      <td>0</td>\n",
       "      <td>0.000024</td>\n",
       "      <td>0.000009</td>\n",
       "      <td>0.999937</td>\n",
       "      <td>0.999482</td>\n",
       "      <td>1.000000</td>\n",
       "      <td>0.000063</td>\n",
       "      <td>00:50</td>\n",
       "    </tr>\n",
       "  </tbody>\n",
       "</table>"
      ],
      "text/plain": [
       "<IPython.core.display.HTML object>"
      ]
     },
     "metadata": {},
     "output_type": "display_data"
    },
    {
     "name": "stdout",
     "output_type": "stream",
     "text": [
      "TRAIN: [    0     2     4 ... 79997 79998 79999] VALID: [    1     3     7 ... 79970 79992 79993]\n",
      "TensorCategory(0.0938, device='cuda:0')\n",
      "TensorCategory(0.0625, device='cuda:0')\n",
      "TensorCategory(0.0312, device='cuda:0')\n",
      "TensorCategory(0.0781, device='cuda:0')\n",
      "TensorCategory(0.1250, device='cuda:0')\n",
      "TensorCategory(0.0312, device='cuda:0')\n",
      "TensorCategory(0.1094, device='cuda:0')\n",
      "TensorCategory(0.0938, device='cuda:0')\n",
      "TensorCategory(0.0312, device='cuda:0')\n",
      "TensorCategory(0.0469, device='cuda:0')\n",
      "Random state set:1, cuda used: True\n"
     ]
    },
    {
     "data": {
      "text/html": [
       "\n",
       "<style>\n",
       "    /* Turns off some styling */\n",
       "    progress {\n",
       "        /* gets rid of default border in Firefox and Opera. */\n",
       "        border: none;\n",
       "        /* Needs to be in here for Safari polyfill so background images work as expected. */\n",
       "        background-size: auto;\n",
       "    }\n",
       "    progress:not([value]), progress:not([value])::-webkit-progress-bar {\n",
       "        background: repeating-linear-gradient(45deg, #7e7e7e, #7e7e7e 10px, #5c5c5c 10px, #5c5c5c 20px);\n",
       "    }\n",
       "    .progress-bar-interrupted, .progress-bar-interrupted::-webkit-progress-bar {\n",
       "        background: #F44336;\n",
       "    }\n",
       "</style>\n"
      ],
      "text/plain": [
       "<IPython.core.display.HTML object>"
      ]
     },
     "metadata": {},
     "output_type": "display_data"
    },
    {
     "data": {
      "text/html": [
       "<table border=\"1\" class=\"dataframe\">\n",
       "  <thead>\n",
       "    <tr style=\"text-align: left;\">\n",
       "      <th>epoch</th>\n",
       "      <th>train_loss</th>\n",
       "      <th>valid_loss</th>\n",
       "      <th>accuracy</th>\n",
       "      <th>f1_score</th>\n",
       "      <th>roc_auc_score</th>\n",
       "      <th>brier_score_loss</th>\n",
       "      <th>time</th>\n",
       "    </tr>\n",
       "  </thead>\n",
       "  <tbody>\n",
       "    <tr>\n",
       "      <td>0</td>\n",
       "      <td>0.000014</td>\n",
       "      <td>0.000005</td>\n",
       "      <td>1.000000</td>\n",
       "      <td>1.000000</td>\n",
       "      <td>1.000000</td>\n",
       "      <td>0.000000</td>\n",
       "      <td>00:50</td>\n",
       "    </tr>\n",
       "  </tbody>\n",
       "</table>"
      ],
      "text/plain": [
       "<IPython.core.display.HTML object>"
      ]
     },
     "metadata": {},
     "output_type": "display_data"
    },
    {
     "name": "stdout",
     "output_type": "stream",
     "text": [
      "TRAIN: [    1     2     3 ... 79995 79998 79999] VALID: [    0     5    11 ... 79990 79996 79997]\n",
      "TensorCategory(0.0625, device='cuda:0')\n",
      "TensorCategory(0.0781, device='cuda:0')\n",
      "TensorCategory(0.0781, device='cuda:0')\n",
      "TensorCategory(0.0312, device='cuda:0')\n",
      "TensorCategory(0.0156, device='cuda:0')\n",
      "TensorCategory(0.0469, device='cuda:0')\n",
      "TensorCategory(0.0938, device='cuda:0')\n",
      "TensorCategory(0.0312, device='cuda:0')\n",
      "TensorCategory(0.1562, device='cuda:0')\n",
      "TensorCategory(0.0938, device='cuda:0')\n",
      "Random state set:1, cuda used: True\n"
     ]
    },
    {
     "data": {
      "text/html": [
       "\n",
       "<style>\n",
       "    /* Turns off some styling */\n",
       "    progress {\n",
       "        /* gets rid of default border in Firefox and Opera. */\n",
       "        border: none;\n",
       "        /* Needs to be in here for Safari polyfill so background images work as expected. */\n",
       "        background-size: auto;\n",
       "    }\n",
       "    progress:not([value]), progress:not([value])::-webkit-progress-bar {\n",
       "        background: repeating-linear-gradient(45deg, #7e7e7e, #7e7e7e 10px, #5c5c5c 10px, #5c5c5c 20px);\n",
       "    }\n",
       "    .progress-bar-interrupted, .progress-bar-interrupted::-webkit-progress-bar {\n",
       "        background: #F44336;\n",
       "    }\n",
       "</style>\n"
      ],
      "text/plain": [
       "<IPython.core.display.HTML object>"
      ]
     },
     "metadata": {},
     "output_type": "display_data"
    },
    {
     "data": {
      "text/html": [
       "<table border=\"1\" class=\"dataframe\">\n",
       "  <thead>\n",
       "    <tr style=\"text-align: left;\">\n",
       "      <th>epoch</th>\n",
       "      <th>train_loss</th>\n",
       "      <th>valid_loss</th>\n",
       "      <th>accuracy</th>\n",
       "      <th>f1_score</th>\n",
       "      <th>roc_auc_score</th>\n",
       "      <th>brier_score_loss</th>\n",
       "      <th>time</th>\n",
       "    </tr>\n",
       "  </thead>\n",
       "  <tbody>\n",
       "    <tr>\n",
       "      <td>0</td>\n",
       "      <td>0.000015</td>\n",
       "      <td>0.000007</td>\n",
       "      <td>1.000000</td>\n",
       "      <td>1.000000</td>\n",
       "      <td>1.000000</td>\n",
       "      <td>0.000000</td>\n",
       "      <td>00:51</td>\n",
       "    </tr>\n",
       "  </tbody>\n",
       "</table>"
      ],
      "text/plain": [
       "<IPython.core.display.HTML object>"
      ]
     },
     "metadata": {},
     "output_type": "display_data"
    },
    {
     "name": "stdout",
     "output_type": "stream",
     "text": [
      "TRAIN: [    0     1     3 ... 79995 79996 79997] VALID: [    2    10    34 ... 79989 79998 79999]\n",
      "TensorCategory(0.0312, device='cuda:0')\n",
      "TensorCategory(0.0312, device='cuda:0')\n",
      "TensorCategory(0.0938, device='cuda:0')\n",
      "TensorCategory(0.0312, device='cuda:0')\n",
      "TensorCategory(0.0469, device='cuda:0')\n",
      "TensorCategory(0.0312, device='cuda:0')\n",
      "TensorCategory(0.0469, device='cuda:0')\n",
      "TensorCategory(0.0312, device='cuda:0')\n",
      "TensorCategory(0.0781, device='cuda:0')\n",
      "TensorCategory(0.0469, device='cuda:0')\n",
      "Random state set:1, cuda used: True\n"
     ]
    },
    {
     "data": {
      "text/html": [
       "\n",
       "<style>\n",
       "    /* Turns off some styling */\n",
       "    progress {\n",
       "        /* gets rid of default border in Firefox and Opera. */\n",
       "        border: none;\n",
       "        /* Needs to be in here for Safari polyfill so background images work as expected. */\n",
       "        background-size: auto;\n",
       "    }\n",
       "    progress:not([value]), progress:not([value])::-webkit-progress-bar {\n",
       "        background: repeating-linear-gradient(45deg, #7e7e7e, #7e7e7e 10px, #5c5c5c 10px, #5c5c5c 20px);\n",
       "    }\n",
       "    .progress-bar-interrupted, .progress-bar-interrupted::-webkit-progress-bar {\n",
       "        background: #F44336;\n",
       "    }\n",
       "</style>\n"
      ],
      "text/plain": [
       "<IPython.core.display.HTML object>"
      ]
     },
     "metadata": {},
     "output_type": "display_data"
    },
    {
     "data": {
      "text/html": [
       "<table border=\"1\" class=\"dataframe\">\n",
       "  <thead>\n",
       "    <tr style=\"text-align: left;\">\n",
       "      <th>epoch</th>\n",
       "      <th>train_loss</th>\n",
       "      <th>valid_loss</th>\n",
       "      <th>accuracy</th>\n",
       "      <th>f1_score</th>\n",
       "      <th>roc_auc_score</th>\n",
       "      <th>brier_score_loss</th>\n",
       "      <th>time</th>\n",
       "    </tr>\n",
       "  </thead>\n",
       "  <tbody>\n",
       "    <tr>\n",
       "      <td>0</td>\n",
       "      <td>0.000009</td>\n",
       "      <td>0.000006</td>\n",
       "      <td>1.000000</td>\n",
       "      <td>1.000000</td>\n",
       "      <td>1.000000</td>\n",
       "      <td>0.000000</td>\n",
       "      <td>00:54</td>\n",
       "    </tr>\n",
       "  </tbody>\n",
       "</table>"
      ],
      "text/plain": [
       "<IPython.core.display.HTML object>"
      ]
     },
     "metadata": {},
     "output_type": "display_data"
    },
    {
     "name": "stderr",
     "output_type": "stream",
     "text": [
      "Best trial: 0. Best value: 1:  40%|████      | 4/10 [24:07<36:06, 361.11s/it]"
     ]
    },
    {
     "name": "stdout",
     "output_type": "stream",
     "text": [
      "\u001b[32m[I 2023-03-28 12:36:59,338]\u001b[0m Trial 3 finished with value: 1.0 and parameters: {'batch_size': 64, 'ESPatience': 2, 'alpha': 0.061528930829939266, 'gamma': 1.2133771109216906, 'nf': 32, 'fc_dropout': 0.7239391394374821, 'conv_dropout': 0.4750886106344313, 'ks': 20, 'dilation': 1}. Best is trial 0 with value: 1.0.\u001b[0m\n",
      "TRAIN: [    0     1     2 ... 79997 79998 79999] VALID: [    4     9    18 ... 79978 79982 79994]\n",
      "TensorCategory(0.0156, device='cuda:0')\n",
      "TensorCategory(0.0625, device='cuda:0')\n",
      "TensorCategory(0.0469, device='cuda:0')\n",
      "TensorCategory(0.0312, device='cuda:0')\n",
      "TensorCategory(0.0469, device='cuda:0')\n",
      "TensorCategory(0.1250, device='cuda:0')\n",
      "TensorCategory(0.0469, device='cuda:0')\n",
      "TensorCategory(0.0156, device='cuda:0')\n",
      "TensorCategory(0.0625, device='cuda:0')\n",
      "TensorCategory(0.0625, device='cuda:0')\n",
      "Random state set:1, cuda used: True\n"
     ]
    },
    {
     "data": {
      "text/html": [
       "\n",
       "<style>\n",
       "    /* Turns off some styling */\n",
       "    progress {\n",
       "        /* gets rid of default border in Firefox and Opera. */\n",
       "        border: none;\n",
       "        /* Needs to be in here for Safari polyfill so background images work as expected. */\n",
       "        background-size: auto;\n",
       "    }\n",
       "    progress:not([value]), progress:not([value])::-webkit-progress-bar {\n",
       "        background: repeating-linear-gradient(45deg, #7e7e7e, #7e7e7e 10px, #5c5c5c 10px, #5c5c5c 20px);\n",
       "    }\n",
       "    .progress-bar-interrupted, .progress-bar-interrupted::-webkit-progress-bar {\n",
       "        background: #F44336;\n",
       "    }\n",
       "</style>\n"
      ],
      "text/plain": [
       "<IPython.core.display.HTML object>"
      ]
     },
     "metadata": {},
     "output_type": "display_data"
    },
    {
     "data": {
      "text/html": [
       "<table border=\"1\" class=\"dataframe\">\n",
       "  <thead>\n",
       "    <tr style=\"text-align: left;\">\n",
       "      <th>epoch</th>\n",
       "      <th>train_loss</th>\n",
       "      <th>valid_loss</th>\n",
       "      <th>accuracy</th>\n",
       "      <th>f1_score</th>\n",
       "      <th>roc_auc_score</th>\n",
       "      <th>brier_score_loss</th>\n",
       "      <th>time</th>\n",
       "    </tr>\n",
       "  </thead>\n",
       "  <tbody>\n",
       "    <tr>\n",
       "      <td>0</td>\n",
       "      <td>0.000035</td>\n",
       "      <td>0.000028</td>\n",
       "      <td>0.999750</td>\n",
       "      <td>0.997921</td>\n",
       "      <td>1.000000</td>\n",
       "      <td>0.000250</td>\n",
       "      <td>00:51</td>\n",
       "    </tr>\n",
       "  </tbody>\n",
       "</table>"
      ],
      "text/plain": [
       "<IPython.core.display.HTML object>"
      ]
     },
     "metadata": {},
     "output_type": "display_data"
    },
    {
     "name": "stdout",
     "output_type": "stream",
     "text": [
      "TRAIN: [    0     1     2 ... 79997 79998 79999] VALID: [    6    12    14 ... 79983 79991 79995]\n",
      "TensorCategory(0.0469, device='cuda:0')\n",
      "TensorCategory(0.0156, device='cuda:0')\n",
      "TensorCategory(0.0938, device='cuda:0')\n",
      "TensorCategory(0.0781, device='cuda:0')\n",
      "TensorCategory(0.0938, device='cuda:0')\n",
      "TensorCategory(0.0781, device='cuda:0')\n",
      "TensorCategory(0.0312, device='cuda:0')\n",
      "TensorCategory(0.0625, device='cuda:0')\n",
      "TensorCategory(0.0625, device='cuda:0')\n",
      "TensorCategory(0., device='cuda:0')\n",
      "Random state set:1, cuda used: True\n"
     ]
    },
    {
     "data": {
      "text/html": [
       "\n",
       "<style>\n",
       "    /* Turns off some styling */\n",
       "    progress {\n",
       "        /* gets rid of default border in Firefox and Opera. */\n",
       "        border: none;\n",
       "        /* Needs to be in here for Safari polyfill so background images work as expected. */\n",
       "        background-size: auto;\n",
       "    }\n",
       "    progress:not([value]), progress:not([value])::-webkit-progress-bar {\n",
       "        background: repeating-linear-gradient(45deg, #7e7e7e, #7e7e7e 10px, #5c5c5c 10px, #5c5c5c 20px);\n",
       "    }\n",
       "    .progress-bar-interrupted, .progress-bar-interrupted::-webkit-progress-bar {\n",
       "        background: #F44336;\n",
       "    }\n",
       "</style>\n"
      ],
      "text/plain": [
       "<IPython.core.display.HTML object>"
      ]
     },
     "metadata": {},
     "output_type": "display_data"
    },
    {
     "data": {
      "text/html": [
       "<table border=\"1\" class=\"dataframe\">\n",
       "  <thead>\n",
       "    <tr style=\"text-align: left;\">\n",
       "      <th>epoch</th>\n",
       "      <th>train_loss</th>\n",
       "      <th>valid_loss</th>\n",
       "      <th>accuracy</th>\n",
       "      <th>f1_score</th>\n",
       "      <th>roc_auc_score</th>\n",
       "      <th>brier_score_loss</th>\n",
       "      <th>time</th>\n",
       "    </tr>\n",
       "  </thead>\n",
       "  <tbody>\n",
       "    <tr>\n",
       "      <td>0</td>\n",
       "      <td>0.000070</td>\n",
       "      <td>0.000026</td>\n",
       "      <td>0.999937</td>\n",
       "      <td>0.999481</td>\n",
       "      <td>1.000000</td>\n",
       "      <td>0.000063</td>\n",
       "      <td>00:50</td>\n",
       "    </tr>\n",
       "  </tbody>\n",
       "</table>"
      ],
      "text/plain": [
       "<IPython.core.display.HTML object>"
      ]
     },
     "metadata": {},
     "output_type": "display_data"
    },
    {
     "name": "stdout",
     "output_type": "stream",
     "text": [
      "TRAIN: [    0     2     4 ... 79997 79998 79999] VALID: [    1     3     7 ... 79970 79992 79993]\n",
      "TensorCategory(0.0938, device='cuda:0')\n",
      "TensorCategory(0.0625, device='cuda:0')\n",
      "TensorCategory(0.0312, device='cuda:0')\n",
      "TensorCategory(0.0781, device='cuda:0')\n",
      "TensorCategory(0.1250, device='cuda:0')\n",
      "TensorCategory(0.0312, device='cuda:0')\n",
      "TensorCategory(0.1094, device='cuda:0')\n",
      "TensorCategory(0.0938, device='cuda:0')\n",
      "TensorCategory(0.0312, device='cuda:0')\n",
      "TensorCategory(0.0469, device='cuda:0')\n",
      "Random state set:1, cuda used: True\n"
     ]
    },
    {
     "data": {
      "text/html": [
       "\n",
       "<style>\n",
       "    /* Turns off some styling */\n",
       "    progress {\n",
       "        /* gets rid of default border in Firefox and Opera. */\n",
       "        border: none;\n",
       "        /* Needs to be in here for Safari polyfill so background images work as expected. */\n",
       "        background-size: auto;\n",
       "    }\n",
       "    progress:not([value]), progress:not([value])::-webkit-progress-bar {\n",
       "        background: repeating-linear-gradient(45deg, #7e7e7e, #7e7e7e 10px, #5c5c5c 10px, #5c5c5c 20px);\n",
       "    }\n",
       "    .progress-bar-interrupted, .progress-bar-interrupted::-webkit-progress-bar {\n",
       "        background: #F44336;\n",
       "    }\n",
       "</style>\n"
      ],
      "text/plain": [
       "<IPython.core.display.HTML object>"
      ]
     },
     "metadata": {},
     "output_type": "display_data"
    },
    {
     "data": {
      "text/html": [
       "<table border=\"1\" class=\"dataframe\">\n",
       "  <thead>\n",
       "    <tr style=\"text-align: left;\">\n",
       "      <th>epoch</th>\n",
       "      <th>train_loss</th>\n",
       "      <th>valid_loss</th>\n",
       "      <th>accuracy</th>\n",
       "      <th>f1_score</th>\n",
       "      <th>roc_auc_score</th>\n",
       "      <th>brier_score_loss</th>\n",
       "      <th>time</th>\n",
       "    </tr>\n",
       "  </thead>\n",
       "  <tbody>\n",
       "    <tr>\n",
       "      <td>0</td>\n",
       "      <td>0.000071</td>\n",
       "      <td>0.000021</td>\n",
       "      <td>0.999937</td>\n",
       "      <td>0.999481</td>\n",
       "      <td>1.000000</td>\n",
       "      <td>0.000063</td>\n",
       "      <td>00:54</td>\n",
       "    </tr>\n",
       "  </tbody>\n",
       "</table>"
      ],
      "text/plain": [
       "<IPython.core.display.HTML object>"
      ]
     },
     "metadata": {},
     "output_type": "display_data"
    },
    {
     "name": "stdout",
     "output_type": "stream",
     "text": [
      "TRAIN: [    1     2     3 ... 79995 79998 79999] VALID: [    0     5    11 ... 79990 79996 79997]\n",
      "TensorCategory(0.0625, device='cuda:0')\n",
      "TensorCategory(0.0781, device='cuda:0')\n",
      "TensorCategory(0.0781, device='cuda:0')\n",
      "TensorCategory(0.0312, device='cuda:0')\n",
      "TensorCategory(0.0156, device='cuda:0')\n",
      "TensorCategory(0.0469, device='cuda:0')\n",
      "TensorCategory(0.0938, device='cuda:0')\n",
      "TensorCategory(0.0312, device='cuda:0')\n",
      "TensorCategory(0.1562, device='cuda:0')\n",
      "TensorCategory(0.0938, device='cuda:0')\n",
      "Random state set:1, cuda used: True\n"
     ]
    },
    {
     "data": {
      "text/html": [
       "\n",
       "<style>\n",
       "    /* Turns off some styling */\n",
       "    progress {\n",
       "        /* gets rid of default border in Firefox and Opera. */\n",
       "        border: none;\n",
       "        /* Needs to be in here for Safari polyfill so background images work as expected. */\n",
       "        background-size: auto;\n",
       "    }\n",
       "    progress:not([value]), progress:not([value])::-webkit-progress-bar {\n",
       "        background: repeating-linear-gradient(45deg, #7e7e7e, #7e7e7e 10px, #5c5c5c 10px, #5c5c5c 20px);\n",
       "    }\n",
       "    .progress-bar-interrupted, .progress-bar-interrupted::-webkit-progress-bar {\n",
       "        background: #F44336;\n",
       "    }\n",
       "</style>\n"
      ],
      "text/plain": [
       "<IPython.core.display.HTML object>"
      ]
     },
     "metadata": {},
     "output_type": "display_data"
    },
    {
     "data": {
      "text/html": [
       "<table border=\"1\" class=\"dataframe\">\n",
       "  <thead>\n",
       "    <tr style=\"text-align: left;\">\n",
       "      <th>epoch</th>\n",
       "      <th>train_loss</th>\n",
       "      <th>valid_loss</th>\n",
       "      <th>accuracy</th>\n",
       "      <th>f1_score</th>\n",
       "      <th>roc_auc_score</th>\n",
       "      <th>brier_score_loss</th>\n",
       "      <th>time</th>\n",
       "    </tr>\n",
       "  </thead>\n",
       "  <tbody>\n",
       "    <tr>\n",
       "      <td>0</td>\n",
       "      <td>0.000053</td>\n",
       "      <td>0.000020</td>\n",
       "      <td>0.999937</td>\n",
       "      <td>0.999481</td>\n",
       "      <td>1.000000</td>\n",
       "      <td>0.000063</td>\n",
       "      <td>00:50</td>\n",
       "    </tr>\n",
       "  </tbody>\n",
       "</table>"
      ],
      "text/plain": [
       "<IPython.core.display.HTML object>"
      ]
     },
     "metadata": {},
     "output_type": "display_data"
    },
    {
     "name": "stdout",
     "output_type": "stream",
     "text": [
      "TRAIN: [    0     1     3 ... 79995 79996 79997] VALID: [    2    10    34 ... 79989 79998 79999]\n",
      "TensorCategory(0.0312, device='cuda:0')\n",
      "TensorCategory(0.0312, device='cuda:0')\n",
      "TensorCategory(0.0938, device='cuda:0')\n",
      "TensorCategory(0.0312, device='cuda:0')\n",
      "TensorCategory(0.0469, device='cuda:0')\n",
      "TensorCategory(0.0312, device='cuda:0')\n",
      "TensorCategory(0.0469, device='cuda:0')\n",
      "TensorCategory(0.0312, device='cuda:0')\n",
      "TensorCategory(0.0781, device='cuda:0')\n",
      "TensorCategory(0.0469, device='cuda:0')\n",
      "Random state set:1, cuda used: True\n"
     ]
    },
    {
     "data": {
      "text/html": [
       "\n",
       "<style>\n",
       "    /* Turns off some styling */\n",
       "    progress {\n",
       "        /* gets rid of default border in Firefox and Opera. */\n",
       "        border: none;\n",
       "        /* Needs to be in here for Safari polyfill so background images work as expected. */\n",
       "        background-size: auto;\n",
       "    }\n",
       "    progress:not([value]), progress:not([value])::-webkit-progress-bar {\n",
       "        background: repeating-linear-gradient(45deg, #7e7e7e, #7e7e7e 10px, #5c5c5c 10px, #5c5c5c 20px);\n",
       "    }\n",
       "    .progress-bar-interrupted, .progress-bar-interrupted::-webkit-progress-bar {\n",
       "        background: #F44336;\n",
       "    }\n",
       "</style>\n"
      ],
      "text/plain": [
       "<IPython.core.display.HTML object>"
      ]
     },
     "metadata": {},
     "output_type": "display_data"
    },
    {
     "data": {
      "text/html": [
       "<table border=\"1\" class=\"dataframe\">\n",
       "  <thead>\n",
       "    <tr style=\"text-align: left;\">\n",
       "      <th>epoch</th>\n",
       "      <th>train_loss</th>\n",
       "      <th>valid_loss</th>\n",
       "      <th>accuracy</th>\n",
       "      <th>f1_score</th>\n",
       "      <th>roc_auc_score</th>\n",
       "      <th>brier_score_loss</th>\n",
       "      <th>time</th>\n",
       "    </tr>\n",
       "  </thead>\n",
       "  <tbody>\n",
       "    <tr>\n",
       "      <td>0</td>\n",
       "      <td>0.000108</td>\n",
       "      <td>0.000073</td>\n",
       "      <td>0.999625</td>\n",
       "      <td>0.996878</td>\n",
       "      <td>1.000000</td>\n",
       "      <td>0.000375</td>\n",
       "      <td>00:49</td>\n",
       "    </tr>\n",
       "  </tbody>\n",
       "</table>"
      ],
      "text/plain": [
       "<IPython.core.display.HTML object>"
      ]
     },
     "metadata": {},
     "output_type": "display_data"
    },
    {
     "name": "stderr",
     "output_type": "stream",
     "text": [
      "Best trial: 0. Best value: 1:  50%|█████     | 5/10 [30:07<30:03, 360.64s/it]"
     ]
    },
    {
     "name": "stdout",
     "output_type": "stream",
     "text": [
      "\u001b[32m[I 2023-03-28 12:42:59,146]\u001b[0m Trial 4 finished with value: 0.9999999310092844 and parameters: {'batch_size': 64, 'ESPatience': 2, 'alpha': 0.7071806008078977, 'gamma': 1.319433354762567, 'nf': 32, 'fc_dropout': 0.8421031858766468, 'conv_dropout': 0.7447523234243593, 'ks': 40, 'dilation': 2}. Best is trial 0 with value: 1.0.\u001b[0m\n",
      "TRAIN: [    0     1     2 ... 79997 79998 79999] VALID: [    4     9    18 ... 79978 79982 79994]\n",
      "TensorCategory(0.0234, device='cuda:0')\n",
      "TensorCategory(0.0625, device='cuda:0')\n",
      "TensorCategory(0.0469, device='cuda:0')\n",
      "TensorCategory(0.0547, device='cuda:0')\n",
      "TensorCategory(0.0391, device='cuda:0')\n",
      "TensorCategory(0.1172, device='cuda:0')\n",
      "TensorCategory(0.0781, device='cuda:0')\n",
      "TensorCategory(0.0156, device='cuda:0')\n",
      "TensorCategory(0.0625, device='cuda:0')\n",
      "TensorCategory(0.0625, device='cuda:0')\n",
      "Random state set:1, cuda used: True\n"
     ]
    },
    {
     "data": {
      "text/html": [
       "\n",
       "<style>\n",
       "    /* Turns off some styling */\n",
       "    progress {\n",
       "        /* gets rid of default border in Firefox and Opera. */\n",
       "        border: none;\n",
       "        /* Needs to be in here for Safari polyfill so background images work as expected. */\n",
       "        background-size: auto;\n",
       "    }\n",
       "    progress:not([value]), progress:not([value])::-webkit-progress-bar {\n",
       "        background: repeating-linear-gradient(45deg, #7e7e7e, #7e7e7e 10px, #5c5c5c 10px, #5c5c5c 20px);\n",
       "    }\n",
       "    .progress-bar-interrupted, .progress-bar-interrupted::-webkit-progress-bar {\n",
       "        background: #F44336;\n",
       "    }\n",
       "</style>\n"
      ],
      "text/plain": [
       "<IPython.core.display.HTML object>"
      ]
     },
     "metadata": {},
     "output_type": "display_data"
    },
    {
     "data": {
      "text/html": [
       "<table border=\"1\" class=\"dataframe\">\n",
       "  <thead>\n",
       "    <tr style=\"text-align: left;\">\n",
       "      <th>epoch</th>\n",
       "      <th>train_loss</th>\n",
       "      <th>valid_loss</th>\n",
       "      <th>accuracy</th>\n",
       "      <th>f1_score</th>\n",
       "      <th>roc_auc_score</th>\n",
       "      <th>brier_score_loss</th>\n",
       "      <th>time</th>\n",
       "    </tr>\n",
       "  </thead>\n",
       "  <tbody>\n",
       "    <tr>\n",
       "      <td>0</td>\n",
       "      <td>0.000016</td>\n",
       "      <td>0.000010</td>\n",
       "      <td>0.985937</td>\n",
       "      <td>0.895495</td>\n",
       "      <td>1.000000</td>\n",
       "      <td>0.014063</td>\n",
       "      <td>00:24</td>\n",
       "    </tr>\n",
       "  </tbody>\n",
       "</table>"
      ],
      "text/plain": [
       "<IPython.core.display.HTML object>"
      ]
     },
     "metadata": {},
     "output_type": "display_data"
    },
    {
     "name": "stdout",
     "output_type": "stream",
     "text": [
      "TRAIN: [    0     1     2 ... 79997 79998 79999] VALID: [    6    12    14 ... 79983 79991 79995]\n",
      "TensorCategory(0.0391, device='cuda:0')\n",
      "TensorCategory(0.0781, device='cuda:0')\n",
      "TensorCategory(0.0703, device='cuda:0')\n",
      "TensorCategory(0.1016, device='cuda:0')\n",
      "TensorCategory(0.0938, device='cuda:0')\n",
      "TensorCategory(0.0781, device='cuda:0')\n",
      "TensorCategory(0.0547, device='cuda:0')\n",
      "TensorCategory(0.0469, device='cuda:0')\n",
      "TensorCategory(0.0703, device='cuda:0')\n",
      "TensorCategory(0.0078, device='cuda:0')\n",
      "Random state set:1, cuda used: True\n"
     ]
    },
    {
     "data": {
      "text/html": [
       "\n",
       "<style>\n",
       "    /* Turns off some styling */\n",
       "    progress {\n",
       "        /* gets rid of default border in Firefox and Opera. */\n",
       "        border: none;\n",
       "        /* Needs to be in here for Safari polyfill so background images work as expected. */\n",
       "        background-size: auto;\n",
       "    }\n",
       "    progress:not([value]), progress:not([value])::-webkit-progress-bar {\n",
       "        background: repeating-linear-gradient(45deg, #7e7e7e, #7e7e7e 10px, #5c5c5c 10px, #5c5c5c 20px);\n",
       "    }\n",
       "    .progress-bar-interrupted, .progress-bar-interrupted::-webkit-progress-bar {\n",
       "        background: #F44336;\n",
       "    }\n",
       "</style>\n"
      ],
      "text/plain": [
       "<IPython.core.display.HTML object>"
      ]
     },
     "metadata": {},
     "output_type": "display_data"
    },
    {
     "data": {
      "text/html": [
       "<table border=\"1\" class=\"dataframe\">\n",
       "  <thead>\n",
       "    <tr style=\"text-align: left;\">\n",
       "      <th>epoch</th>\n",
       "      <th>train_loss</th>\n",
       "      <th>valid_loss</th>\n",
       "      <th>accuracy</th>\n",
       "      <th>f1_score</th>\n",
       "      <th>roc_auc_score</th>\n",
       "      <th>brier_score_loss</th>\n",
       "      <th>time</th>\n",
       "    </tr>\n",
       "  </thead>\n",
       "  <tbody>\n",
       "    <tr>\n",
       "      <td>0</td>\n",
       "      <td>0.000031</td>\n",
       "      <td>0.000019</td>\n",
       "      <td>0.957375</td>\n",
       "      <td>0.738697</td>\n",
       "      <td>0.999996</td>\n",
       "      <td>0.042625</td>\n",
       "      <td>00:27</td>\n",
       "    </tr>\n",
       "  </tbody>\n",
       "</table>"
      ],
      "text/plain": [
       "<IPython.core.display.HTML object>"
      ]
     },
     "metadata": {},
     "output_type": "display_data"
    },
    {
     "name": "stdout",
     "output_type": "stream",
     "text": [
      "TRAIN: [    0     2     4 ... 79997 79998 79999] VALID: [    1     3     7 ... 79970 79992 79993]\n",
      "TensorCategory(0.0781, device='cuda:0')\n",
      "TensorCategory(0.0547, device='cuda:0')\n",
      "TensorCategory(0.0625, device='cuda:0')\n",
      "TensorCategory(0.0781, device='cuda:0')\n",
      "TensorCategory(0.1016, device='cuda:0')\n",
      "TensorCategory(0.0469, device='cuda:0')\n",
      "TensorCategory(0.0781, device='cuda:0')\n",
      "TensorCategory(0.0625, device='cuda:0')\n",
      "TensorCategory(0.0234, device='cuda:0')\n",
      "TensorCategory(0.0234, device='cuda:0')\n",
      "Random state set:1, cuda used: True\n"
     ]
    },
    {
     "data": {
      "text/html": [
       "\n",
       "<style>\n",
       "    /* Turns off some styling */\n",
       "    progress {\n",
       "        /* gets rid of default border in Firefox and Opera. */\n",
       "        border: none;\n",
       "        /* Needs to be in here for Safari polyfill so background images work as expected. */\n",
       "        background-size: auto;\n",
       "    }\n",
       "    progress:not([value]), progress:not([value])::-webkit-progress-bar {\n",
       "        background: repeating-linear-gradient(45deg, #7e7e7e, #7e7e7e 10px, #5c5c5c 10px, #5c5c5c 20px);\n",
       "    }\n",
       "    .progress-bar-interrupted, .progress-bar-interrupted::-webkit-progress-bar {\n",
       "        background: #F44336;\n",
       "    }\n",
       "</style>\n"
      ],
      "text/plain": [
       "<IPython.core.display.HTML object>"
      ]
     },
     "metadata": {},
     "output_type": "display_data"
    },
    {
     "data": {
      "text/html": [
       "<table border=\"1\" class=\"dataframe\">\n",
       "  <thead>\n",
       "    <tr style=\"text-align: left;\">\n",
       "      <th>epoch</th>\n",
       "      <th>train_loss</th>\n",
       "      <th>valid_loss</th>\n",
       "      <th>accuracy</th>\n",
       "      <th>f1_score</th>\n",
       "      <th>roc_auc_score</th>\n",
       "      <th>brier_score_loss</th>\n",
       "      <th>time</th>\n",
       "    </tr>\n",
       "  </thead>\n",
       "  <tbody>\n",
       "    <tr>\n",
       "      <td>0</td>\n",
       "      <td>0.000028</td>\n",
       "      <td>0.000016</td>\n",
       "      <td>0.973562</td>\n",
       "      <td>0.820077</td>\n",
       "      <td>1.000000</td>\n",
       "      <td>0.026437</td>\n",
       "      <td>00:26</td>\n",
       "    </tr>\n",
       "  </tbody>\n",
       "</table>"
      ],
      "text/plain": [
       "<IPython.core.display.HTML object>"
      ]
     },
     "metadata": {},
     "output_type": "display_data"
    },
    {
     "name": "stdout",
     "output_type": "stream",
     "text": [
      "TRAIN: [    1     2     3 ... 79995 79998 79999] VALID: [    0     5    11 ... 79990 79996 79997]\n",
      "TensorCategory(0.0469, device='cuda:0')\n",
      "TensorCategory(0.0547, device='cuda:0')\n",
      "TensorCategory(0.0703, device='cuda:0')\n",
      "TensorCategory(0.0625, device='cuda:0')\n",
      "TensorCategory(0.0547, device='cuda:0')\n",
      "TensorCategory(0.0469, device='cuda:0')\n",
      "TensorCategory(0.0547, device='cuda:0')\n",
      "TensorCategory(0.0469, device='cuda:0')\n",
      "TensorCategory(0.1016, device='cuda:0')\n",
      "TensorCategory(0.0703, device='cuda:0')\n",
      "Random state set:1, cuda used: True\n"
     ]
    },
    {
     "data": {
      "text/html": [
       "\n",
       "<style>\n",
       "    /* Turns off some styling */\n",
       "    progress {\n",
       "        /* gets rid of default border in Firefox and Opera. */\n",
       "        border: none;\n",
       "        /* Needs to be in here for Safari polyfill so background images work as expected. */\n",
       "        background-size: auto;\n",
       "    }\n",
       "    progress:not([value]), progress:not([value])::-webkit-progress-bar {\n",
       "        background: repeating-linear-gradient(45deg, #7e7e7e, #7e7e7e 10px, #5c5c5c 10px, #5c5c5c 20px);\n",
       "    }\n",
       "    .progress-bar-interrupted, .progress-bar-interrupted::-webkit-progress-bar {\n",
       "        background: #F44336;\n",
       "    }\n",
       "</style>\n"
      ],
      "text/plain": [
       "<IPython.core.display.HTML object>"
      ]
     },
     "metadata": {},
     "output_type": "display_data"
    },
    {
     "data": {
      "text/html": [
       "<table border=\"1\" class=\"dataframe\">\n",
       "  <thead>\n",
       "    <tr style=\"text-align: left;\">\n",
       "      <th>epoch</th>\n",
       "      <th>train_loss</th>\n",
       "      <th>valid_loss</th>\n",
       "      <th>accuracy</th>\n",
       "      <th>f1_score</th>\n",
       "      <th>roc_auc_score</th>\n",
       "      <th>brier_score_loss</th>\n",
       "      <th>time</th>\n",
       "    </tr>\n",
       "  </thead>\n",
       "  <tbody>\n",
       "    <tr>\n",
       "      <td>0</td>\n",
       "      <td>0.000024</td>\n",
       "      <td>0.000014</td>\n",
       "      <td>0.970438</td>\n",
       "      <td>0.802999</td>\n",
       "      <td>0.999999</td>\n",
       "      <td>0.029562</td>\n",
       "      <td>00:26</td>\n",
       "    </tr>\n",
       "  </tbody>\n",
       "</table>"
      ],
      "text/plain": [
       "<IPython.core.display.HTML object>"
      ]
     },
     "metadata": {},
     "output_type": "display_data"
    },
    {
     "name": "stdout",
     "output_type": "stream",
     "text": [
      "TRAIN: [    0     1     3 ... 79995 79996 79997] VALID: [    2    10    34 ... 79989 79998 79999]\n",
      "TensorCategory(0.0469, device='cuda:0')\n",
      "TensorCategory(0.0391, device='cuda:0')\n",
      "TensorCategory(0.1016, device='cuda:0')\n",
      "TensorCategory(0.0703, device='cuda:0')\n",
      "TensorCategory(0.0469, device='cuda:0')\n",
      "TensorCategory(0.0625, device='cuda:0')\n",
      "TensorCategory(0.0703, device='cuda:0')\n",
      "TensorCategory(0.0234, device='cuda:0')\n",
      "TensorCategory(0.0859, device='cuda:0')\n",
      "TensorCategory(0.0312, device='cuda:0')\n",
      "Random state set:1, cuda used: True\n"
     ]
    },
    {
     "data": {
      "text/html": [
       "\n",
       "<style>\n",
       "    /* Turns off some styling */\n",
       "    progress {\n",
       "        /* gets rid of default border in Firefox and Opera. */\n",
       "        border: none;\n",
       "        /* Needs to be in here for Safari polyfill so background images work as expected. */\n",
       "        background-size: auto;\n",
       "    }\n",
       "    progress:not([value]), progress:not([value])::-webkit-progress-bar {\n",
       "        background: repeating-linear-gradient(45deg, #7e7e7e, #7e7e7e 10px, #5c5c5c 10px, #5c5c5c 20px);\n",
       "    }\n",
       "    .progress-bar-interrupted, .progress-bar-interrupted::-webkit-progress-bar {\n",
       "        background: #F44336;\n",
       "    }\n",
       "</style>\n"
      ],
      "text/plain": [
       "<IPython.core.display.HTML object>"
      ]
     },
     "metadata": {},
     "output_type": "display_data"
    },
    {
     "data": {
      "text/html": [
       "<table border=\"1\" class=\"dataframe\">\n",
       "  <thead>\n",
       "    <tr style=\"text-align: left;\">\n",
       "      <th>epoch</th>\n",
       "      <th>train_loss</th>\n",
       "      <th>valid_loss</th>\n",
       "      <th>accuracy</th>\n",
       "      <th>f1_score</th>\n",
       "      <th>roc_auc_score</th>\n",
       "      <th>brier_score_loss</th>\n",
       "      <th>time</th>\n",
       "    </tr>\n",
       "  </thead>\n",
       "  <tbody>\n",
       "    <tr>\n",
       "      <td>0</td>\n",
       "      <td>0.000020</td>\n",
       "      <td>0.000012</td>\n",
       "      <td>0.976062</td>\n",
       "      <td>0.834271</td>\n",
       "      <td>1.000000</td>\n",
       "      <td>0.023938</td>\n",
       "      <td>00:27</td>\n",
       "    </tr>\n",
       "  </tbody>\n",
       "</table>"
      ],
      "text/plain": [
       "<IPython.core.display.HTML object>"
      ]
     },
     "metadata": {},
     "output_type": "display_data"
    },
    {
     "name": "stderr",
     "output_type": "stream",
     "text": [
      "Best trial: 0. Best value: 1:  60%|██████    | 6/10 [34:02<21:12, 318.21s/it]"
     ]
    },
    {
     "name": "stdout",
     "output_type": "stream",
     "text": [
      "\u001b[32m[I 2023-03-28 12:46:54,986]\u001b[0m Trial 5 finished with value: 0.9999990617262691 and parameters: {'batch_size': 128, 'ESPatience': 2, 'alpha': 0.08979086952306481, 'gamma': 2.4443662230805643, 'nf': 32, 'fc_dropout': 0.21798576840935358, 'conv_dropout': 0.17721338080182358, 'ks': 40, 'dilation': 2}. Best is trial 0 with value: 1.0.\u001b[0m\n",
      "TRAIN: [    0     1     2 ... 79997 79998 79999] VALID: [    4     9    18 ... 79978 79982 79994]\n",
      "TensorCategory(0.0156, device='cuda:0')\n",
      "TensorCategory(0.0625, device='cuda:0')\n",
      "TensorCategory(0.0469, device='cuda:0')\n",
      "TensorCategory(0.0312, device='cuda:0')\n",
      "TensorCategory(0.0469, device='cuda:0')\n",
      "TensorCategory(0.1250, device='cuda:0')\n",
      "TensorCategory(0.0469, device='cuda:0')\n",
      "TensorCategory(0.0156, device='cuda:0')\n",
      "TensorCategory(0.0625, device='cuda:0')\n",
      "TensorCategory(0.0625, device='cuda:0')\n",
      "Random state set:1, cuda used: True\n"
     ]
    },
    {
     "data": {
      "text/html": [
       "\n",
       "<style>\n",
       "    /* Turns off some styling */\n",
       "    progress {\n",
       "        /* gets rid of default border in Firefox and Opera. */\n",
       "        border: none;\n",
       "        /* Needs to be in here for Safari polyfill so background images work as expected. */\n",
       "        background-size: auto;\n",
       "    }\n",
       "    progress:not([value]), progress:not([value])::-webkit-progress-bar {\n",
       "        background: repeating-linear-gradient(45deg, #7e7e7e, #7e7e7e 10px, #5c5c5c 10px, #5c5c5c 20px);\n",
       "    }\n",
       "    .progress-bar-interrupted, .progress-bar-interrupted::-webkit-progress-bar {\n",
       "        background: #F44336;\n",
       "    }\n",
       "</style>\n"
      ],
      "text/plain": [
       "<IPython.core.display.HTML object>"
      ]
     },
     "metadata": {},
     "output_type": "display_data"
    },
    {
     "data": {
      "text/html": [
       "<table border=\"1\" class=\"dataframe\">\n",
       "  <thead>\n",
       "    <tr style=\"text-align: left;\">\n",
       "      <th>epoch</th>\n",
       "      <th>train_loss</th>\n",
       "      <th>valid_loss</th>\n",
       "      <th>accuracy</th>\n",
       "      <th>f1_score</th>\n",
       "      <th>roc_auc_score</th>\n",
       "      <th>brier_score_loss</th>\n",
       "      <th>time</th>\n",
       "    </tr>\n",
       "  </thead>\n",
       "  <tbody>\n",
       "    <tr>\n",
       "      <td>0</td>\n",
       "      <td>0.000115</td>\n",
       "      <td>0.000108</td>\n",
       "      <td>0.939750</td>\n",
       "      <td>0.000000</td>\n",
       "      <td>0.856558</td>\n",
       "      <td>0.060250</td>\n",
       "      <td>00:56</td>\n",
       "    </tr>\n",
       "  </tbody>\n",
       "</table>"
      ],
      "text/plain": [
       "<IPython.core.display.HTML object>"
      ]
     },
     "metadata": {},
     "output_type": "display_data"
    },
    {
     "name": "stdout",
     "output_type": "stream",
     "text": [
      "TRAIN: [    0     1     2 ... 79997 79998 79999] VALID: [    6    12    14 ... 79983 79991 79995]\n",
      "TensorCategory(0.0469, device='cuda:0')\n",
      "TensorCategory(0.0156, device='cuda:0')\n",
      "TensorCategory(0.0938, device='cuda:0')\n",
      "TensorCategory(0.0781, device='cuda:0')\n",
      "TensorCategory(0.0938, device='cuda:0')\n",
      "TensorCategory(0.0781, device='cuda:0')\n",
      "TensorCategory(0.0312, device='cuda:0')\n",
      "TensorCategory(0.0625, device='cuda:0')\n",
      "TensorCategory(0.0625, device='cuda:0')\n",
      "TensorCategory(0., device='cuda:0')\n",
      "Random state set:1, cuda used: True\n"
     ]
    },
    {
     "data": {
      "text/html": [
       "\n",
       "<style>\n",
       "    /* Turns off some styling */\n",
       "    progress {\n",
       "        /* gets rid of default border in Firefox and Opera. */\n",
       "        border: none;\n",
       "        /* Needs to be in here for Safari polyfill so background images work as expected. */\n",
       "        background-size: auto;\n",
       "    }\n",
       "    progress:not([value]), progress:not([value])::-webkit-progress-bar {\n",
       "        background: repeating-linear-gradient(45deg, #7e7e7e, #7e7e7e 10px, #5c5c5c 10px, #5c5c5c 20px);\n",
       "    }\n",
       "    .progress-bar-interrupted, .progress-bar-interrupted::-webkit-progress-bar {\n",
       "        background: #F44336;\n",
       "    }\n",
       "</style>\n"
      ],
      "text/plain": [
       "<IPython.core.display.HTML object>"
      ]
     },
     "metadata": {},
     "output_type": "display_data"
    },
    {
     "data": {
      "text/html": [
       "<table border=\"1\" class=\"dataframe\">\n",
       "  <thead>\n",
       "    <tr style=\"text-align: left;\">\n",
       "      <th>epoch</th>\n",
       "      <th>train_loss</th>\n",
       "      <th>valid_loss</th>\n",
       "      <th>accuracy</th>\n",
       "      <th>f1_score</th>\n",
       "      <th>roc_auc_score</th>\n",
       "      <th>brier_score_loss</th>\n",
       "      <th>time</th>\n",
       "    </tr>\n",
       "  </thead>\n",
       "  <tbody>\n",
       "    <tr>\n",
       "      <td>0</td>\n",
       "      <td>0.000106</td>\n",
       "      <td>0.000109</td>\n",
       "      <td>0.939750</td>\n",
       "      <td>0.000000</td>\n",
       "      <td>0.860327</td>\n",
       "      <td>0.060250</td>\n",
       "      <td>00:48</td>\n",
       "    </tr>\n",
       "  </tbody>\n",
       "</table>"
      ],
      "text/plain": [
       "<IPython.core.display.HTML object>"
      ]
     },
     "metadata": {},
     "output_type": "display_data"
    },
    {
     "name": "stdout",
     "output_type": "stream",
     "text": [
      "TRAIN: [    0     2     4 ... 79997 79998 79999] VALID: [    1     3     7 ... 79970 79992 79993]\n",
      "TensorCategory(0.0938, device='cuda:0')\n",
      "TensorCategory(0.0625, device='cuda:0')\n",
      "TensorCategory(0.0312, device='cuda:0')\n",
      "TensorCategory(0.0781, device='cuda:0')\n",
      "TensorCategory(0.1250, device='cuda:0')\n",
      "TensorCategory(0.0312, device='cuda:0')\n",
      "TensorCategory(0.1094, device='cuda:0')\n",
      "TensorCategory(0.0938, device='cuda:0')\n",
      "TensorCategory(0.0312, device='cuda:0')\n",
      "TensorCategory(0.0469, device='cuda:0')\n",
      "Random state set:1, cuda used: True\n"
     ]
    },
    {
     "data": {
      "text/html": [
       "\n",
       "<style>\n",
       "    /* Turns off some styling */\n",
       "    progress {\n",
       "        /* gets rid of default border in Firefox and Opera. */\n",
       "        border: none;\n",
       "        /* Needs to be in here for Safari polyfill so background images work as expected. */\n",
       "        background-size: auto;\n",
       "    }\n",
       "    progress:not([value]), progress:not([value])::-webkit-progress-bar {\n",
       "        background: repeating-linear-gradient(45deg, #7e7e7e, #7e7e7e 10px, #5c5c5c 10px, #5c5c5c 20px);\n",
       "    }\n",
       "    .progress-bar-interrupted, .progress-bar-interrupted::-webkit-progress-bar {\n",
       "        background: #F44336;\n",
       "    }\n",
       "</style>\n"
      ],
      "text/plain": [
       "<IPython.core.display.HTML object>"
      ]
     },
     "metadata": {},
     "output_type": "display_data"
    },
    {
     "data": {
      "text/html": [
       "<table border=\"1\" class=\"dataframe\">\n",
       "  <thead>\n",
       "    <tr style=\"text-align: left;\">\n",
       "      <th>epoch</th>\n",
       "      <th>train_loss</th>\n",
       "      <th>valid_loss</th>\n",
       "      <th>accuracy</th>\n",
       "      <th>f1_score</th>\n",
       "      <th>roc_auc_score</th>\n",
       "      <th>brier_score_loss</th>\n",
       "      <th>time</th>\n",
       "    </tr>\n",
       "  </thead>\n",
       "  <tbody>\n",
       "    <tr>\n",
       "      <td>0</td>\n",
       "      <td>0.000111</td>\n",
       "      <td>0.000109</td>\n",
       "      <td>0.939750</td>\n",
       "      <td>0.000000</td>\n",
       "      <td>0.845188</td>\n",
       "      <td>0.060250</td>\n",
       "      <td>00:55</td>\n",
       "    </tr>\n",
       "  </tbody>\n",
       "</table>"
      ],
      "text/plain": [
       "<IPython.core.display.HTML object>"
      ]
     },
     "metadata": {},
     "output_type": "display_data"
    },
    {
     "name": "stdout",
     "output_type": "stream",
     "text": [
      "TRAIN: [    1     2     3 ... 79995 79998 79999] VALID: [    0     5    11 ... 79990 79996 79997]\n",
      "TensorCategory(0.0625, device='cuda:0')\n",
      "TensorCategory(0.0781, device='cuda:0')\n",
      "TensorCategory(0.0781, device='cuda:0')\n",
      "TensorCategory(0.0312, device='cuda:0')\n",
      "TensorCategory(0.0156, device='cuda:0')\n",
      "TensorCategory(0.0469, device='cuda:0')\n",
      "TensorCategory(0.0938, device='cuda:0')\n",
      "TensorCategory(0.0312, device='cuda:0')\n",
      "TensorCategory(0.1562, device='cuda:0')\n",
      "TensorCategory(0.0938, device='cuda:0')\n",
      "Random state set:1, cuda used: True\n"
     ]
    },
    {
     "data": {
      "text/html": [
       "\n",
       "<style>\n",
       "    /* Turns off some styling */\n",
       "    progress {\n",
       "        /* gets rid of default border in Firefox and Opera. */\n",
       "        border: none;\n",
       "        /* Needs to be in here for Safari polyfill so background images work as expected. */\n",
       "        background-size: auto;\n",
       "    }\n",
       "    progress:not([value]), progress:not([value])::-webkit-progress-bar {\n",
       "        background: repeating-linear-gradient(45deg, #7e7e7e, #7e7e7e 10px, #5c5c5c 10px, #5c5c5c 20px);\n",
       "    }\n",
       "    .progress-bar-interrupted, .progress-bar-interrupted::-webkit-progress-bar {\n",
       "        background: #F44336;\n",
       "    }\n",
       "</style>\n"
      ],
      "text/plain": [
       "<IPython.core.display.HTML object>"
      ]
     },
     "metadata": {},
     "output_type": "display_data"
    },
    {
     "data": {
      "text/html": [
       "<table border=\"1\" class=\"dataframe\">\n",
       "  <thead>\n",
       "    <tr style=\"text-align: left;\">\n",
       "      <th>epoch</th>\n",
       "      <th>train_loss</th>\n",
       "      <th>valid_loss</th>\n",
       "      <th>accuracy</th>\n",
       "      <th>f1_score</th>\n",
       "      <th>roc_auc_score</th>\n",
       "      <th>brier_score_loss</th>\n",
       "      <th>time</th>\n",
       "    </tr>\n",
       "  </thead>\n",
       "  <tbody>\n",
       "    <tr>\n",
       "      <td>0</td>\n",
       "      <td>0.000113</td>\n",
       "      <td>0.000109</td>\n",
       "      <td>0.939750</td>\n",
       "      <td>0.000000</td>\n",
       "      <td>0.846803</td>\n",
       "      <td>0.060250</td>\n",
       "      <td>00:55</td>\n",
       "    </tr>\n",
       "  </tbody>\n",
       "</table>"
      ],
      "text/plain": [
       "<IPython.core.display.HTML object>"
      ]
     },
     "metadata": {},
     "output_type": "display_data"
    },
    {
     "name": "stdout",
     "output_type": "stream",
     "text": [
      "TRAIN: [    0     1     3 ... 79995 79996 79997] VALID: [    2    10    34 ... 79989 79998 79999]\n",
      "TensorCategory(0.0312, device='cuda:0')\n",
      "TensorCategory(0.0312, device='cuda:0')\n",
      "TensorCategory(0.0938, device='cuda:0')\n",
      "TensorCategory(0.0312, device='cuda:0')\n",
      "TensorCategory(0.0469, device='cuda:0')\n",
      "TensorCategory(0.0312, device='cuda:0')\n",
      "TensorCategory(0.0469, device='cuda:0')\n",
      "TensorCategory(0.0312, device='cuda:0')\n",
      "TensorCategory(0.0781, device='cuda:0')\n",
      "TensorCategory(0.0469, device='cuda:0')\n",
      "Random state set:1, cuda used: True\n"
     ]
    },
    {
     "data": {
      "text/html": [
       "\n",
       "<style>\n",
       "    /* Turns off some styling */\n",
       "    progress {\n",
       "        /* gets rid of default border in Firefox and Opera. */\n",
       "        border: none;\n",
       "        /* Needs to be in here for Safari polyfill so background images work as expected. */\n",
       "        background-size: auto;\n",
       "    }\n",
       "    progress:not([value]), progress:not([value])::-webkit-progress-bar {\n",
       "        background: repeating-linear-gradient(45deg, #7e7e7e, #7e7e7e 10px, #5c5c5c 10px, #5c5c5c 20px);\n",
       "    }\n",
       "    .progress-bar-interrupted, .progress-bar-interrupted::-webkit-progress-bar {\n",
       "        background: #F44336;\n",
       "    }\n",
       "</style>\n"
      ],
      "text/plain": [
       "<IPython.core.display.HTML object>"
      ]
     },
     "metadata": {},
     "output_type": "display_data"
    },
    {
     "data": {
      "text/html": [
       "<table border=\"1\" class=\"dataframe\">\n",
       "  <thead>\n",
       "    <tr style=\"text-align: left;\">\n",
       "      <th>epoch</th>\n",
       "      <th>train_loss</th>\n",
       "      <th>valid_loss</th>\n",
       "      <th>accuracy</th>\n",
       "      <th>f1_score</th>\n",
       "      <th>roc_auc_score</th>\n",
       "      <th>brier_score_loss</th>\n",
       "      <th>time</th>\n",
       "    </tr>\n",
       "  </thead>\n",
       "  <tbody>\n",
       "    <tr>\n",
       "      <td>0</td>\n",
       "      <td>0.000107</td>\n",
       "      <td>0.000106</td>\n",
       "      <td>0.939750</td>\n",
       "      <td>0.000000</td>\n",
       "      <td>0.871910</td>\n",
       "      <td>0.060250</td>\n",
       "      <td>00:52</td>\n",
       "    </tr>\n",
       "  </tbody>\n",
       "</table>"
      ],
      "text/plain": [
       "<IPython.core.display.HTML object>"
      ]
     },
     "metadata": {},
     "output_type": "display_data"
    },
    {
     "name": "stderr",
     "output_type": "stream",
     "text": [
      "Best trial: 0. Best value: 1:  70%|███████   | 7/10 [40:15<16:48, 336.07s/it]"
     ]
    },
    {
     "name": "stdout",
     "output_type": "stream",
     "text": [
      "\u001b[32m[I 2023-03-28 12:53:07,826]\u001b[0m Trial 6 finished with value: 0.8561570695062143 and parameters: {'batch_size': 64, 'ESPatience': 6, 'alpha': 0.9564495113173804, 'gamma': 2.177602780875964, 'nf': 128, 'fc_dropout': 0.5407608361864938, 'conv_dropout': 0.8374624326697224, 'ks': 60, 'dilation': 1}. Best is trial 0 with value: 1.0.\u001b[0m\n",
      "TRAIN: [    0     1     2 ... 79997 79998 79999] VALID: [    4     9    18 ... 79978 79982 79994]\n",
      "TensorCategory(0., device='cuda:0')\n",
      "TensorCategory(0.0625, device='cuda:0')\n",
      "TensorCategory(0.0312, device='cuda:0')\n",
      "TensorCategory(0., device='cuda:0')\n",
      "TensorCategory(0.0625, device='cuda:0')\n",
      "TensorCategory(0.0625, device='cuda:0')\n",
      "TensorCategory(0.0625, device='cuda:0')\n",
      "TensorCategory(0., device='cuda:0')\n",
      "TensorCategory(0.0625, device='cuda:0')\n",
      "TensorCategory(0.0312, device='cuda:0')\n",
      "Random state set:1, cuda used: True\n"
     ]
    },
    {
     "data": {
      "text/html": [
       "\n",
       "<style>\n",
       "    /* Turns off some styling */\n",
       "    progress {\n",
       "        /* gets rid of default border in Firefox and Opera. */\n",
       "        border: none;\n",
       "        /* Needs to be in here for Safari polyfill so background images work as expected. */\n",
       "        background-size: auto;\n",
       "    }\n",
       "    progress:not([value]), progress:not([value])::-webkit-progress-bar {\n",
       "        background: repeating-linear-gradient(45deg, #7e7e7e, #7e7e7e 10px, #5c5c5c 10px, #5c5c5c 20px);\n",
       "    }\n",
       "    .progress-bar-interrupted, .progress-bar-interrupted::-webkit-progress-bar {\n",
       "        background: #F44336;\n",
       "    }\n",
       "</style>\n"
      ],
      "text/plain": [
       "<IPython.core.display.HTML object>"
      ]
     },
     "metadata": {},
     "output_type": "display_data"
    },
    {
     "data": {
      "text/html": [
       "<table border=\"1\" class=\"dataframe\">\n",
       "  <thead>\n",
       "    <tr style=\"text-align: left;\">\n",
       "      <th>epoch</th>\n",
       "      <th>train_loss</th>\n",
       "      <th>valid_loss</th>\n",
       "      <th>accuracy</th>\n",
       "      <th>f1_score</th>\n",
       "      <th>roc_auc_score</th>\n",
       "      <th>brier_score_loss</th>\n",
       "      <th>time</th>\n",
       "    </tr>\n",
       "  </thead>\n",
       "  <tbody>\n",
       "    <tr>\n",
       "      <td>0</td>\n",
       "      <td>0.000004</td>\n",
       "      <td>0.000001</td>\n",
       "      <td>1.000000</td>\n",
       "      <td>1.000000</td>\n",
       "      <td>1.000000</td>\n",
       "      <td>0.000000</td>\n",
       "      <td>01:36</td>\n",
       "    </tr>\n",
       "  </tbody>\n",
       "</table>"
      ],
      "text/plain": [
       "<IPython.core.display.HTML object>"
      ]
     },
     "metadata": {},
     "output_type": "display_data"
    },
    {
     "name": "stdout",
     "output_type": "stream",
     "text": [
      "TRAIN: [    0     1     2 ... 79997 79998 79999] VALID: [    6    12    14 ... 79983 79991 79995]\n",
      "TensorCategory(0., device='cuda:0')\n",
      "TensorCategory(0., device='cuda:0')\n",
      "TensorCategory(0.1250, device='cuda:0')\n",
      "TensorCategory(0.1250, device='cuda:0')\n",
      "TensorCategory(0.0312, device='cuda:0')\n",
      "TensorCategory(0.0938, device='cuda:0')\n",
      "TensorCategory(0.0312, device='cuda:0')\n",
      "TensorCategory(0.0625, device='cuda:0')\n",
      "TensorCategory(0.0938, device='cuda:0')\n",
      "TensorCategory(0., device='cuda:0')\n",
      "Random state set:1, cuda used: True\n"
     ]
    },
    {
     "data": {
      "text/html": [
       "\n",
       "<style>\n",
       "    /* Turns off some styling */\n",
       "    progress {\n",
       "        /* gets rid of default border in Firefox and Opera. */\n",
       "        border: none;\n",
       "        /* Needs to be in here for Safari polyfill so background images work as expected. */\n",
       "        background-size: auto;\n",
       "    }\n",
       "    progress:not([value]), progress:not([value])::-webkit-progress-bar {\n",
       "        background: repeating-linear-gradient(45deg, #7e7e7e, #7e7e7e 10px, #5c5c5c 10px, #5c5c5c 20px);\n",
       "    }\n",
       "    .progress-bar-interrupted, .progress-bar-interrupted::-webkit-progress-bar {\n",
       "        background: #F44336;\n",
       "    }\n",
       "</style>\n"
      ],
      "text/plain": [
       "<IPython.core.display.HTML object>"
      ]
     },
     "metadata": {},
     "output_type": "display_data"
    },
    {
     "data": {
      "text/html": [
       "<table border=\"1\" class=\"dataframe\">\n",
       "  <thead>\n",
       "    <tr style=\"text-align: left;\">\n",
       "      <th>epoch</th>\n",
       "      <th>train_loss</th>\n",
       "      <th>valid_loss</th>\n",
       "      <th>accuracy</th>\n",
       "      <th>f1_score</th>\n",
       "      <th>roc_auc_score</th>\n",
       "      <th>brier_score_loss</th>\n",
       "      <th>time</th>\n",
       "    </tr>\n",
       "  </thead>\n",
       "  <tbody>\n",
       "    <tr>\n",
       "      <td>0</td>\n",
       "      <td>0.000019</td>\n",
       "      <td>0.000005</td>\n",
       "      <td>0.999875</td>\n",
       "      <td>0.998962</td>\n",
       "      <td>1.000000</td>\n",
       "      <td>0.000125</td>\n",
       "      <td>01:33</td>\n",
       "    </tr>\n",
       "  </tbody>\n",
       "</table>"
      ],
      "text/plain": [
       "<IPython.core.display.HTML object>"
      ]
     },
     "metadata": {},
     "output_type": "display_data"
    },
    {
     "name": "stdout",
     "output_type": "stream",
     "text": [
      "TRAIN: [    0     2     4 ... 79997 79998 79999] VALID: [    1     3     7 ... 79970 79992 79993]\n",
      "TensorCategory(0.0625, device='cuda:0')\n",
      "TensorCategory(0.0938, device='cuda:0')\n",
      "TensorCategory(0.0625, device='cuda:0')\n",
      "TensorCategory(0.0312, device='cuda:0')\n",
      "TensorCategory(0.0938, device='cuda:0')\n",
      "TensorCategory(0.0312, device='cuda:0')\n",
      "TensorCategory(0.1875, device='cuda:0')\n",
      "TensorCategory(0.1562, device='cuda:0')\n",
      "TensorCategory(0., device='cuda:0')\n",
      "TensorCategory(0.0938, device='cuda:0')\n",
      "Random state set:1, cuda used: True\n"
     ]
    },
    {
     "data": {
      "text/html": [
       "\n",
       "<style>\n",
       "    /* Turns off some styling */\n",
       "    progress {\n",
       "        /* gets rid of default border in Firefox and Opera. */\n",
       "        border: none;\n",
       "        /* Needs to be in here for Safari polyfill so background images work as expected. */\n",
       "        background-size: auto;\n",
       "    }\n",
       "    progress:not([value]), progress:not([value])::-webkit-progress-bar {\n",
       "        background: repeating-linear-gradient(45deg, #7e7e7e, #7e7e7e 10px, #5c5c5c 10px, #5c5c5c 20px);\n",
       "    }\n",
       "    .progress-bar-interrupted, .progress-bar-interrupted::-webkit-progress-bar {\n",
       "        background: #F44336;\n",
       "    }\n",
       "</style>\n"
      ],
      "text/plain": [
       "<IPython.core.display.HTML object>"
      ]
     },
     "metadata": {},
     "output_type": "display_data"
    },
    {
     "data": {
      "text/html": [
       "<table border=\"1\" class=\"dataframe\">\n",
       "  <thead>\n",
       "    <tr style=\"text-align: left;\">\n",
       "      <th>epoch</th>\n",
       "      <th>train_loss</th>\n",
       "      <th>valid_loss</th>\n",
       "      <th>accuracy</th>\n",
       "      <th>f1_score</th>\n",
       "      <th>roc_auc_score</th>\n",
       "      <th>brier_score_loss</th>\n",
       "      <th>time</th>\n",
       "    </tr>\n",
       "  </thead>\n",
       "  <tbody>\n",
       "    <tr>\n",
       "      <td>0</td>\n",
       "      <td>0.000008</td>\n",
       "      <td>0.000003</td>\n",
       "      <td>1.000000</td>\n",
       "      <td>1.000000</td>\n",
       "      <td>1.000000</td>\n",
       "      <td>0.000000</td>\n",
       "      <td>01:34</td>\n",
       "    </tr>\n",
       "  </tbody>\n",
       "</table>"
      ],
      "text/plain": [
       "<IPython.core.display.HTML object>"
      ]
     },
     "metadata": {},
     "output_type": "display_data"
    },
    {
     "name": "stdout",
     "output_type": "stream",
     "text": [
      "TRAIN: [    1     2     3 ... 79995 79998 79999] VALID: [    0     5    11 ... 79990 79996 79997]\n",
      "TensorCategory(0.0625, device='cuda:0')\n",
      "TensorCategory(0.0938, device='cuda:0')\n",
      "TensorCategory(0.0938, device='cuda:0')\n",
      "TensorCategory(0.0625, device='cuda:0')\n",
      "TensorCategory(0., device='cuda:0')\n",
      "TensorCategory(0.0625, device='cuda:0')\n",
      "TensorCategory(0.0625, device='cuda:0')\n",
      "TensorCategory(0.0312, device='cuda:0')\n",
      "TensorCategory(0.2500, device='cuda:0')\n",
      "TensorCategory(0.0312, device='cuda:0')\n",
      "Random state set:1, cuda used: True\n"
     ]
    },
    {
     "data": {
      "text/html": [
       "\n",
       "<style>\n",
       "    /* Turns off some styling */\n",
       "    progress {\n",
       "        /* gets rid of default border in Firefox and Opera. */\n",
       "        border: none;\n",
       "        /* Needs to be in here for Safari polyfill so background images work as expected. */\n",
       "        background-size: auto;\n",
       "    }\n",
       "    progress:not([value]), progress:not([value])::-webkit-progress-bar {\n",
       "        background: repeating-linear-gradient(45deg, #7e7e7e, #7e7e7e 10px, #5c5c5c 10px, #5c5c5c 20px);\n",
       "    }\n",
       "    .progress-bar-interrupted, .progress-bar-interrupted::-webkit-progress-bar {\n",
       "        background: #F44336;\n",
       "    }\n",
       "</style>\n"
      ],
      "text/plain": [
       "<IPython.core.display.HTML object>"
      ]
     },
     "metadata": {},
     "output_type": "display_data"
    },
    {
     "data": {
      "text/html": [
       "<table border=\"1\" class=\"dataframe\">\n",
       "  <thead>\n",
       "    <tr style=\"text-align: left;\">\n",
       "      <th>epoch</th>\n",
       "      <th>train_loss</th>\n",
       "      <th>valid_loss</th>\n",
       "      <th>accuracy</th>\n",
       "      <th>f1_score</th>\n",
       "      <th>roc_auc_score</th>\n",
       "      <th>brier_score_loss</th>\n",
       "      <th>time</th>\n",
       "    </tr>\n",
       "  </thead>\n",
       "  <tbody>\n",
       "    <tr>\n",
       "      <td>0</td>\n",
       "      <td>0.000008</td>\n",
       "      <td>0.000002</td>\n",
       "      <td>1.000000</td>\n",
       "      <td>1.000000</td>\n",
       "      <td>1.000000</td>\n",
       "      <td>0.000000</td>\n",
       "      <td>01:38</td>\n",
       "    </tr>\n",
       "  </tbody>\n",
       "</table>"
      ],
      "text/plain": [
       "<IPython.core.display.HTML object>"
      ]
     },
     "metadata": {},
     "output_type": "display_data"
    },
    {
     "name": "stdout",
     "output_type": "stream",
     "text": [
      "TRAIN: [    0     1     3 ... 79995 79996 79997] VALID: [    2    10    34 ... 79989 79998 79999]\n",
      "TensorCategory(0.0312, device='cuda:0')\n",
      "TensorCategory(0.0312, device='cuda:0')\n",
      "TensorCategory(0.0938, device='cuda:0')\n",
      "TensorCategory(0., device='cuda:0')\n",
      "TensorCategory(0., device='cuda:0')\n",
      "TensorCategory(0.0312, device='cuda:0')\n",
      "TensorCategory(0.0625, device='cuda:0')\n",
      "TensorCategory(0.0312, device='cuda:0')\n",
      "TensorCategory(0.0938, device='cuda:0')\n",
      "TensorCategory(0.0625, device='cuda:0')\n",
      "Random state set:1, cuda used: True\n"
     ]
    },
    {
     "data": {
      "text/html": [
       "\n",
       "<style>\n",
       "    /* Turns off some styling */\n",
       "    progress {\n",
       "        /* gets rid of default border in Firefox and Opera. */\n",
       "        border: none;\n",
       "        /* Needs to be in here for Safari polyfill so background images work as expected. */\n",
       "        background-size: auto;\n",
       "    }\n",
       "    progress:not([value]), progress:not([value])::-webkit-progress-bar {\n",
       "        background: repeating-linear-gradient(45deg, #7e7e7e, #7e7e7e 10px, #5c5c5c 10px, #5c5c5c 20px);\n",
       "    }\n",
       "    .progress-bar-interrupted, .progress-bar-interrupted::-webkit-progress-bar {\n",
       "        background: #F44336;\n",
       "    }\n",
       "</style>\n"
      ],
      "text/plain": [
       "<IPython.core.display.HTML object>"
      ]
     },
     "metadata": {},
     "output_type": "display_data"
    },
    {
     "data": {
      "text/html": [
       "<table border=\"1\" class=\"dataframe\">\n",
       "  <thead>\n",
       "    <tr style=\"text-align: left;\">\n",
       "      <th>epoch</th>\n",
       "      <th>train_loss</th>\n",
       "      <th>valid_loss</th>\n",
       "      <th>accuracy</th>\n",
       "      <th>f1_score</th>\n",
       "      <th>roc_auc_score</th>\n",
       "      <th>brier_score_loss</th>\n",
       "      <th>time</th>\n",
       "    </tr>\n",
       "  </thead>\n",
       "  <tbody>\n",
       "    <tr>\n",
       "      <td>0</td>\n",
       "      <td>0.000007</td>\n",
       "      <td>0.000003</td>\n",
       "      <td>0.999937</td>\n",
       "      <td>0.999481</td>\n",
       "      <td>1.000000</td>\n",
       "      <td>0.000063</td>\n",
       "      <td>01:34</td>\n",
       "    </tr>\n",
       "  </tbody>\n",
       "</table>"
      ],
      "text/plain": [
       "<IPython.core.display.HTML object>"
      ]
     },
     "metadata": {},
     "output_type": "display_data"
    },
    {
     "name": "stderr",
     "output_type": "stream",
     "text": [
      "Best trial: 0. Best value: 1:  80%|████████  | 8/10 [49:58<13:48, 414.46s/it]"
     ]
    },
    {
     "name": "stdout",
     "output_type": "stream",
     "text": [
      "\u001b[32m[I 2023-03-28 13:02:50,142]\u001b[0m Trial 7 finished with value: 1.0 and parameters: {'batch_size': 32, 'ESPatience': 6, 'alpha': 0.7271520787467093, 'gamma': 1.795537624317457, 'nf': 32, 'fc_dropout': 0.8772120389443171, 'conv_dropout': 0.153740208571143, 'ks': 60, 'dilation': 1}. Best is trial 0 with value: 1.0.\u001b[0m\n",
      "TRAIN: [    0     1     2 ... 79997 79998 79999] VALID: [    4     9    18 ... 79978 79982 79994]\n",
      "TensorCategory(0.0156, device='cuda:0')\n",
      "TensorCategory(0.0625, device='cuda:0')\n",
      "TensorCategory(0.0469, device='cuda:0')\n",
      "TensorCategory(0.0312, device='cuda:0')\n",
      "TensorCategory(0.0469, device='cuda:0')\n",
      "TensorCategory(0.1250, device='cuda:0')\n",
      "TensorCategory(0.0469, device='cuda:0')\n",
      "TensorCategory(0.0156, device='cuda:0')\n",
      "TensorCategory(0.0625, device='cuda:0')\n",
      "TensorCategory(0.0625, device='cuda:0')\n",
      "Random state set:1, cuda used: True\n"
     ]
    },
    {
     "data": {
      "text/html": [
       "\n",
       "<style>\n",
       "    /* Turns off some styling */\n",
       "    progress {\n",
       "        /* gets rid of default border in Firefox and Opera. */\n",
       "        border: none;\n",
       "        /* Needs to be in here for Safari polyfill so background images work as expected. */\n",
       "        background-size: auto;\n",
       "    }\n",
       "    progress:not([value]), progress:not([value])::-webkit-progress-bar {\n",
       "        background: repeating-linear-gradient(45deg, #7e7e7e, #7e7e7e 10px, #5c5c5c 10px, #5c5c5c 20px);\n",
       "    }\n",
       "    .progress-bar-interrupted, .progress-bar-interrupted::-webkit-progress-bar {\n",
       "        background: #F44336;\n",
       "    }\n",
       "</style>\n"
      ],
      "text/plain": [
       "<IPython.core.display.HTML object>"
      ]
     },
     "metadata": {},
     "output_type": "display_data"
    },
    {
     "data": {
      "text/html": [
       "\n",
       "    <div>\n",
       "      <progress value='0' class='' max='1' style='width:300px; height:20px; vertical-align: middle;'></progress>\n",
       "      0.00% [0/1 00:00&lt;?]\n",
       "    </div>\n",
       "    \n",
       "<table border=\"1\" class=\"dataframe\">\n",
       "  <thead>\n",
       "    <tr style=\"text-align: left;\">\n",
       "      <th>epoch</th>\n",
       "      <th>train_loss</th>\n",
       "      <th>valid_loss</th>\n",
       "      <th>accuracy</th>\n",
       "      <th>f1_score</th>\n",
       "      <th>roc_auc_score</th>\n",
       "      <th>brier_score_loss</th>\n",
       "      <th>time</th>\n",
       "    </tr>\n",
       "  </thead>\n",
       "  <tbody>\n",
       "  </tbody>\n",
       "</table><p>\n",
       "\n",
       "    <div>\n",
       "      <progress value='250' class='' max='250' style='width:300px; height:20px; vertical-align: middle;'></progress>\n",
       "      100.00% [250/250 00:03&lt;00:00 nan]\n",
       "    </div>\n",
       "    "
      ],
      "text/plain": [
       "<IPython.core.display.HTML object>"
      ]
     },
     "metadata": {},
     "output_type": "display_data"
    },
    {
     "name": "stderr",
     "output_type": "stream",
     "text": [
      "Best trial: 0. Best value: 1:  80%|████████  | 8/10 [51:12<12:48, 384.12s/it]\n"
     ]
    },
    {
     "name": "stdout",
     "output_type": "stream",
     "text": [
      "\u001b[33m[W 2023-03-28 13:04:04,939]\u001b[0m Trial 8 failed with parameters: {'batch_size': 64, 'ESPatience': 6, 'alpha': 0.8721795083994259, 'gamma': 0.46065795900295803, 'nf': 96, 'fc_dropout': 0.2792945968468563, 'conv_dropout': 0.43081502201846, 'ks': 60, 'dilation': 2} because of the following error: ValueError('Exception occured in `Recorder` when calling event `after_validate`:\\n\\tInput contains NaN.').\u001b[0m\n",
      "Traceback (most recent call last):\n",
      "  File \"/home/DIDE/smishra/miniconda3/envs/hfixed/lib/python3.9/site-packages/optuna/study/_optimize.py\", line 200, in _run_trial\n",
      "    value_or_values = func(trial)\n",
      "  File \"/home/DIDE/smishra/Simulations/Simulations/MLmodel_opt_learner_neat.py\", line 282, in objective_cv\n",
      "    trial_score=objective(trial)\n",
      "  File \"/home/DIDE/smishra/Simulations/Simulations/MLmodel_opt_learner_neat.py\", line 194, in objective\n",
      "    learner.fit_one_cycle(epochs,lr_max=learning_rate_init)\n",
      "  File \"/home/DIDE/smishra/miniconda3/envs/hfixed/lib/python3.9/site-packages/fastai/callback/schedule.py\", line 119, in fit_one_cycle\n",
      "    self.fit(n_epoch, cbs=ParamScheduler(scheds)+L(cbs), reset_opt=reset_opt, wd=wd, start_epoch=start_epoch)\n",
      "  File \"/home/DIDE/smishra/miniconda3/envs/hfixed/lib/python3.9/site-packages/fastai/learner.py\", line 264, in fit\n",
      "    with self.added_cbs(cbs):\n",
      "  File \"/home/DIDE/smishra/miniconda3/envs/hfixed/lib/python3.9/site-packages/fastai/learner.py\", line 199, in _with_events\n",
      "    try: self(f'before_{event_type}');  f()\n",
      "  File \"/home/DIDE/smishra/miniconda3/envs/hfixed/lib/python3.9/site-packages/fastai/learner.py\", line 253, in _do_fit\n",
      "    ## Helen ends messing around\n",
      "  File \"/home/DIDE/smishra/miniconda3/envs/hfixed/lib/python3.9/site-packages/fastai/learner.py\", line 199, in _with_events\n",
      "    try: self(f'before_{event_type}');  f()\n",
      "  File \"/home/DIDE/smishra/miniconda3/envs/hfixed/lib/python3.9/site-packages/fastai/learner.py\", line 248, in _do_epoch\n",
      "  File \"/home/DIDE/smishra/miniconda3/envs/hfixed/lib/python3.9/site-packages/fastai/learner.py\", line 244, in _do_epoch_validate\n",
      "    with torch.no_grad(): self._with_events(self.all_batches, 'validate', CancelValidException)\n",
      "  File \"/home/DIDE/smishra/miniconda3/envs/hfixed/lib/python3.9/site-packages/fastai/learner.py\", line 201, in _with_events\n",
      "    self(f'after_{event_type}');  final()\n",
      "  File \"/home/DIDE/smishra/miniconda3/envs/hfixed/lib/python3.9/site-packages/fastai/learner.py\", line 172, in __call__\n",
      "    def __call__(self, event_name): L(event_name).map(self._call_one)\n",
      "  File \"/home/DIDE/smishra/miniconda3/envs/hfixed/lib/python3.9/site-packages/fastcore/foundation.py\", line 156, in map\n",
      "    def map(self, f, *args, **kwargs): return self._new(map_ex(self, f, *args, gen=False, **kwargs))\n",
      "  File \"/home/DIDE/smishra/miniconda3/envs/hfixed/lib/python3.9/site-packages/fastcore/basics.py\", line 840, in map_ex\n",
      "    return list(res)\n",
      "  File \"/home/DIDE/smishra/miniconda3/envs/hfixed/lib/python3.9/site-packages/fastcore/basics.py\", line 825, in __call__\n",
      "    return self.func(*fargs, **kwargs)\n",
      "  File \"/home/DIDE/smishra/miniconda3/envs/hfixed/lib/python3.9/site-packages/fastai/learner.py\", line 176, in _call_one\n",
      "    for cb in self.cbs.sorted('order'): cb(event_name)\n",
      "  File \"/home/DIDE/smishra/miniconda3/envs/hfixed/lib/python3.9/site-packages/fastai/callback/core.py\", line 62, in __call__\n",
      "    except Exception as e: raise modify_exception(e, f'Exception occured in `{self.__class__.__name__}` when calling event `{event_name}`:\\n\\t{e.args[0]}', replace=True)\n",
      "  File \"/home/DIDE/smishra/miniconda3/envs/hfixed/lib/python3.9/site-packages/fastai/callback/core.py\", line 60, in __call__\n",
      "    try: res = getcallable(self, event_name)()\n",
      "  File \"/home/DIDE/smishra/miniconda3/envs/hfixed/lib/python3.9/site-packages/fastai/learner.py\", line 575, in after_validate\n",
      "    if self.add_time: self.start_epoch = time.time()\n",
      "  File \"/home/DIDE/smishra/miniconda3/envs/hfixed/lib/python3.9/site-packages/fastcore/foundation.py\", line 156, in map\n",
      "    def map(self, f, *args, **kwargs): return self._new(map_ex(self, f, *args, gen=False, **kwargs))\n",
      "  File \"/home/DIDE/smishra/miniconda3/envs/hfixed/lib/python3.9/site-packages/fastcore/basics.py\", line 840, in map_ex\n",
      "    return list(res)\n",
      "  File \"/home/DIDE/smishra/miniconda3/envs/hfixed/lib/python3.9/site-packages/fastcore/basics.py\", line 825, in __call__\n",
      "    return self.func(*fargs, **kwargs)\n",
      "  File \"/home/DIDE/smishra/miniconda3/envs/hfixed/lib/python3.9/site-packages/fastai/learner.py\", line 529, in _maybe_item\n",
      "  File \"/home/DIDE/smishra/miniconda3/envs/hfixed/lib/python3.9/site-packages/fastai/metrics.py\", line 70, in value\n",
      "    \"Value of the metric using accumulated preds and targs\"\n",
      "  File \"/home/DIDE/smishra/miniconda3/envs/hfixed/lib/python3.9/site-packages/sklearn/metrics/_ranking.py\", line 551, in roc_auc_score\n",
      "    y_score = check_array(y_score, ensure_2d=False)\n",
      "  File \"/home/DIDE/smishra/miniconda3/envs/hfixed/lib/python3.9/site-packages/sklearn/utils/validation.py\", line 921, in check_array\n",
      "    _assert_all_finite(\n",
      "  File \"/home/DIDE/smishra/miniconda3/envs/hfixed/lib/python3.9/site-packages/sklearn/utils/validation.py\", line 161, in _assert_all_finite\n",
      "    raise ValueError(msg_err)\n",
      "ValueError: Exception occured in `Recorder` when calling event `after_validate`:\n",
      "\tInput contains NaN.\n",
      "\u001b[33m[W 2023-03-28 13:04:04,944]\u001b[0m Trial 8 failed with value None.\u001b[0m\n",
      "Unexpected exception formatting exception. Falling back to standard exception\n"
     ]
    },
    {
     "name": "stderr",
     "output_type": "stream",
     "text": [
      "Traceback (most recent call last):\n",
      "  File \"/home/DIDE/smishra/miniconda3/envs/hfixed/lib/python3.9/site-packages/IPython/core/interactiveshell.py\", line 3460, in run_code\n",
      "    exec(code_obj, self.user_global_ns, self.user_ns)\n",
      "  File \"/tmp/ipykernel_8461/3813419130.py\", line 1, in <module>\n",
      "    run(name=name, model_name=model_name, randnum_split=randnum_split,epochs=epochs,num_optuna_trials=num_optuna_trials,hype=hype, imp=imp,filepath=filepath, device=device)\n",
      "  File \"/home/DIDE/smishra/Simulations/Simulations/Main_cv_learner_neat.py\", line 79, in run\n",
      "    output=Run_cv_learner.All_run(\n",
      "  File \"/home/DIDE/smishra/Simulations/Simulations/Run_cv_learner_neat.py\", line 93, in All_run\n",
      "    trial=MLmodel_opt_learner.hyperopt(\n",
      "  File \"/home/DIDE/smishra/Simulations/Simulations/MLmodel_opt_learner_neat.py\", line 300, in hyperopt\n",
      "    study.optimize(\n",
      "  File \"/home/DIDE/smishra/miniconda3/envs/hfixed/lib/python3.9/site-packages/optuna/study/study.py\", line 425, in optimize\n",
      "    _optimize(\n",
      "  File \"/home/DIDE/smishra/miniconda3/envs/hfixed/lib/python3.9/site-packages/optuna/study/_optimize.py\", line 66, in _optimize\n",
      "    _optimize_sequential(\n",
      "  File \"/home/DIDE/smishra/miniconda3/envs/hfixed/lib/python3.9/site-packages/optuna/study/_optimize.py\", line 163, in _optimize_sequential\n",
      "    frozen_trial = _run_trial(study, func, catch)\n",
      "  File \"/home/DIDE/smishra/miniconda3/envs/hfixed/lib/python3.9/site-packages/optuna/study/_optimize.py\", line 251, in _run_trial\n",
      "    raise func_err\n",
      "  File \"/home/DIDE/smishra/miniconda3/envs/hfixed/lib/python3.9/site-packages/optuna/study/_optimize.py\", line 200, in _run_trial\n",
      "    value_or_values = func(trial)\n",
      "  File \"/home/DIDE/smishra/Simulations/Simulations/MLmodel_opt_learner_neat.py\", line 282, in objective_cv\n",
      "    trial_score=objective(trial)\n",
      "  File \"/home/DIDE/smishra/Simulations/Simulations/MLmodel_opt_learner_neat.py\", line 194, in objective\n",
      "    learner.fit_one_cycle(epochs,lr_max=learning_rate_init)\n",
      "  File \"/home/DIDE/smishra/miniconda3/envs/hfixed/lib/python3.9/site-packages/fastai/callback/schedule.py\", line 119, in fit_one_cycle\n",
      "    self.fit(n_epoch, cbs=ParamScheduler(scheds)+L(cbs), reset_opt=reset_opt, wd=wd, start_epoch=start_epoch)\n",
      "  File \"/home/DIDE/smishra/miniconda3/envs/hfixed/lib/python3.9/site-packages/fastai/learner.py\", line 264, in fit\n",
      "    with self.added_cbs(cbs):\n",
      "  File \"/home/DIDE/smishra/miniconda3/envs/hfixed/lib/python3.9/site-packages/fastai/learner.py\", line 199, in _with_events\n",
      "    try: self(f'before_{event_type}');  f()\n",
      "  File \"/home/DIDE/smishra/miniconda3/envs/hfixed/lib/python3.9/site-packages/fastai/learner.py\", line 253, in _do_fit\n",
      "    ## Helen ends messing around\n",
      "  File \"/home/DIDE/smishra/miniconda3/envs/hfixed/lib/python3.9/site-packages/fastai/learner.py\", line 199, in _with_events\n",
      "    try: self(f'before_{event_type}');  f()\n",
      "  File \"/home/DIDE/smishra/miniconda3/envs/hfixed/lib/python3.9/site-packages/fastai/learner.py\", line 248, in _do_epoch\n",
      "  File \"/home/DIDE/smishra/miniconda3/envs/hfixed/lib/python3.9/site-packages/fastai/learner.py\", line 244, in _do_epoch_validate\n",
      "    with torch.no_grad(): self._with_events(self.all_batches, 'validate', CancelValidException)\n",
      "  File \"/home/DIDE/smishra/miniconda3/envs/hfixed/lib/python3.9/site-packages/fastai/learner.py\", line 201, in _with_events\n",
      "    self(f'after_{event_type}');  final()\n",
      "  File \"/home/DIDE/smishra/miniconda3/envs/hfixed/lib/python3.9/site-packages/fastai/learner.py\", line 172, in __call__\n",
      "    def __call__(self, event_name): L(event_name).map(self._call_one)\n",
      "  File \"/home/DIDE/smishra/miniconda3/envs/hfixed/lib/python3.9/site-packages/fastcore/foundation.py\", line 156, in map\n",
      "    def map(self, f, *args, **kwargs): return self._new(map_ex(self, f, *args, gen=False, **kwargs))\n",
      "  File \"/home/DIDE/smishra/miniconda3/envs/hfixed/lib/python3.9/site-packages/fastcore/basics.py\", line 840, in map_ex\n",
      "    return list(res)\n",
      "  File \"/home/DIDE/smishra/miniconda3/envs/hfixed/lib/python3.9/site-packages/fastcore/basics.py\", line 825, in __call__\n",
      "    return self.func(*fargs, **kwargs)\n",
      "  File \"/home/DIDE/smishra/miniconda3/envs/hfixed/lib/python3.9/site-packages/fastai/learner.py\", line 176, in _call_one\n",
      "    for cb in self.cbs.sorted('order'): cb(event_name)\n",
      "  File \"/home/DIDE/smishra/miniconda3/envs/hfixed/lib/python3.9/site-packages/fastai/callback/core.py\", line 62, in __call__\n",
      "    except Exception as e: raise modify_exception(e, f'Exception occured in `{self.__class__.__name__}` when calling event `{event_name}`:\\n\\t{e.args[0]}', replace=True)\n",
      "  File \"/home/DIDE/smishra/miniconda3/envs/hfixed/lib/python3.9/site-packages/fastai/callback/core.py\", line 60, in __call__\n",
      "    try: res = getcallable(self, event_name)()\n",
      "  File \"/home/DIDE/smishra/miniconda3/envs/hfixed/lib/python3.9/site-packages/fastai/learner.py\", line 575, in after_validate\n",
      "    if self.add_time: self.start_epoch = time.time()\n",
      "  File \"/home/DIDE/smishra/miniconda3/envs/hfixed/lib/python3.9/site-packages/fastcore/foundation.py\", line 156, in map\n",
      "    def map(self, f, *args, **kwargs): return self._new(map_ex(self, f, *args, gen=False, **kwargs))\n",
      "  File \"/home/DIDE/smishra/miniconda3/envs/hfixed/lib/python3.9/site-packages/fastcore/basics.py\", line 840, in map_ex\n",
      "    return list(res)\n",
      "  File \"/home/DIDE/smishra/miniconda3/envs/hfixed/lib/python3.9/site-packages/fastcore/basics.py\", line 825, in __call__\n",
      "    return self.func(*fargs, **kwargs)\n",
      "  File \"/home/DIDE/smishra/miniconda3/envs/hfixed/lib/python3.9/site-packages/fastai/learner.py\", line 529, in _maybe_item\n",
      "  File \"/home/DIDE/smishra/miniconda3/envs/hfixed/lib/python3.9/site-packages/fastai/metrics.py\", line 70, in value\n",
      "    \"Value of the metric using accumulated preds and targs\"\n",
      "  File \"/home/DIDE/smishra/miniconda3/envs/hfixed/lib/python3.9/site-packages/sklearn/metrics/_ranking.py\", line 551, in roc_auc_score\n",
      "    y_score = check_array(y_score, ensure_2d=False)\n",
      "  File \"/home/DIDE/smishra/miniconda3/envs/hfixed/lib/python3.9/site-packages/sklearn/utils/validation.py\", line 921, in check_array\n",
      "    _assert_all_finite(\n",
      "  File \"/home/DIDE/smishra/miniconda3/envs/hfixed/lib/python3.9/site-packages/sklearn/utils/validation.py\", line 161, in _assert_all_finite\n",
      "    raise ValueError(msg_err)\n",
      "ValueError: Exception occured in `Recorder` when calling event `after_validate`:\n",
      "\tInput contains NaN.\n",
      "\n",
      "During handling of the above exception, another exception occurred:\n",
      "\n",
      "Traceback (most recent call last):\n",
      "  File \"/home/DIDE/smishra/miniconda3/envs/hfixed/lib/python3.9/site-packages/IPython/core/interactiveshell.py\", line 2057, in showtraceback\n",
      "    stb = self.InteractiveTB.structured_traceback(\n",
      "  File \"/home/DIDE/smishra/miniconda3/envs/hfixed/lib/python3.9/site-packages/IPython/core/ultratb.py\", line 1288, in structured_traceback\n",
      "    return FormattedTB.structured_traceback(\n",
      "  File \"/home/DIDE/smishra/miniconda3/envs/hfixed/lib/python3.9/site-packages/IPython/core/ultratb.py\", line 1177, in structured_traceback\n",
      "    return VerboseTB.structured_traceback(\n",
      "  File \"/home/DIDE/smishra/miniconda3/envs/hfixed/lib/python3.9/site-packages/IPython/core/ultratb.py\", line 1030, in structured_traceback\n",
      "    formatted_exception = self.format_exception_as_a_whole(etype, evalue, etb, number_of_lines_of_context,\n",
      "  File \"/home/DIDE/smishra/miniconda3/envs/hfixed/lib/python3.9/site-packages/IPython/core/ultratb.py\", line 960, in format_exception_as_a_whole\n",
      "    frames.append(self.format_record(record))\n",
      "  File \"/home/DIDE/smishra/miniconda3/envs/hfixed/lib/python3.9/site-packages/IPython/core/ultratb.py\", line 870, in format_record\n",
      "    frame_info.lines, Colors, self.has_colors, lvals\n",
      "  File \"/home/DIDE/smishra/miniconda3/envs/hfixed/lib/python3.9/site-packages/IPython/core/ultratb.py\", line 704, in lines\n",
      "    return self._sd.lines\n",
      "  File \"/home/DIDE/smishra/miniconda3/envs/hfixed/lib/python3.9/site-packages/stack_data/utils.py\", line 144, in cached_property_wrapper\n",
      "    value = obj.__dict__[self.func.__name__] = self.func(obj)\n",
      "  File \"/home/DIDE/smishra/miniconda3/envs/hfixed/lib/python3.9/site-packages/stack_data/core.py\", line 734, in lines\n",
      "    pieces = self.included_pieces\n",
      "  File \"/home/DIDE/smishra/miniconda3/envs/hfixed/lib/python3.9/site-packages/stack_data/utils.py\", line 144, in cached_property_wrapper\n",
      "    value = obj.__dict__[self.func.__name__] = self.func(obj)\n",
      "  File \"/home/DIDE/smishra/miniconda3/envs/hfixed/lib/python3.9/site-packages/stack_data/core.py\", line 681, in included_pieces\n",
      "    pos = scope_pieces.index(self.executing_piece)\n",
      "  File \"/home/DIDE/smishra/miniconda3/envs/hfixed/lib/python3.9/site-packages/stack_data/utils.py\", line 144, in cached_property_wrapper\n",
      "    value = obj.__dict__[self.func.__name__] = self.func(obj)\n",
      "  File \"/home/DIDE/smishra/miniconda3/envs/hfixed/lib/python3.9/site-packages/stack_data/core.py\", line 660, in executing_piece\n",
      "    return only(\n",
      "  File \"/home/DIDE/smishra/miniconda3/envs/hfixed/lib/python3.9/site-packages/executing/executing.py\", line 190, in only\n",
      "    raise NotOneValueFound('Expected one value, found 0')\n",
      "executing.executing.NotOneValueFound: Expected one value, found 0\n"
     ]
    }
   ],
   "source": [
    "run(name=name, model_name=model_name, randnum_split=randnum_split,epochs=epochs,num_optuna_trials=num_optuna_trials,hype=hype, imp=imp,filepath=filepath, device=device)"
   ]
  },
  {
   "cell_type": "code",
   "execution_count": null,
   "metadata": {},
   "outputs": [],
   "source": []
  },
  {
   "cell_type": "code",
   "execution_count": null,
   "metadata": {},
   "outputs": [],
   "source": []
  }
 ],
 "metadata": {
  "kernelspec": {
   "display_name": "Python 3.9.7 ('hfixed')",
   "language": "python",
   "name": "python3"
  },
  "language_info": {
   "codemirror_mode": {
    "name": "ipython",
    "version": 3
   },
   "file_extension": ".py",
   "mimetype": "text/x-python",
   "name": "python",
   "nbconvert_exporter": "python",
   "pygments_lexer": "ipython3",
   "version": "3.9.7"
  },
  "orig_nbformat": 4,
  "vscode": {
   "interpreter": {
    "hash": "49878ad4e4f1bf877402e7cb66d50763bb103941cf280cde4d79fc8914f01ef8"
   }
  }
 },
 "nbformat": 4,
 "nbformat_minor": 2
}
